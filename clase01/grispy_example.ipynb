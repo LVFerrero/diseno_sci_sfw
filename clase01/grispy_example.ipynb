{
 "cells": [
  {
   "cell_type": "code",
   "execution_count": null,
   "metadata": {},
   "outputs": [],
   "source": [
    "!pip install grispy"
   ]
  },
  {
   "cell_type": "code",
   "execution_count": null,
   "metadata": {},
   "outputs": [],
   "source": [
    "import numpy as np\n",
    "import matplotlib.pyplot as plt\n",
    "from grispy import GriSPy\n",
    "\n",
    "%matplotlib widget"
   ]
  },
  {
   "cell_type": "markdown",
   "metadata": {},
   "source": [
    "## Example 1. 2D Uniform Distribution\n",
    "This example generates a 2D random uniform distribution. \\\n",
    "Periodic conditions on y-axis, or axis=1. \\\n",
    "We search for neighbors within a given radius and n-nearest neighbors."
   ]
  },
  {
   "cell_type": "code",
   "execution_count": null,
   "metadata": {},
   "outputs": [],
   "source": [
    "# Create random points and centres\n",
    "Npoints = 10_000\n",
    "Ncentres = 2\n",
    "dim = 2\n",
    "Lbox = 100.0\n",
    "\n",
    "np.random.seed(2)\n",
    "data = np.random.uniform(0, Lbox, size=(Npoints, dim))\n",
    "centres = np.random.uniform(0, Lbox, size=(Ncentres, dim))"
   ]
  },
  {
   "cell_type": "code",
   "execution_count": null,
   "metadata": {},
   "outputs": [],
   "source": [
    "# Grispy params\n",
    "upper_radii = 15.0\n",
    "lower_radii = 10.0\n",
    "n_nearest = 100\n",
    "periodic = {0: (0, Lbox), 1: (0, Lbox)}"
   ]
  },
  {
   "cell_type": "markdown",
   "metadata": {},
   "source": [
    "### Build the grid with your data"
   ]
  },
  {
   "cell_type": "code",
   "execution_count": null,
   "metadata": {},
   "outputs": [],
   "source": [
    "gsp = GriSPy(data, periodic=periodic)\n",
    "print(gsp)"
   ]
  },
  {
   "cell_type": "markdown",
   "metadata": {},
   "source": [
    "### Query for neighbors and Plot"
   ]
  },
  {
   "cell_type": "code",
   "execution_count": null,
   "metadata": {},
   "outputs": [],
   "source": [
    "# Query for neighbors within upper_radii\n",
    "bubble_dist, bubble_ind = gsp.bubble_neighbors(\n",
    "    centres, distance_upper_bound=upper_radii\n",
    ")\n",
    "\n",
    "# Query for neighbors in a shell within lower_radii and upper_radii\n",
    "shell_dist, shell_ind = gsp.shell_neighbors(\n",
    "    centres, distance_lower_bound=lower_radii, distance_upper_bound=upper_radii\n",
    ")\n",
    "\n",
    "# Query for nth nearest neighbors\n",
    "near_dist, near_ind = gsp.nearest_neighbors(centres, n=n_nearest)"
   ]
  },
  {
   "cell_type": "code",
   "execution_count": null,
   "metadata": {},
   "outputs": [],
   "source": [
    "# Plot results\n",
    "plt.figure(figsize=(10,3.2))\n",
    "\n",
    "plt.subplot(1,3,1, aspect='equal')\n",
    "plt.title(\"Bubble query\")\n",
    "plt.scatter(data[:, 0], data[:, 1], c=\"k\", marker=\".\", s=3)\n",
    "for ind in bubble_ind:\n",
    "    plt.scatter(data[ind, 0], data[ind, 1], c=\"C3\", marker=\"o\", s=5)\n",
    "plt.plot(centres[:,0],centres[:,1],'ro',ms=10)\n",
    "\n",
    "plt.subplot(1,3,2, aspect='equal')\n",
    "plt.title(\"Shell query\")\n",
    "plt.scatter(data[:, 0], data[:, 1], c=\"k\", marker=\".\", s=2)\n",
    "for ind in shell_ind:\n",
    "    plt.scatter(data[ind, 0], data[ind, 1], c=\"C2\", marker=\"o\", s=5)\n",
    "plt.plot(centres[:,0],centres[:,1],'ro',ms=10)\n",
    "\n",
    "plt.subplot(1,3,3, aspect='equal')\n",
    "plt.title(\"n-Nearest query\")\n",
    "plt.scatter(data[:, 0], data[:, 1], c=\"k\", marker=\".\", s=2)\n",
    "for ind in near_ind:\n",
    "    plt.scatter(data[ind, 0], data[ind, 1], c=\"C0\", marker=\"o\", s=5)\n",
    "plt.plot(centres[:,0],centres[:,1],'ro',ms=10)\n",
    "\n",
    "plt.tight_layout()"
   ]
  }
 ],
 "metadata": {
  "kernelspec": {
   "display_name": "Python 3",
   "language": "python",
   "name": "python3"
  },
  "language_info": {
   "codemirror_mode": {
    "name": "ipython",
    "version": 3
   },
   "file_extension": ".py",
   "mimetype": "text/x-python",
   "name": "python",
   "nbconvert_exporter": "python",
   "pygments_lexer": "ipython3",
   "version": "3.8.2"
  }
 },
 "nbformat": 4,
 "nbformat_minor": 4
}
