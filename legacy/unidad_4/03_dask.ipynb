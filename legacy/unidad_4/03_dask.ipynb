{
 "cells": [
  {
   "cell_type": "markdown",
   "metadata": {
    "slideshow": {
     "slide_type": "slide"
    }
   },
   "source": [
    "\n",
    "# Diseño de software para cómputo científico\n",
    "\n",
    "----\n",
    "\n",
    "## Unidad 4: Optimización, paralelismo, concurrencia y cómputo distribuido en alto nivel.\n"
   ]
  },
  {
   "cell_type": "markdown",
   "metadata": {
    "slideshow": {
     "slide_type": "slide"
    }
   },
   "source": [
    "## Agenda de la Unidad 4\n",
    "\n",
    "- Multithreading, Paralelismo, Concurrencia.\n",
    "- Optimización y Optimización prematura. Cuellos de botella, Legibilidad vs. Optimización.\n",
    "- Profiling.\n",
    "- Compiladores justo a tiempo (numba).\n",
    "- **Cómputo distribuido con Dask.**\n"
   ]
  },
  {
   "cell_type": "markdown",
   "metadata": {
    "slideshow": {
     "slide_type": "slide"
    }
   },
   "source": [
    "## Los imports"
   ]
  },
  {
   "cell_type": "code",
   "execution_count": 8,
   "metadata": {
    "slideshow": {
     "slide_type": "-"
    }
   },
   "outputs": [
    {
     "data": {
      "text/html": [
       "\n",
       "    <div class=\"bk-root\">\n",
       "        <a href=\"https://bokeh.pydata.org\" target=\"_blank\" class=\"bk-logo bk-logo-small bk-logo-notebook\"></a>\n",
       "        <span id=\"1001\">Loading BokehJS ...</span>\n",
       "    </div>"
      ]
     },
     "metadata": {},
     "output_type": "display_data"
    },
    {
     "data": {
      "application/javascript": [
       "\n",
       "(function(root) {\n",
       "  function now() {\n",
       "    return new Date();\n",
       "  }\n",
       "\n",
       "  var force = true;\n",
       "\n",
       "  if (typeof root._bokeh_onload_callbacks === \"undefined\" || force === true) {\n",
       "    root._bokeh_onload_callbacks = [];\n",
       "    root._bokeh_is_loading = undefined;\n",
       "  }\n",
       "\n",
       "  var JS_MIME_TYPE = 'application/javascript';\n",
       "  var HTML_MIME_TYPE = 'text/html';\n",
       "  var EXEC_MIME_TYPE = 'application/vnd.bokehjs_exec.v0+json';\n",
       "  var CLASS_NAME = 'output_bokeh rendered_html';\n",
       "\n",
       "  /**\n",
       "   * Render data to the DOM node\n",
       "   */\n",
       "  function render(props, node) {\n",
       "    var script = document.createElement(\"script\");\n",
       "    node.appendChild(script);\n",
       "  }\n",
       "\n",
       "  /**\n",
       "   * Handle when an output is cleared or removed\n",
       "   */\n",
       "  function handleClearOutput(event, handle) {\n",
       "    var cell = handle.cell;\n",
       "\n",
       "    var id = cell.output_area._bokeh_element_id;\n",
       "    var server_id = cell.output_area._bokeh_server_id;\n",
       "    // Clean up Bokeh references\n",
       "    if (id != null && id in Bokeh.index) {\n",
       "      Bokeh.index[id].model.document.clear();\n",
       "      delete Bokeh.index[id];\n",
       "    }\n",
       "\n",
       "    if (server_id !== undefined) {\n",
       "      // Clean up Bokeh references\n",
       "      var cmd = \"from bokeh.io.state import curstate; print(curstate().uuid_to_server['\" + server_id + \"'].get_sessions()[0].document.roots[0]._id)\";\n",
       "      cell.notebook.kernel.execute(cmd, {\n",
       "        iopub: {\n",
       "          output: function(msg) {\n",
       "            var id = msg.content.text.trim();\n",
       "            if (id in Bokeh.index) {\n",
       "              Bokeh.index[id].model.document.clear();\n",
       "              delete Bokeh.index[id];\n",
       "            }\n",
       "          }\n",
       "        }\n",
       "      });\n",
       "      // Destroy server and session\n",
       "      var cmd = \"import bokeh.io.notebook as ion; ion.destroy_server('\" + server_id + \"')\";\n",
       "      cell.notebook.kernel.execute(cmd);\n",
       "    }\n",
       "  }\n",
       "\n",
       "  /**\n",
       "   * Handle when a new output is added\n",
       "   */\n",
       "  function handleAddOutput(event, handle) {\n",
       "    var output_area = handle.output_area;\n",
       "    var output = handle.output;\n",
       "\n",
       "    // limit handleAddOutput to display_data with EXEC_MIME_TYPE content only\n",
       "    if ((output.output_type != \"display_data\") || (!output.data.hasOwnProperty(EXEC_MIME_TYPE))) {\n",
       "      return\n",
       "    }\n",
       "\n",
       "    var toinsert = output_area.element.find(\".\" + CLASS_NAME.split(' ')[0]);\n",
       "\n",
       "    if (output.metadata[EXEC_MIME_TYPE][\"id\"] !== undefined) {\n",
       "      toinsert[toinsert.length - 1].firstChild.textContent = output.data[JS_MIME_TYPE];\n",
       "      // store reference to embed id on output_area\n",
       "      output_area._bokeh_element_id = output.metadata[EXEC_MIME_TYPE][\"id\"];\n",
       "    }\n",
       "    if (output.metadata[EXEC_MIME_TYPE][\"server_id\"] !== undefined) {\n",
       "      var bk_div = document.createElement(\"div\");\n",
       "      bk_div.innerHTML = output.data[HTML_MIME_TYPE];\n",
       "      var script_attrs = bk_div.children[0].attributes;\n",
       "      for (var i = 0; i < script_attrs.length; i++) {\n",
       "        toinsert[toinsert.length - 1].firstChild.setAttribute(script_attrs[i].name, script_attrs[i].value);\n",
       "      }\n",
       "      // store reference to server id on output_area\n",
       "      output_area._bokeh_server_id = output.metadata[EXEC_MIME_TYPE][\"server_id\"];\n",
       "    }\n",
       "  }\n",
       "\n",
       "  function register_renderer(events, OutputArea) {\n",
       "\n",
       "    function append_mime(data, metadata, element) {\n",
       "      // create a DOM node to render to\n",
       "      var toinsert = this.create_output_subarea(\n",
       "        metadata,\n",
       "        CLASS_NAME,\n",
       "        EXEC_MIME_TYPE\n",
       "      );\n",
       "      this.keyboard_manager.register_events(toinsert);\n",
       "      // Render to node\n",
       "      var props = {data: data, metadata: metadata[EXEC_MIME_TYPE]};\n",
       "      render(props, toinsert[toinsert.length - 1]);\n",
       "      element.append(toinsert);\n",
       "      return toinsert\n",
       "    }\n",
       "\n",
       "    /* Handle when an output is cleared or removed */\n",
       "    events.on('clear_output.CodeCell', handleClearOutput);\n",
       "    events.on('delete.Cell', handleClearOutput);\n",
       "\n",
       "    /* Handle when a new output is added */\n",
       "    events.on('output_added.OutputArea', handleAddOutput);\n",
       "\n",
       "    /**\n",
       "     * Register the mime type and append_mime function with output_area\n",
       "     */\n",
       "    OutputArea.prototype.register_mime_type(EXEC_MIME_TYPE, append_mime, {\n",
       "      /* Is output safe? */\n",
       "      safe: true,\n",
       "      /* Index of renderer in `output_area.display_order` */\n",
       "      index: 0\n",
       "    });\n",
       "  }\n",
       "\n",
       "  // register the mime type if in Jupyter Notebook environment and previously unregistered\n",
       "  if (root.Jupyter !== undefined) {\n",
       "    var events = require('base/js/events');\n",
       "    var OutputArea = require('notebook/js/outputarea').OutputArea;\n",
       "\n",
       "    if (OutputArea.prototype.mime_types().indexOf(EXEC_MIME_TYPE) == -1) {\n",
       "      register_renderer(events, OutputArea);\n",
       "    }\n",
       "  }\n",
       "\n",
       "  \n",
       "  if (typeof (root._bokeh_timeout) === \"undefined\" || force === true) {\n",
       "    root._bokeh_timeout = Date.now() + 5000;\n",
       "    root._bokeh_failed_load = false;\n",
       "  }\n",
       "\n",
       "  var NB_LOAD_WARNING = {'data': {'text/html':\n",
       "     \"<div style='background-color: #fdd'>\\n\"+\n",
       "     \"<p>\\n\"+\n",
       "     \"BokehJS does not appear to have successfully loaded. If loading BokehJS from CDN, this \\n\"+\n",
       "     \"may be due to a slow or bad network connection. Possible fixes:\\n\"+\n",
       "     \"</p>\\n\"+\n",
       "     \"<ul>\\n\"+\n",
       "     \"<li>re-rerun `output_notebook()` to attempt to load from CDN again, or</li>\\n\"+\n",
       "     \"<li>use INLINE resources instead, as so:</li>\\n\"+\n",
       "     \"</ul>\\n\"+\n",
       "     \"<code>\\n\"+\n",
       "     \"from bokeh.resources import INLINE\\n\"+\n",
       "     \"output_notebook(resources=INLINE)\\n\"+\n",
       "     \"</code>\\n\"+\n",
       "     \"</div>\"}};\n",
       "\n",
       "  function display_loaded() {\n",
       "    var el = document.getElementById(\"1001\");\n",
       "    if (el != null) {\n",
       "      el.textContent = \"BokehJS is loading...\";\n",
       "    }\n",
       "    if (root.Bokeh !== undefined) {\n",
       "      if (el != null) {\n",
       "        el.textContent = \"BokehJS \" + root.Bokeh.version + \" successfully loaded.\";\n",
       "      }\n",
       "    } else if (Date.now() < root._bokeh_timeout) {\n",
       "      setTimeout(display_loaded, 100)\n",
       "    }\n",
       "  }\n",
       "\n",
       "\n",
       "  function run_callbacks() {\n",
       "    try {\n",
       "      root._bokeh_onload_callbacks.forEach(function(callback) {\n",
       "        if (callback != null)\n",
       "          callback();\n",
       "      });\n",
       "    } finally {\n",
       "      delete root._bokeh_onload_callbacks\n",
       "    }\n",
       "    console.debug(\"Bokeh: all callbacks have finished\");\n",
       "  }\n",
       "\n",
       "  function load_libs(css_urls, js_urls, callback) {\n",
       "    if (css_urls == null) css_urls = [];\n",
       "    if (js_urls == null) js_urls = [];\n",
       "\n",
       "    root._bokeh_onload_callbacks.push(callback);\n",
       "    if (root._bokeh_is_loading > 0) {\n",
       "      console.debug(\"Bokeh: BokehJS is being loaded, scheduling callback at\", now());\n",
       "      return null;\n",
       "    }\n",
       "    if (js_urls == null || js_urls.length === 0) {\n",
       "      run_callbacks();\n",
       "      return null;\n",
       "    }\n",
       "    console.debug(\"Bokeh: BokehJS not loaded, scheduling load and callback at\", now());\n",
       "    root._bokeh_is_loading = css_urls.length + js_urls.length;\n",
       "\n",
       "    function on_load() {\n",
       "      root._bokeh_is_loading--;\n",
       "      if (root._bokeh_is_loading === 0) {\n",
       "        console.debug(\"Bokeh: all BokehJS libraries/stylesheets loaded\");\n",
       "        run_callbacks()\n",
       "      }\n",
       "    }\n",
       "\n",
       "    function on_error() {\n",
       "      console.error(\"failed to load \" + url);\n",
       "    }\n",
       "\n",
       "    for (var i = 0; i < css_urls.length; i++) {\n",
       "      var url = css_urls[i];\n",
       "      const element = document.createElement(\"link\");\n",
       "      element.onload = on_load;\n",
       "      element.onerror = on_error;\n",
       "      element.rel = \"stylesheet\";\n",
       "      element.type = \"text/css\";\n",
       "      element.href = url;\n",
       "      console.debug(\"Bokeh: injecting link tag for BokehJS stylesheet: \", url);\n",
       "      document.body.appendChild(element);\n",
       "    }\n",
       "\n",
       "    for (var i = 0; i < js_urls.length; i++) {\n",
       "      var url = js_urls[i];\n",
       "      var element = document.createElement('script');\n",
       "      element.onload = on_load;\n",
       "      element.onerror = on_error;\n",
       "      element.async = false;\n",
       "      element.src = url;\n",
       "      console.debug(\"Bokeh: injecting script tag for BokehJS library: \", url);\n",
       "      document.head.appendChild(element);\n",
       "    }\n",
       "  };var element = document.getElementById(\"1001\");\n",
       "  if (element == null) {\n",
       "    console.error(\"Bokeh: ERROR: autoload.js configured with elementid '1001' but no matching script tag was found. \")\n",
       "    return false;\n",
       "  }\n",
       "\n",
       "  function inject_raw_css(css) {\n",
       "    const element = document.createElement(\"style\");\n",
       "    element.appendChild(document.createTextNode(css));\n",
       "    document.body.appendChild(element);\n",
       "  }\n",
       "\n",
       "  var js_urls = [\"https://cdn.pydata.org/bokeh/release/bokeh-1.2.0.min.js\", \"https://cdn.pydata.org/bokeh/release/bokeh-widgets-1.2.0.min.js\", \"https://cdn.pydata.org/bokeh/release/bokeh-tables-1.2.0.min.js\", \"https://cdn.pydata.org/bokeh/release/bokeh-gl-1.2.0.min.js\"];\n",
       "  var css_urls = [\"https://cdn.pydata.org/bokeh/release/bokeh-1.2.0.min.css\", \"https://cdn.pydata.org/bokeh/release/bokeh-widgets-1.2.0.min.css\", \"https://cdn.pydata.org/bokeh/release/bokeh-tables-1.2.0.min.css\"];\n",
       "\n",
       "  var inline_js = [\n",
       "    function(Bokeh) {\n",
       "      Bokeh.set_log_level(\"info\");\n",
       "    },\n",
       "    \n",
       "    function(Bokeh) {\n",
       "      \n",
       "    },\n",
       "    function(Bokeh) {} // ensure no trailing comma for IE\n",
       "  ];\n",
       "\n",
       "  function run_inline_js() {\n",
       "    \n",
       "    if ((root.Bokeh !== undefined) || (force === true)) {\n",
       "      for (var i = 0; i < inline_js.length; i++) {\n",
       "        inline_js[i].call(root, root.Bokeh);\n",
       "      }if (force === true) {\n",
       "        display_loaded();\n",
       "      }} else if (Date.now() < root._bokeh_timeout) {\n",
       "      setTimeout(run_inline_js, 100);\n",
       "    } else if (!root._bokeh_failed_load) {\n",
       "      console.log(\"Bokeh: BokehJS failed to load within specified timeout.\");\n",
       "      root._bokeh_failed_load = true;\n",
       "    } else if (force !== true) {\n",
       "      var cell = $(document.getElementById(\"1001\")).parents('.cell').data().cell;\n",
       "      cell.output_area.append_execute_result(NB_LOAD_WARNING)\n",
       "    }\n",
       "\n",
       "  }\n",
       "\n",
       "  if (root._bokeh_is_loading === 0) {\n",
       "    console.debug(\"Bokeh: BokehJS loaded, going straight to plotting\");\n",
       "    run_inline_js();\n",
       "  } else {\n",
       "    load_libs(css_urls, js_urls, function() {\n",
       "      console.debug(\"Bokeh: BokehJS plotting callback run at\", now());\n",
       "      run_inline_js();\n",
       "    });\n",
       "  }\n",
       "}(window));"
      ],
      "application/vnd.bokehjs_load.v0+json": "\n(function(root) {\n  function now() {\n    return new Date();\n  }\n\n  var force = true;\n\n  if (typeof root._bokeh_onload_callbacks === \"undefined\" || force === true) {\n    root._bokeh_onload_callbacks = [];\n    root._bokeh_is_loading = undefined;\n  }\n\n  \n\n  \n  if (typeof (root._bokeh_timeout) === \"undefined\" || force === true) {\n    root._bokeh_timeout = Date.now() + 5000;\n    root._bokeh_failed_load = false;\n  }\n\n  var NB_LOAD_WARNING = {'data': {'text/html':\n     \"<div style='background-color: #fdd'>\\n\"+\n     \"<p>\\n\"+\n     \"BokehJS does not appear to have successfully loaded. If loading BokehJS from CDN, this \\n\"+\n     \"may be due to a slow or bad network connection. Possible fixes:\\n\"+\n     \"</p>\\n\"+\n     \"<ul>\\n\"+\n     \"<li>re-rerun `output_notebook()` to attempt to load from CDN again, or</li>\\n\"+\n     \"<li>use INLINE resources instead, as so:</li>\\n\"+\n     \"</ul>\\n\"+\n     \"<code>\\n\"+\n     \"from bokeh.resources import INLINE\\n\"+\n     \"output_notebook(resources=INLINE)\\n\"+\n     \"</code>\\n\"+\n     \"</div>\"}};\n\n  function display_loaded() {\n    var el = document.getElementById(\"1001\");\n    if (el != null) {\n      el.textContent = \"BokehJS is loading...\";\n    }\n    if (root.Bokeh !== undefined) {\n      if (el != null) {\n        el.textContent = \"BokehJS \" + root.Bokeh.version + \" successfully loaded.\";\n      }\n    } else if (Date.now() < root._bokeh_timeout) {\n      setTimeout(display_loaded, 100)\n    }\n  }\n\n\n  function run_callbacks() {\n    try {\n      root._bokeh_onload_callbacks.forEach(function(callback) {\n        if (callback != null)\n          callback();\n      });\n    } finally {\n      delete root._bokeh_onload_callbacks\n    }\n    console.debug(\"Bokeh: all callbacks have finished\");\n  }\n\n  function load_libs(css_urls, js_urls, callback) {\n    if (css_urls == null) css_urls = [];\n    if (js_urls == null) js_urls = [];\n\n    root._bokeh_onload_callbacks.push(callback);\n    if (root._bokeh_is_loading > 0) {\n      console.debug(\"Bokeh: BokehJS is being loaded, scheduling callback at\", now());\n      return null;\n    }\n    if (js_urls == null || js_urls.length === 0) {\n      run_callbacks();\n      return null;\n    }\n    console.debug(\"Bokeh: BokehJS not loaded, scheduling load and callback at\", now());\n    root._bokeh_is_loading = css_urls.length + js_urls.length;\n\n    function on_load() {\n      root._bokeh_is_loading--;\n      if (root._bokeh_is_loading === 0) {\n        console.debug(\"Bokeh: all BokehJS libraries/stylesheets loaded\");\n        run_callbacks()\n      }\n    }\n\n    function on_error() {\n      console.error(\"failed to load \" + url);\n    }\n\n    for (var i = 0; i < css_urls.length; i++) {\n      var url = css_urls[i];\n      const element = document.createElement(\"link\");\n      element.onload = on_load;\n      element.onerror = on_error;\n      element.rel = \"stylesheet\";\n      element.type = \"text/css\";\n      element.href = url;\n      console.debug(\"Bokeh: injecting link tag for BokehJS stylesheet: \", url);\n      document.body.appendChild(element);\n    }\n\n    for (var i = 0; i < js_urls.length; i++) {\n      var url = js_urls[i];\n      var element = document.createElement('script');\n      element.onload = on_load;\n      element.onerror = on_error;\n      element.async = false;\n      element.src = url;\n      console.debug(\"Bokeh: injecting script tag for BokehJS library: \", url);\n      document.head.appendChild(element);\n    }\n  };var element = document.getElementById(\"1001\");\n  if (element == null) {\n    console.error(\"Bokeh: ERROR: autoload.js configured with elementid '1001' but no matching script tag was found. \")\n    return false;\n  }\n\n  function inject_raw_css(css) {\n    const element = document.createElement(\"style\");\n    element.appendChild(document.createTextNode(css));\n    document.body.appendChild(element);\n  }\n\n  var js_urls = [\"https://cdn.pydata.org/bokeh/release/bokeh-1.2.0.min.js\", \"https://cdn.pydata.org/bokeh/release/bokeh-widgets-1.2.0.min.js\", \"https://cdn.pydata.org/bokeh/release/bokeh-tables-1.2.0.min.js\", \"https://cdn.pydata.org/bokeh/release/bokeh-gl-1.2.0.min.js\"];\n  var css_urls = [\"https://cdn.pydata.org/bokeh/release/bokeh-1.2.0.min.css\", \"https://cdn.pydata.org/bokeh/release/bokeh-widgets-1.2.0.min.css\", \"https://cdn.pydata.org/bokeh/release/bokeh-tables-1.2.0.min.css\"];\n\n  var inline_js = [\n    function(Bokeh) {\n      Bokeh.set_log_level(\"info\");\n    },\n    \n    function(Bokeh) {\n      \n    },\n    function(Bokeh) {} // ensure no trailing comma for IE\n  ];\n\n  function run_inline_js() {\n    \n    if ((root.Bokeh !== undefined) || (force === true)) {\n      for (var i = 0; i < inline_js.length; i++) {\n        inline_js[i].call(root, root.Bokeh);\n      }if (force === true) {\n        display_loaded();\n      }} else if (Date.now() < root._bokeh_timeout) {\n      setTimeout(run_inline_js, 100);\n    } else if (!root._bokeh_failed_load) {\n      console.log(\"Bokeh: BokehJS failed to load within specified timeout.\");\n      root._bokeh_failed_load = true;\n    } else if (force !== true) {\n      var cell = $(document.getElementById(\"1001\")).parents('.cell').data().cell;\n      cell.output_area.append_execute_result(NB_LOAD_WARNING)\n    }\n\n  }\n\n  if (root._bokeh_is_loading === 0) {\n    console.debug(\"Bokeh: BokehJS loaded, going straight to plotting\");\n    run_inline_js();\n  } else {\n    load_libs(css_urls, js_urls, function() {\n      console.debug(\"Bokeh: BokehJS plotting callback run at\", now());\n      run_inline_js();\n    });\n  }\n}(window));"
     },
     "metadata": {},
     "output_type": "display_data"
    },
    {
     "name": "stdout",
     "output_type": "stream",
     "text": [
      "Removing old data\n",
      "Generating dask dataframe data sample...\n",
      "Removing old data\n",
      "Generating dask bag data sample...\n"
     ]
    }
   ],
   "source": [
    "%matplotlib inline\n",
    "import pandas as pd\n",
    "\n",
    "import numpy as np\n",
    "\n",
    "import matplotlib.pyplot as plt\n",
    "\n",
    "from bokeh.plotting import output_notebook\n",
    "output_notebook()\n",
    "\n",
    "from libs.dask_data_creation import generate_presentation_data\n",
    "generate_presentation_data()"
   ]
  },
  {
   "attachments": {},
   "cell_type": "markdown",
   "metadata": {
    "slideshow": {
     "slide_type": "slide"
    }
   },
   "source": [
    "## Dask\n",
    "\n",
    "![image.png](imgs/collections-schedulers.png)\n",
    "\n",
    "- Es una libreria para computacion paralela en Python.\n",
    "- Esta compuesta por dos grandes partes:\n",
    "\n",
    "    1. Por un lado tenemos la interfaz del usuario. Se usa para definir un grafo de tareas a ser ejecutadas. \n",
    "    2. Schedulers: son los encargados de ejecutar muchas funciones python en forma paralela\n"
   ]
  },
  {
   "cell_type": "markdown",
   "metadata": {
    "slideshow": {
     "slide_type": "slide"
    }
   },
   "source": [
    "## Dask\n",
    "\n",
    "#### Por qué?\n",
    "\n",
    "* API conocida\n",
    "* Se puede usar local como en cluster\n",
    "* Se integra con el ecosistema Python\n",
    "* Soporta aplicaciones complejas\n",
    "* Tiene herramientas de diagnostico bastante útiles.\n",
    "* Installen con:\n",
    "\n",
    "```bash\n",
    "$ pip install dask[complete] graphviz bokeh\n",
    "```\n"
   ]
  },
  {
   "cell_type": "markdown",
   "metadata": {
    "slideshow": {
     "slide_type": "slide"
    }
   },
   "source": [
    "## Dask Array\n",
    "\n",
    "<div style=\"float: left; margin: 30px;\"><img src=\"imgs/dask-array-black-text.svg\" width=\"600\" align=\"middle\"></div>\n"
   ]
  },
  {
   "cell_type": "markdown",
   "metadata": {
    "slideshow": {
     "slide_type": "slide"
    }
   },
   "source": [
    "## Dask Array"
   ]
  },
  {
   "cell_type": "code",
   "execution_count": 1,
   "metadata": {
    "slideshow": {
     "slide_type": "-"
    }
   },
   "outputs": [],
   "source": [
    "import dask.array as da"
   ]
  },
  {
   "cell_type": "code",
   "execution_count": 2,
   "metadata": {},
   "outputs": [
    {
     "data": {
      "text/html": [
       "<table>\n",
       "<tr>\n",
       "<td>\n",
       "<table>\n",
       "  <thead>\n",
       "    <tr><td> </td><th> Array </th><th> Chunk </th></tr>\n",
       "  </thead>\n",
       "  <tbody>\n",
       "    <tr><th> Bytes </th><td> 200 B </td> <td> 40 B </td></tr>\n",
       "    <tr><th> Shape </th><td> (25,) </td> <td> (5,) </td></tr>\n",
       "    <tr><th> Count </th><td> 5 Tasks </td><td> 5 Chunks </td></tr>\n",
       "    <tr><th> Type </th><td> int64 </td><td> numpy.ndarray </td></tr>\n",
       "  </tbody>\n",
       "</table>\n",
       "</td>\n",
       "<td>\n",
       "<svg width=\"170\" height=\"83\" style=\"stroke:rgb(0,0,0);stroke-width:1\" >\n",
       "\n",
       "  <!-- Horizontal lines -->\n",
       "  <line x1=\"0\" y1=\"0\" x2=\"120\" y2=\"0\" style=\"stroke-width:2\" />\n",
       "  <line x1=\"0\" y1=\"33\" x2=\"120\" y2=\"33\" style=\"stroke-width:2\" />\n",
       "\n",
       "  <!-- Vertical lines -->\n",
       "  <line x1=\"0\" y1=\"0\" x2=\"0\" y2=\"33\" style=\"stroke-width:2\" />\n",
       "  <line x1=\"24\" y1=\"0\" x2=\"24\" y2=\"33\" />\n",
       "  <line x1=\"48\" y1=\"0\" x2=\"48\" y2=\"33\" />\n",
       "  <line x1=\"72\" y1=\"0\" x2=\"72\" y2=\"33\" />\n",
       "  <line x1=\"96\" y1=\"0\" x2=\"96\" y2=\"33\" />\n",
       "  <line x1=\"120\" y1=\"0\" x2=\"120\" y2=\"33\" style=\"stroke-width:2\" />\n",
       "\n",
       "  <!-- Colored Rectangle -->\n",
       "  <polygon points=\"0.000000,0.000000 120.000000,0.000000 120.000000,33.133879 0.000000,33.133879\" style=\"fill:#ECB172A0;stroke-width:0\"/>\n",
       "\n",
       "  <!-- Text -->\n",
       "  <text x=\"60.000000\" y=\"53.133879\" font-size=\"1.0rem\" font-weight=\"100\" text-anchor=\"middle\" >25</text>\n",
       "  <text x=\"140.000000\" y=\"16.566940\" font-size=\"1.0rem\" font-weight=\"100\" text-anchor=\"middle\" transform=\"rotate(0,140.000000,16.566940)\">1</text>\n",
       "</svg>\n",
       "</td>\n",
       "</tr>\n",
       "</table>"
      ],
      "text/plain": [
       "dask.array<arange, shape=(25,), dtype=int64, chunksize=(5,), chunktype=numpy.ndarray>"
      ]
     },
     "execution_count": 2,
     "metadata": {},
     "output_type": "execute_result"
    }
   ],
   "source": [
    "x = da.arange(25, chunks=5)\n",
    "x"
   ]
  },
  {
   "cell_type": "code",
   "execution_count": 3,
   "metadata": {},
   "outputs": [
    {
     "data": {
      "text/html": [
       "<table>\n",
       "<tr>\n",
       "<td>\n",
       "<table>\n",
       "  <thead>\n",
       "    <tr><td> </td><th> Array </th><th> Chunk </th></tr>\n",
       "  </thead>\n",
       "  <tbody>\n",
       "    <tr><th> Bytes </th><td> 200 B </td> <td> 40 B </td></tr>\n",
       "    <tr><th> Shape </th><td> (25,) </td> <td> (5,) </td></tr>\n",
       "    <tr><th> Count </th><td> 10 Tasks </td><td> 5 Chunks </td></tr>\n",
       "    <tr><th> Type </th><td> int64 </td><td> numpy.ndarray </td></tr>\n",
       "  </tbody>\n",
       "</table>\n",
       "</td>\n",
       "<td>\n",
       "<svg width=\"170\" height=\"83\" style=\"stroke:rgb(0,0,0);stroke-width:1\" >\n",
       "\n",
       "  <!-- Horizontal lines -->\n",
       "  <line x1=\"0\" y1=\"0\" x2=\"120\" y2=\"0\" style=\"stroke-width:2\" />\n",
       "  <line x1=\"0\" y1=\"33\" x2=\"120\" y2=\"33\" style=\"stroke-width:2\" />\n",
       "\n",
       "  <!-- Vertical lines -->\n",
       "  <line x1=\"0\" y1=\"0\" x2=\"0\" y2=\"33\" style=\"stroke-width:2\" />\n",
       "  <line x1=\"24\" y1=\"0\" x2=\"24\" y2=\"33\" />\n",
       "  <line x1=\"48\" y1=\"0\" x2=\"48\" y2=\"33\" />\n",
       "  <line x1=\"72\" y1=\"0\" x2=\"72\" y2=\"33\" />\n",
       "  <line x1=\"96\" y1=\"0\" x2=\"96\" y2=\"33\" />\n",
       "  <line x1=\"120\" y1=\"0\" x2=\"120\" y2=\"33\" style=\"stroke-width:2\" />\n",
       "\n",
       "  <!-- Colored Rectangle -->\n",
       "  <polygon points=\"0.000000,0.000000 120.000000,0.000000 120.000000,33.133879 0.000000,33.133879\" style=\"fill:#ECB172A0;stroke-width:0\"/>\n",
       "\n",
       "  <!-- Text -->\n",
       "  <text x=\"60.000000\" y=\"53.133879\" font-size=\"1.0rem\" font-weight=\"100\" text-anchor=\"middle\" >25</text>\n",
       "  <text x=\"140.000000\" y=\"16.566940\" font-size=\"1.0rem\" font-weight=\"100\" text-anchor=\"middle\" transform=\"rotate(0,140.000000,16.566940)\">1</text>\n",
       "</svg>\n",
       "</td>\n",
       "</tr>\n",
       "</table>"
      ],
      "text/plain": [
       "dask.array<pow, shape=(25,), dtype=int64, chunksize=(5,), chunktype=numpy.ndarray>"
      ]
     },
     "execution_count": 3,
     "metadata": {},
     "output_type": "execute_result"
    }
   ],
   "source": [
    "y = x ** 2\n",
    "y"
   ]
  },
  {
   "cell_type": "code",
   "execution_count": 4,
   "metadata": {
    "slideshow": {
     "slide_type": "slide"
    }
   },
   "outputs": [
    {
     "data": {
      "image/png": "[encoded data removed]",
      "text/plain": [
       "<IPython.core.display.Image object>"
      ]
     },
     "execution_count": 4,
     "metadata": {},
     "output_type": "execute_result"
    }
   ],
   "source": [
    "y.visualize()"
   ]
  },
  {
   "cell_type": "code",
   "execution_count": 5,
   "metadata": {
    "slideshow": {
     "slide_type": "slide"
    }
   },
   "outputs": [
    {
     "data": {
      "text/plain": [
       "array([  0,   1,   4,   9,  16,  25,  36,  49,  64,  81, 100, 121, 144,\n",
       "       169, 196, 225, 256, 289, 324, 361, 400, 441, 484, 529, 576])"
      ]
     },
     "execution_count": 5,
     "metadata": {},
     "output_type": "execute_result"
    }
   ],
   "source": [
    "y.compute()"
   ]
  },
  {
   "cell_type": "code",
   "execution_count": 6,
   "metadata": {},
   "outputs": [
    {
     "data": {
      "text/plain": [
       "array([  0,   1,   4,   9,  16,  25,  36,  49,  64,  81, 100, 121, 144,\n",
       "       169, 196, 225, 256, 289, 324, 361, 400, 441, 484, 529, 576])"
      ]
     },
     "execution_count": 6,
     "metadata": {},
     "output_type": "execute_result"
    }
   ],
   "source": [
    "y.compute(scheduler='processes')"
   ]
  },
  {
   "cell_type": "markdown",
   "metadata": {
    "slideshow": {
     "slide_type": "slide"
    }
   },
   "source": [
    "### Numpy vs Dask\n"
   ]
  },
  {
   "cell_type": "code",
   "execution_count": 9,
   "metadata": {},
   "outputs": [
    {
     "name": "stdout",
     "output_type": "stream",
     "text": [
      "Se usaron 2.98 GB de RAM\n",
      "CPU times: user 15.7 s, sys: 580 ms, total: 16.2 s\n",
      "Wall time: 16.2 s\n"
     ]
    }
   ],
   "source": [
    "%%time\n",
    "np_data = np.random.normal(1, size=(20_000, 20_000))\n",
    "np_data[::50].mean(axis=0)\n",
    "print(\"Se usaron {:.2f} GB de RAM\".format(np_data.nbytes / 1024**3))"
   ]
  },
  {
   "cell_type": "code",
   "execution_count": 10,
   "metadata": {},
   "outputs": [
    {
     "name": "stdout",
     "output_type": "stream",
     "text": [
      "CPU times: user 32.2 s, sys: 146 ms, total: 32.3 s\n",
      "Wall time: 4.27 s\n"
     ]
    }
   ],
   "source": [
    "%%time\n",
    "da_data = da.random.normal(1, size=(20_000, 20_000), \n",
    "                           chunks=(1_000, 1_000))\n",
    "da_data[::50].mean(axis=0).compute()"
   ]
  },
  {
   "cell_type": "markdown",
   "metadata": {
    "slideshow": {
     "slide_type": "slide"
    }
   },
   "source": [
    "### Diagnostics"
   ]
  },
  {
   "cell_type": "code",
   "execution_count": 11,
   "metadata": {},
   "outputs": [],
   "source": [
    "from dask.diagnostics import (Profiler, ResourceProfiler, \n",
    "                              visualize, ProgressBar)\n",
    "\n",
    "ProgressBar().register()"
   ]
  },
  {
   "cell_type": "code",
   "execution_count": 12,
   "metadata": {
    "scrolled": false
   },
   "outputs": [
    {
     "name": "stdout",
     "output_type": "stream",
     "text": [
      "[########################################] | 100% Completed |  4.4s\n"
     ]
    },
    {
     "data": {
      "text/html": [
       "\n",
       "\n",
       "\n",
       "\n",
       "\n",
       "\n",
       "  <div class=\"bk-root\" id=\"27b53547-146d-4ef8-817b-b9a878e7a877\" data-root-id=\"1126\"></div>\n"
      ]
     },
     "metadata": {},
     "output_type": "display_data"
    },
    {
     "data": {
      "application/javascript": [
       "(function(root) {\n",
       "  function embed_document(root) {\n",
       "    \n",
       "  var docs_json = {\"0f9b3d80-ae7d-4f7a-be8b-37ae2e286547\":{\"roots\":{\"references\":[{\"attributes\":{\"children\":[{\"id\":\"1125\",\"type\":\"ToolbarBox\"},{\"id\":\"1123\",\"type\":\"GridBox\"}]},\"id\":\"1126\",\"type\":\"Column\"},{\"attributes\":{},\"id\":\"1120\",\"type\":\"UnionRenderers\"},{\"attributes\":{},\"id\":\"1121\",\"type\":\"Selection\"},{\"attributes\":{\"callback\":null,\"point_policy\":\"follow_mouse\",\"tooltips\":\"\\n    <div>\\n        <span style=\\\"font-size: 14px; font-weight: bold;\\\">Key:</span>&nbsp;\\n        <span style=\\\"font-size: 10px; font-family: Monaco, monospace;\\\">@key</span>\\n    </div>\\n    <div>\\n        <span style=\\\"font-size: 14px; font-weight: bold;\\\">Task:</span>&nbsp;\\n        <span style=\\\"font-size: 10px; font-family: Monaco, monospace;\\\">@function</span>\\n    </div>\\n    \"},\"id\":\"1022\",\"type\":\"HoverTool\"},{\"attributes\":{\"axis_label\":null,\"axis_line_color\":{\"value\":null},\"formatter\":{\"id\":\"1043\",\"type\":\"BasicTickFormatter\"},\"major_tick_line_color\":{\"value\":null},\"ticker\":{\"id\":\"1014\",\"type\":\"BasicTicker\"}},\"id\":\"1013\",\"type\":\"LinearAxis\"},{\"attributes\":{},\"id\":\"1058\",\"type\":\"BasicTicker\"},{\"attributes\":{},\"id\":\"1099\",\"type\":\"UnionRenderers\"},{\"attributes\":{},\"id\":\"1063\",\"type\":\"BasicTicker\"},{\"attributes\":{},\"id\":\"1085\",\"type\":\"BasicTickFormatter\"},{\"attributes\":{},\"id\":\"1023\",\"type\":\"SaveTool\"},{\"attributes\":{\"axis_label\":\"Time (s)\",\"formatter\":{\"id\":\"1085\",\"type\":\"BasicTickFormatter\"},\"ticker\":{\"id\":\"1058\",\"type\":\"BasicTicker\"}},\"id\":\"1057\",\"type\":\"LinearAxis\"},{\"attributes\":{\"callback\":null,\"data\":{\"color\":[\"#FDE724\",\"#FDE724\",\"#FDE724\",\"#FDE724\",\"#FDE724\",\"#FDE724\",\"#FDE724\",\"#FDE724\",\"#440154\",\"#FDE724\",\"#440154\",\"#FDE724\",\"#440154\",\"#440154\",\"#FDE724\",\"#FDE724\",\"#440154\",\"#208F8C\",\"#FDE724\",\"#440154\",\"#FDE724\",\"#440154\",\"#FDE724\",\"#440154\",\"#208F8C\",\"#FDE724\",\"#440154\",\"#FDE724\",\"#440154\",\"#FDE724\",\"#440154\",\"#FDE724\",\"#440154\",\"#208F8C\",\"#FDE724\",\"#440154\",\"#440154\",\"#FDE724\",\"#FDE724\",\"#440154\",\"#440154\",\"#FDE724\",\"#208F8C\",\"#208F8C\",\"#FDE724\",\"#440154\",\"#440154\",\"#FDE724\",\"#FDE724\",\"#440154\",\"#FDE724\",\"#440154\",\"#440154\",\"#440154\",\"#FDE724\",\"#5BC862\",\"#FDE724\",\"#3B518A\",\"#FDE724\",\"#440154\",\"#FDE724\",\"#440154\",\"#208F8C\",\"#FDE724\",\"#440154\",\"#FDE724\",\"#440154\",\"#440154\",\"#FDE724\",\"#FDE724\",\"#440154\",\"#FDE724\",\"#440154\",\"#208F8C\",\"#440154\",\"#FDE724\",\"#FDE724\",\"#440154\",\"#FDE724\",\"#440154\",\"#208F8C\",\"#FDE724\",\"#440154\",\"#FDE724\",\"#440154\",\"#440154\",\"#FDE724\",\"#440154\",\"#FDE724\",\"#FDE724\",\"#440154\",\"#FDE724\",\"#440154\",\"#440154\",\"#FDE724\",\"#208F8C\",\"#208F8C\",\"#440154\",\"#FDE724\",\"#5BC862\",\"#3B518A\",\"#FDE724\",\"#440154\",\"#FDE724\",\"#440154\",\"#FDE724\",\"#440154\",\"#FDE724\",\"#440154\",\"#208F8C\",\"#440154\",\"#FDE724\",\"#FDE724\",\"#440154\",\"#FDE724\",\"#440154\",\"#FDE724\",\"#440154\",\"#208F8C\",\"#FDE724\",\"#440154\",\"#FDE724\",\"#440154\",\"#440154\",\"#FDE724\",\"#FDE724\",\"#440154\",\"#FDE724\",\"#440154\",\"#FDE724\",\"#440154\",\"#208F8C\",\"#FDE724\",\"#440154\",\"#FDE724\",\"#440154\",\"#208F8C\",\"#208F8C\",\"#FDE724\",\"#440154\",\"#FDE724\",\"#440154\",\"#440154\",\"#FDE724\",\"#FDE724\",\"#440154\",\"#FDE724\",\"#440154\",\"#5BC862\",\"#3B518A\",\"#FDE724\",\"#440154\",\"#FDE724\",\"#440154\",\"#FDE724\",\"#440154\",\"#208F8C\",\"#FDE724\",\"#440154\",\"#FDE724\",\"#440154\",\"#FDE724\",\"#440154\",\"#FDE724\",\"#440154\",\"#208F8C\",\"#FDE724\",\"#440154\",\"#FDE724\",\"#440154\",\"#FDE724\",\"#440154\",\"#FDE724\",\"#440154\",\"#208F8C\",\"#FDE724\",\"#440154\",\"#FDE724\",\"#440154\",\"#FDE724\",\"#440154\",\"#440154\",\"#FDE724\",\"#208F8C\",\"#208F8C\",\"#FDE724\",\"#440154\",\"#FDE724\",\"#440154\",\"#FDE724\",\"#440154\",\"#FDE724\",\"#440154\",\"#5BC862\",\"#3B518A\",\"#FDE724\",\"#440154\",\"#FDE724\",\"#440154\",\"#FDE724\",\"#440154\",\"#440154\",\"#FDE724\",\"#FDE724\",\"#440154\",\"#440154\",\"#208F8C\",\"#440154\",\"#FDE724\",\"#FDE724\",\"#FDE724\",\"#440154\",\"#208F8C\",\"#FDE724\",\"#440154\",\"#FDE724\",\"#440154\",\"#FDE724\",\"#440154\",\"#FDE724\",\"#440154\",\"#208F8C\",\"#FDE724\",\"#440154\",\"#FDE724\",\"#440154\",\"#440154\",\"#FDE724\",\"#FDE724\",\"#440154\",\"#208F8C\",\"#208F8C\",\"#FDE724\",\"#440154\",\"#440154\",\"#FDE724\",\"#440154\",\"#FDE724\",\"#FDE724\",\"#440154\",\"#5BC862\",\"#440154\",\"#FDE724\",\"#3B518A\",\"#FDE724\",\"#440154\",\"#440154\",\"#FDE724\",\"#FDE724\",\"#440154\",\"#208F8C\",\"#FDE724\",\"#440154\",\"#FDE724\",\"#440154\",\"#FDE724\",\"#440154\",\"#FDE724\",\"#440154\",\"#208F8C\",\"#FDE724\",\"#440154\",\"#FDE724\",\"#440154\",\"#FDE724\",\"#440154\",\"#FDE724\",\"#440154\",\"#208F8C\",\"#FDE724\",\"#440154\",\"#FDE724\",\"#440154\",\"#440154\",\"#440154\",\"#FDE724\",\"#FDE724\",\"#208F8C\",\"#440154\",\"#FDE724\",\"#208F8C\",\"#FDE724\",\"#440154\",\"#440154\",\"#FDE724\",\"#FDE724\",\"#440154\",\"#5BC862\",\"#3B518A\",\"#FDE724\",\"#440154\",\"#FDE724\",\"#440154\",\"#FDE724\",\"#440154\",\"#FDE724\",\"#440154\",\"#440154\",\"#FDE724\",\"#208F8C\",\"#FDE724\",\"#440154\",\"#FDE724\",\"#440154\",\"#FDE724\",\"#440154\",\"#208F8C\",\"#FDE724\",\"#440154\",\"#FDE724\",\"#440154\",\"#FDE724\",\"#440154\",\"#FDE724\",\"#440154\",\"#FDE724\",\"#440154\",\"#208F8C\",\"#FDE724\",\"#440154\",\"#FDE724\",\"#440154\",\"#FDE724\",\"#440154\",\"#208F8C\",\"#208F8C\",\"#FDE724\",\"#440154\",\"#FDE724\",\"#440154\",\"#FDE724\",\"#440154\",\"#FDE724\",\"#440154\",\"#FDE724\",\"#440154\",\"#5BC862\",\"#3B518A\",\"#FDE724\",\"#440154\",\"#FDE724\",\"#440154\",\"#FDE724\",\"#440154\",\"#208F8C\",\"#FDE724\",\"#440154\",\"#FDE724\",\"#440154\",\"#FDE724\",\"#440154\",\"#FDE724\",\"#440154\",\"#440154\",\"#FDE724\",\"#208F8C\",\"#FDE724\",\"#440154\",\"#FDE724\",\"#440154\",\"#FDE724\",\"#440154\",\"#208F8C\",\"#FDE724\",\"#440154\",\"#FDE724\",\"#440154\",\"#FDE724\",\"#440154\",\"#FDE724\",\"#440154\",\"#208F8C\",\"#208F8C\",\"#FDE724\",\"#440154\",\"#FDE724\",\"#440154\",\"#FDE724\",\"#440154\",\"#FDE724\",\"#440154\",\"#5BC862\",\"#3B518A\",\"#FDE724\",\"#440154\",\"#FDE724\",\"#440154\",\"#440154\",\"#FDE724\",\"#FDE724\",\"#440154\",\"#208F8C\",\"#440154\",\"#FDE724\",\"#FDE724\",\"#440154\",\"#440154\",\"#FDE724\",\"#FDE724\",\"#440154\",\"#208F8C\",\"#FDE724\",\"#440154\",\"#FDE724\",\"#440154\",\"#FDE724\",\"#440154\",\"#FDE724\",\"#440154\",\"#208F8C\",\"#FDE724\",\"#440154\",\"#FDE724\",\"#440154\",\"#FDE724\",\"#440154\",\"#FDE724\",\"#440154\",\"#208F8C\",\"#208F8C\",\"#FDE724\",\"#440154\",\"#FDE724\",\"#440154\",\"#FDE724\",\"#440154\",\"#FDE724\",\"#440154\",\"#5BC862\",\"#3B518A\",\"#FDE724\",\"#440154\",\"#FDE724\",\"#440154\",\"#FDE724\",\"#440154\",\"#FDE724\",\"#440154\",\"#208F8C\",\"#FDE724\",\"#440154\",\"#FDE724\",\"#440154\",\"#FDE724\",\"#440154\",\"#FDE724\",\"#440154\",\"#208F8C\",\"#440154\",\"#FDE724\",\"#FDE724\",\"#440154\",\"#FDE724\",\"#440154\",\"#FDE724\",\"#440154\",\"#208F8C\",\"#FDE724\",\"#440154\",\"#FDE724\",\"#440154\",\"#FDE724\",\"#440154\",\"#FDE724\",\"#440154\",\"#208F8C\",\"#208F8C\",\"#FDE724\",\"#440154\",\"#FDE724\",\"#440154\",\"#FDE724\",\"#440154\",\"#FDE724\",\"#440154\",\"#5BC862\",\"#440154\",\"#FDE724\",\"#3B518A\",\"#FDE724\",\"#440154\",\"#FDE724\",\"#440154\",\"#FDE724\",\"#440154\",\"#208F8C\",\"#FDE724\",\"#440154\",\"#FDE724\",\"#440154\",\"#FDE724\",\"#440154\",\"#FDE724\",\"#440154\",\"#208F8C\",\"#FDE724\",\"#440154\",\"#FDE724\",\"#440154\",\"#FDE724\",\"#440154\",\"#FDE724\",\"#440154\",\"#208F8C\",\"#FDE724\",\"#440154\",\"#FDE724\",\"#440154\",\"#FDE724\",\"#440154\",\"#FDE724\",\"#440154\",\"#208F8C\",\"#208F8C\",\"#FDE724\",\"#440154\",\"#FDE724\",\"#440154\",\"#FDE724\",\"#440154\",\"#FDE724\",\"#440154\",\"#FDE724\",\"#440154\",\"#5BC862\",\"#3B518A\",\"#FDE724\",\"#440154\",\"#FDE724\",\"#440154\",\"#FDE724\",\"#440154\",\"#208F8C\",\"#FDE724\",\"#440154\",\"#FDE724\",\"#440154\",\"#FDE724\",\"#440154\",\"#FDE724\",\"#440154\",\"#208F8C\",\"#FDE724\",\"#440154\",\"#FDE724\",\"#440154\",\"#FDE724\",\"#440154\",\"#440154\",\"#FDE724\",\"#208F8C\",\"#FDE724\",\"#440154\",\"#FDE724\",\"#440154\",\"#FDE724\",\"#440154\",\"#FDE724\",\"#440154\",\"#208F8C\",\"#208F8C\",\"#FDE724\",\"#440154\",\"#FDE724\",\"#440154\",\"#FDE724\",\"#440154\",\"#FDE724\",\"#440154\",\"#5BC862\",\"#3B518A\",\"#FDE724\",\"#440154\",\"#440154\",\"#FDE724\",\"#FDE724\",\"#440154\",\"#FDE724\",\"#440154\",\"#208F8C\",\"#440154\",\"#FDE724\",\"#FDE724\",\"#440154\",\"#FDE724\",\"#440154\",\"#FDE724\",\"#440154\",\"#FDE724\",\"#440154\",\"#208F8C\",\"#FDE724\",\"#440154\",\"#FDE724\",\"#440154\",\"#FDE724\",\"#440154\",\"#208F8C\",\"#FDE724\",\"#440154\",\"#FDE724\",\"#440154\",\"#FDE724\",\"#440154\",\"#FDE724\",\"#440154\",\"#208F8C\",\"#208F8C\",\"#FDE724\",\"#440154\",\"#FDE724\",\"#440154\",\"#FDE724\",\"#440154\",\"#FDE724\",\"#440154\",\"#5BC862\",\"#3B518A\",\"#FDE724\",\"#440154\",\"#FDE724\",\"#440154\",\"#FDE724\",\"#440154\",\"#FDE724\",\"#440154\",\"#208F8C\",\"#FDE724\",\"#440154\",\"#FDE724\",\"#440154\",\"#FDE724\",\"#440154\",\"#FDE724\",\"#440154\",\"#FDE724\",\"#440154\",\"#208F8C\",\"#FDE724\",\"#440154\",\"#FDE724\",\"#440154\",\"#FDE724\",\"#440154\",\"#208F8C\",\"#FDE724\",\"#440154\",\"#FDE724\",\"#440154\",\"#440154\",\"#FDE724\",\"#FDE724\",\"#440154\",\"#208F8C\",\"#208F8C\",\"#FDE724\",\"#440154\",\"#FDE724\",\"#440154\",\"#FDE724\",\"#440154\",\"#FDE724\",\"#440154\",\"#5BC862\",\"#3B518A\",\"#FDE724\",\"#440154\",\"#FDE724\",\"#440154\",\"#FDE724\",\"#440154\",\"#FDE724\",\"#440154\",\"#208F8C\",\"#FDE724\",\"#440154\",\"#FDE724\",\"#440154\",\"#FDE724\",\"#440154\",\"#FDE724\",\"#440154\",\"#208F8C\",\"#FDE724\",\"#440154\",\"#FDE724\",\"#440154\",\"#FDE724\",\"#440154\",\"#FDE724\",\"#440154\",\"#208F8C\",\"#FDE724\",\"#440154\",\"#FDE724\",\"#440154\",\"#FDE724\",\"#440154\",\"#FDE724\",\"#440154\",\"#208F8C\",\"#208F8C\",\"#FDE724\",\"#440154\",\"#FDE724\",\"#440154\",\"#FDE724\",\"#440154\",\"#FDE724\",\"#440154\",\"#440154\",\"#FDE724\",\"#5BC862\",\"#3B518A\",\"#FDE724\",\"#440154\",\"#FDE724\",\"#440154\",\"#FDE724\",\"#440154\",\"#208F8C\",\"#FDE724\",\"#440154\",\"#FDE724\",\"#440154\",\"#FDE724\",\"#440154\",\"#FDE724\",\"#440154\",\"#208F8C\",\"#FDE724\",\"#440154\",\"#FDE724\",\"#440154\",\"#FDE724\",\"#440154\",\"#FDE724\",\"#440154\",\"#208F8C\",\"#FDE724\",\"#440154\",\"#FDE724\",\"#440154\",\"#FDE724\",\"#440154\",\"#FDE724\",\"#440154\",\"#208F8C\",\"#208F8C\",\"#FDE724\",\"#440154\",\"#440154\",\"#FDE724\",\"#FDE724\",\"#440154\",\"#FDE724\",\"#440154\",\"#5BC862\",\"#3B518A\",\"#FDE724\",\"#440154\",\"#FDE724\",\"#440154\",\"#FDE724\",\"#440154\",\"#FDE724\",\"#440154\",\"#208F8C\",\"#FDE724\",\"#440154\",\"#FDE724\",\"#440154\",\"#FDE724\",\"#440154\",\"#FDE724\",\"#440154\",\"#208F8C\",\"#FDE724\",\"#440154\",\"#FDE724\",\"#440154\",\"#FDE724\",\"#440154\",\"#FDE724\",\"#440154\",\"#FDE724\",\"#440154\",\"#208F8C\",\"#FDE724\",\"#440154\",\"#FDE724\",\"#440154\",\"#FDE724\",\"#440154\",\"#208F8C\",\"#208F8C\",\"#FDE724\",\"#440154\",\"#FDE724\",\"#440154\",\"#FDE724\",\"#440154\",\"#440154\",\"#FDE724\",\"#5BC862\",\"#3B518A\",\"#FDE724\",\"#440154\",\"#440154\",\"#FDE724\",\"#FDE724\",\"#440154\",\"#FDE724\",\"#440154\",\"#208F8C\",\"#FDE724\",\"#440154\",\"#FDE724\",\"#440154\",\"#FDE724\",\"#440154\",\"#FDE724\",\"#440154\",\"#208F8C\",\"#FDE724\",\"#440154\",\"#440154\",\"#FDE724\",\"#FDE724\",\"#440154\",\"#FDE724\",\"#440154\",\"#208F8C\",\"#FDE724\",\"#440154\",\"#FDE724\",\"#440154\",\"#FDE724\",\"#440154\",\"#FDE724\",\"#440154\",\"#208F8C\",\"#208F8C\",\"#FDE724\",\"#440154\",\"#FDE724\",\"#440154\",\"#FDE724\",\"#440154\",\"#FDE724\",\"#440154\",\"#5BC862\",\"#3B518A\",\"#FDE724\",\"#440154\",\"#FDE724\",\"#440154\",\"#FDE724\",\"#440154\",\"#FDE724\",\"#440154\",\"#208F8C\",\"#FDE724\",\"#440154\",\"#FDE724\",\"#440154\",\"#FDE724\",\"#440154\",\"#FDE724\",\"#440154\",\"#208F8C\",\"#FDE724\",\"#440154\",\"#FDE724\",\"#440154\",\"#FDE724\",\"#440154\",\"#FDE724\",\"#440154\",\"#208F8C\",\"#FDE724\",\"#440154\",\"#FDE724\",\"#440154\",\"#FDE724\",\"#440154\",\"#FDE724\",\"#440154\",\"#208F8C\",\"#208F8C\",\"#FDE724\",\"#440154\",\"#440154\",\"#FDE724\",\"#FDE724\",\"#440154\",\"#FDE724\",\"#440154\",\"#5BC862\",\"#3B518A\",\"#FDE724\",\"#440154\",\"#FDE724\",\"#440154\",\"#FDE724\",\"#440154\",\"#FDE724\",\"#440154\",\"#208F8C\",\"#FDE724\",\"#440154\",\"#FDE724\",\"#440154\",\"#FDE724\",\"#440154\",\"#FDE724\",\"#440154\",\"#FDE724\",\"#440154\",\"#208F8C\",\"#FDE724\",\"#440154\",\"#FDE724\",\"#440154\",\"#FDE724\",\"#440154\",\"#208F8C\",\"#FDE724\",\"#440154\",\"#440154\",\"#440154\",\"#440154\",\"#208F8C\",\"#208F8C\",\"#440154\",\"#440154\",\"#440154\",\"#440154\",\"#5BC862\",\"#3B518A\"],\"function\":[\"subgraph_callable(getitem(_apply_random(...), *))\",\"subgraph_callable(getitem(_apply_random(...), *))\",\"subgraph_callable(getitem(_apply_random(...), *))\",\"subgraph_callable(getitem(_apply_random(...), *))\",\"subgraph_callable(getitem(_apply_random(...), *))\",\"subgraph_callable(getitem(_apply_random(...), *))\",\"subgraph_callable(getitem(_apply_random(...), *))\",\"subgraph_callable(getitem(_apply_random(...), *))\",\"_\",\"subgraph_callable(getitem(_apply_random(...), *))\",\"_\",\"subgraph_callable(getitem(_apply_random(...), *))\",\"_\",\"_\",\"subgraph_callable(getitem(_apply_random(...), *))\",\"subgraph_callable(getitem(_apply_random(...), *))\",\"_\",\"mean_combine([_, _, _, ...])\",\"subgraph_callable(getitem(_apply_random(...), *))\",\"_\",\"subgraph_callable(getitem(_apply_random(...), *))\",\"_\",\"subgraph_callable(getitem(_apply_random(...), *))\",\"_\",\"mean_combine([_, _, _, ...])\",\"subgraph_callable(getitem(_apply_random(...), *))\",\"_\",\"subgraph_callable(getitem(_apply_random(...), *))\",\"_\",\"subgraph_callable(getitem(_apply_random(...), *))\",\"_\",\"subgraph_callable(getitem(_apply_random(...), *))\",\"_\",\"mean_combine([_, _, _, ...])\",\"subgraph_callable(getitem(_apply_random(...), *))\",\"_\",\"_\",\"subgraph_callable(getitem(_apply_random(...), *))\",\"subgraph_callable(getitem(_apply_random(...), *))\",\"_\",\"_\",\"subgraph_callable(getitem(_apply_random(...), *))\",\"mean_combine([_, _, _, ...])\",\"mean_combine([_, _, _, ...])\",\"subgraph_callable(getitem(_apply_random(...), *))\",\"_\",\"_\",\"subgraph_callable(getitem(_apply_random(...), *))\",\"subgraph_callable(getitem(_apply_random(...), *))\",\"_\",\"subgraph_callable(getitem(_apply_random(...), *))\",\"_\",\"_\",\"_\",\"subgraph_callable(getitem(_apply_random(...), *))\",\"mean_combine(mean_combine([_, _, _, ...]))\",\"subgraph_callable(getitem(_apply_random(...), *))\",\"mean_agg([_, _])\",\"subgraph_callable(getitem(_apply_random(...), *))\",\"_\",\"subgraph_callable(getitem(_apply_random(...), *))\",\"_\",\"mean_combine([_, _, _, ...])\",\"subgraph_callable(getitem(_apply_random(...), *))\",\"_\",\"subgraph_callable(getitem(_apply_random(...), *))\",\"_\",\"_\",\"subgraph_callable(getitem(_apply_random(...), *))\",\"subgraph_callable(getitem(_apply_random(...), *))\",\"_\",\"subgraph_callable(getitem(_apply_random(...), *))\",\"_\",\"mean_combine([_, _, _, ...])\",\"_\",\"subgraph_callable(getitem(_apply_random(...), *))\",\"subgraph_callable(getitem(_apply_random(...), *))\",\"_\",\"subgraph_callable(getitem(_apply_random(...), *))\",\"_\",\"mean_combine([_, _, _, ...])\",\"subgraph_callable(getitem(_apply_random(...), *))\",\"_\",\"subgraph_callable(getitem(_apply_random(...), *))\",\"_\",\"_\",\"subgraph_callable(getitem(_apply_random(...), *))\",\"_\",\"subgraph_callable(getitem(_apply_random(...), *))\",\"subgraph_callable(getitem(_apply_random(...), *))\",\"_\",\"subgraph_callable(getitem(_apply_random(...), *))\",\"_\",\"_\",\"subgraph_callable(getitem(_apply_random(...), *))\",\"mean_combine([_, _, _, ...])\",\"mean_combine([_, _, _, ...])\",\"_\",\"subgraph_callable(getitem(_apply_random(...), *))\",\"mean_combine(mean_combine([_, _, _, ...]))\",\"mean_agg([_, _])\",\"subgraph_callable(getitem(_apply_random(...), *))\",\"_\",\"subgraph_callable(getitem(_apply_random(...), *))\",\"_\",\"subgraph_callable(getitem(_apply_random(...), *))\",\"_\",\"subgraph_callable(getitem(_apply_random(...), *))\",\"_\",\"mean_combine([_, _, _, ...])\",\"_\",\"subgraph_callable(getitem(_apply_random(...), *))\",\"subgraph_callable(getitem(_apply_random(...), *))\",\"_\",\"subgraph_callable(getitem(_apply_random(...), *))\",\"_\",\"subgraph_callable(getitem(_apply_random(...), *))\",\"_\",\"mean_combine([_, _, _, ...])\",\"subgraph_callable(getitem(_apply_random(...), *))\",\"_\",\"subgraph_callable(getitem(_apply_random(...), *))\",\"_\",\"_\",\"subgraph_callable(getitem(_apply_random(...), *))\",\"subgraph_callable(getitem(_apply_random(...), *))\",\"_\",\"subgraph_callable(getitem(_apply_random(...), *))\",\"_\",\"subgraph_callable(getitem(_apply_random(...), *))\",\"_\",\"mean_combine([_, _, _, ...])\",\"subgraph_callable(getitem(_apply_random(...), *))\",\"_\",\"subgraph_callable(getitem(_apply_random(...), *))\",\"_\",\"mean_combine([_, _, _, ...])\",\"mean_combine([_, _, _, ...])\",\"subgraph_callable(getitem(_apply_random(...), *))\",\"_\",\"subgraph_callable(getitem(_apply_random(...), *))\",\"_\",\"_\",\"subgraph_callable(getitem(_apply_random(...), *))\",\"subgraph_callable(getitem(_apply_random(...), *))\",\"_\",\"subgraph_callable(getitem(_apply_random(...), *))\",\"_\",\"mean_combine(mean_combine([_, _, _, ...]))\",\"mean_agg([_, _])\",\"subgraph_callable(getitem(_apply_random(...), *))\",\"_\",\"subgraph_callable(getitem(_apply_random(...), *))\",\"_\",\"subgraph_callable(getitem(_apply_random(...), *))\",\"_\",\"mean_combine([_, _, _, ...])\",\"subgraph_callable(getitem(_apply_random(...), *))\",\"_\",\"subgraph_callable(getitem(_apply_random(...), *))\",\"_\",\"subgraph_callable(getitem(_apply_random(...), *))\",\"_\",\"subgraph_callable(getitem(_apply_random(...), *))\",\"_\",\"mean_combine([_, _, _, ...])\",\"subgraph_callable(getitem(_apply_random(...), *))\",\"_\",\"subgraph_callable(getitem(_apply_random(...), *))\",\"_\",\"subgraph_callable(getitem(_apply_random(...), *))\",\"_\",\"subgraph_callable(getitem(_apply_random(...), *))\",\"_\",\"mean_combine([_, _, _, ...])\",\"subgraph_callable(getitem(_apply_random(...), *))\",\"_\",\"subgraph_callable(getitem(_apply_random(...), *))\",\"_\",\"subgraph_callable(getitem(_apply_random(...), *))\",\"_\",\"_\",\"subgraph_callable(getitem(_apply_random(...), *))\",\"mean_combine([_, _, _, ...])\",\"mean_combine([_, _, _, ...])\",\"subgraph_callable(getitem(_apply_random(...), *))\",\"_\",\"subgraph_callable(getitem(_apply_random(...), *))\",\"_\",\"subgraph_callable(getitem(_apply_random(...), *))\",\"_\",\"subgraph_callable(getitem(_apply_random(...), *))\",\"_\",\"mean_combine(mean_combine([_, _, _, ...]))\",\"mean_agg([_, _])\",\"subgraph_callable(getitem(_apply_random(...), *))\",\"_\",\"subgraph_callable(getitem(_apply_random(...), *))\",\"_\",\"subgraph_callable(getitem(_apply_random(...), *))\",\"_\",\"_\",\"subgraph_callable(getitem(_apply_random(...), *))\",\"subgraph_callable(getitem(_apply_random(...), *))\",\"_\",\"_\",\"mean_combine([_, _, _, ...])\",\"_\",\"subgraph_callable(getitem(_apply_random(...), *))\",\"subgraph_callable(getitem(_apply_random(...), *))\",\"subgraph_callable(getitem(_apply_random(...), *))\",\"_\",\"mean_combine([_, _, _, ...])\",\"subgraph_callable(getitem(_apply_random(...), *))\",\"_\",\"subgraph_callable(getitem(_apply_random(...), *))\",\"_\",\"subgraph_callable(getitem(_apply_random(...), *))\",\"_\",\"subgraph_callable(getitem(_apply_random(...), *))\",\"_\",\"mean_combine([_, _, _, ...])\",\"subgraph_callable(getitem(_apply_random(...), *))\",\"_\",\"subgraph_callable(getitem(_apply_random(...), *))\",\"_\",\"_\",\"subgraph_callable(getitem(_apply_random(...), *))\",\"subgraph_callable(getitem(_apply_random(...), *))\",\"_\",\"mean_combine([_, _, _, ...])\",\"mean_combine([_, _, _, ...])\",\"subgraph_callable(getitem(_apply_random(...), *))\",\"_\",\"_\",\"subgraph_callable(getitem(_apply_random(...), *))\",\"_\",\"subgraph_callable(getitem(_apply_random(...), *))\",\"subgraph_callable(getitem(_apply_random(...), *))\",\"_\",\"mean_combine(mean_combine([_, _, _, ...]))\",\"_\",\"subgraph_callable(getitem(_apply_random(...), *))\",\"mean_agg([_, _])\",\"subgraph_callable(getitem(_apply_random(...), *))\",\"_\",\"_\",\"subgraph_callable(getitem(_apply_random(...), *))\",\"subgraph_callable(getitem(_apply_random(...), *))\",\"_\",\"mean_combine([_, _, _, ...])\",\"subgraph_callable(getitem(_apply_random(...), *))\",\"_\",\"subgraph_callable(getitem(_apply_random(...), *))\",\"_\",\"subgraph_callable(getitem(_apply_random(...), *))\",\"_\",\"subgraph_callable(getitem(_apply_random(...), *))\",\"_\",\"mean_combine([_, _, _, ...])\",\"subgraph_callable(getitem(_apply_random(...), *))\",\"_\",\"subgraph_callable(getitem(_apply_random(...), *))\",\"_\",\"subgraph_callable(getitem(_apply_random(...), *))\",\"_\",\"subgraph_callable(getitem(_apply_random(...), *))\",\"_\",\"mean_combine([_, _, _, ...])\",\"subgraph_callable(getitem(_apply_random(...), *))\",\"_\",\"subgraph_callable(getitem(_apply_random(...), *))\",\"_\",\"_\",\"_\",\"subgraph_callable(getitem(_apply_random(...), *))\",\"subgraph_callable(getitem(_apply_random(...), *))\",\"mean_combine([_, _, _, ...])\",\"_\",\"subgraph_callable(getitem(_apply_random(...), *))\",\"mean_combine([_, _, _, ...])\",\"subgraph_callable(getitem(_apply_random(...), *))\",\"_\",\"_\",\"subgraph_callable(getitem(_apply_random(...), *))\",\"subgraph_callable(getitem(_apply_random(...), *))\",\"_\",\"mean_combine(mean_combine([_, _, _, ...]))\",\"mean_agg([_, _])\",\"subgraph_callable(getitem(_apply_random(...), *))\",\"_\",\"subgraph_callable(getitem(_apply_random(...), *))\",\"_\",\"subgraph_callable(getitem(_apply_random(...), *))\",\"_\",\"subgraph_callable(getitem(_apply_random(...), *))\",\"_\",\"_\",\"subgraph_callable(getitem(_apply_random(...), *))\",\"mean_combine([_, _, _, ...])\",\"subgraph_callable(getitem(_apply_random(...), *))\",\"_\",\"subgraph_callable(getitem(_apply_random(...), *))\",\"_\",\"subgraph_callable(getitem(_apply_random(...), *))\",\"_\",\"mean_combine([_, _, _, ...])\",\"subgraph_callable(getitem(_apply_random(...), *))\",\"_\",\"subgraph_callable(getitem(_apply_random(...), *))\",\"_\",\"subgraph_callable(getitem(_apply_random(...), *))\",\"_\",\"subgraph_callable(getitem(_apply_random(...), *))\",\"_\",\"subgraph_callable(getitem(_apply_random(...), *))\",\"_\",\"mean_combine([_, _, _, ...])\",\"subgraph_callable(getitem(_apply_random(...), *))\",\"_\",\"subgraph_callable(getitem(_apply_random(...), *))\",\"_\",\"subgraph_callable(getitem(_apply_random(...), *))\",\"_\",\"mean_combine([_, _, _, ...])\",\"mean_combine([_, _, _, ...])\",\"subgraph_callable(getitem(_apply_random(...), *))\",\"_\",\"subgraph_callable(getitem(_apply_random(...), *))\",\"_\",\"subgraph_callable(getitem(_apply_random(...), *))\",\"_\",\"subgraph_callable(getitem(_apply_random(...), *))\",\"_\",\"subgraph_callable(getitem(_apply_random(...), *))\",\"_\",\"mean_combine(mean_combine([_, _, _, ...]))\",\"mean_agg([_, _])\",\"subgraph_callable(getitem(_apply_random(...), *))\",\"_\",\"subgraph_callable(getitem(_apply_random(...), *))\",\"_\",\"subgraph_callable(getitem(_apply_random(...), *))\",\"_\",\"mean_combine([_, _, _, ...])\",\"subgraph_callable(getitem(_apply_random(...), *))\",\"_\",\"subgraph_callable(getitem(_apply_random(...), *))\",\"_\",\"subgraph_callable(getitem(_apply_random(...), *))\",\"_\",\"subgraph_callable(getitem(_apply_random(...), *))\",\"_\",\"_\",\"subgraph_callable(getitem(_apply_random(...), *))\",\"mean_combine([_, _, _, ...])\",\"subgraph_callable(getitem(_apply_random(...), *))\",\"_\",\"subgraph_callable(getitem(_apply_random(...), *))\",\"_\",\"subgraph_callable(getitem(_apply_random(...), *))\",\"_\",\"mean_combine([_, _, _, ...])\",\"subgraph_callable(getitem(_apply_random(...), *))\",\"_\",\"subgraph_callable(getitem(_apply_random(...), *))\",\"_\",\"subgraph_callable(getitem(_apply_random(...), *))\",\"_\",\"subgraph_callable(getitem(_apply_random(...), *))\",\"_\",\"mean_combine([_, _, _, ...])\",\"mean_combine([_, _, _, ...])\",\"subgraph_callable(getitem(_apply_random(...), *))\",\"_\",\"subgraph_callable(getitem(_apply_random(...), *))\",\"_\",\"subgraph_callable(getitem(_apply_random(...), *))\",\"_\",\"subgraph_callable(getitem(_apply_random(...), *))\",\"_\",\"mean_combine(mean_combine([_, _, _, ...]))\",\"mean_agg([_, _])\",\"subgraph_callable(getitem(_apply_random(...), *))\",\"_\",\"subgraph_callable(getitem(_apply_random(...), *))\",\"_\",\"_\",\"subgraph_callable(getitem(_apply_random(...), *))\",\"subgraph_callable(getitem(_apply_random(...), *))\",\"_\",\"mean_combine([_, _, _, ...])\",\"_\",\"subgraph_callable(getitem(_apply_random(...), *))\",\"subgraph_callable(getitem(_apply_random(...), *))\",\"_\",\"_\",\"subgraph_callable(getitem(_apply_random(...), *))\",\"subgraph_callable(getitem(_apply_random(...), *))\",\"_\",\"mean_combine([_, _, _, ...])\",\"subgraph_callable(getitem(_apply_random(...), *))\",\"_\",\"subgraph_callable(getitem(_apply_random(...), *))\",\"_\",\"subgraph_callable(getitem(_apply_random(...), *))\",\"_\",\"subgraph_callable(getitem(_apply_random(...), *))\",\"_\",\"mean_combine([_, _, _, ...])\",\"subgraph_callable(getitem(_apply_random(...), *))\",\"_\",\"subgraph_callable(getitem(_apply_random(...), *))\",\"_\",\"subgraph_callable(getitem(_apply_random(...), *))\",\"_\",\"subgraph_callable(getitem(_apply_random(...), *))\",\"_\",\"mean_combine([_, _, _, ...])\",\"mean_combine([_, _, _, ...])\",\"subgraph_callable(getitem(_apply_random(...), *))\",\"_\",\"subgraph_callable(getitem(_apply_random(...), *))\",\"_\",\"subgraph_callable(getitem(_apply_random(...), *))\",\"_\",\"subgraph_callable(getitem(_apply_random(...), *))\",\"_\",\"mean_combine(mean_combine([_, _, _, ...]))\",\"mean_agg([_, _])\",\"subgraph_callable(getitem(_apply_random(...), *))\",\"_\",\"subgraph_callable(getitem(_apply_random(...), *))\",\"_\",\"subgraph_callable(getitem(_apply_random(...), *))\",\"_\",\"subgraph_callable(getitem(_apply_random(...), *))\",\"_\",\"mean_combine([_, _, _, ...])\",\"subgraph_callable(getitem(_apply_random(...), *))\",\"_\",\"subgraph_callable(getitem(_apply_random(...), *))\",\"_\",\"subgraph_callable(getitem(_apply_random(...), *))\",\"_\",\"subgraph_callable(getitem(_apply_random(...), *))\",\"_\",\"mean_combine([_, _, _, ...])\",\"_\",\"subgraph_callable(getitem(_apply_random(...), *))\",\"subgraph_callable(getitem(_apply_random(...), *))\",\"_\",\"subgraph_callable(getitem(_apply_random(...), *))\",\"_\",\"subgraph_callable(getitem(_apply_random(...), *))\",\"_\",\"mean_combine([_, _, _, ...])\",\"subgraph_callable(getitem(_apply_random(...), *))\",\"_\",\"subgraph_callable(getitem(_apply_random(...), *))\",\"_\",\"subgraph_callable(getitem(_apply_random(...), *))\",\"_\",\"subgraph_callable(getitem(_apply_random(...), *))\",\"_\",\"mean_combine([_, _, _, ...])\",\"mean_combine([_, _, _, ...])\",\"subgraph_callable(getitem(_apply_random(...), *))\",\"_\",\"subgraph_callable(getitem(_apply_random(...), *))\",\"_\",\"subgraph_callable(getitem(_apply_random(...), *))\",\"_\",\"subgraph_callable(getitem(_apply_random(...), *))\",\"_\",\"mean_combine(mean_combine([_, _, _, ...]))\",\"_\",\"subgraph_callable(getitem(_apply_random(...), *))\",\"mean_agg([_, _])\",\"subgraph_callable(getitem(_apply_random(...), *))\",\"_\",\"subgraph_callable(getitem(_apply_random(...), *))\",\"_\",\"subgraph_callable(getitem(_apply_random(...), *))\",\"_\",\"mean_combine([_, _, _, ...])\",\"subgraph_callable(getitem(_apply_random(...), *))\",\"_\",\"subgraph_callable(getitem(_apply_random(...), *))\",\"_\",\"subgraph_callable(getitem(_apply_random(...), *))\",\"_\",\"subgraph_callable(getitem(_apply_random(...), *))\",\"_\",\"mean_combine([_, _, _, ...])\",\"subgraph_callable(getitem(_apply_random(...), *))\",\"_\",\"subgraph_callable(getitem(_apply_random(...), *))\",\"_\",\"subgraph_callable(getitem(_apply_random(...), *))\",\"_\",\"subgraph_callable(getitem(_apply_random(...), *))\",\"_\",\"mean_combine([_, _, _, ...])\",\"subgraph_callable(getitem(_apply_random(...), *))\",\"_\",\"subgraph_callable(getitem(_apply_random(...), *))\",\"_\",\"subgraph_callable(getitem(_apply_random(...), *))\",\"_\",\"subgraph_callable(getitem(_apply_random(...), *))\",\"_\",\"mean_combine([_, _, _, ...])\",\"mean_combine([_, _, _, ...])\",\"subgraph_callable(getitem(_apply_random(...), *))\",\"_\",\"subgraph_callable(getitem(_apply_random(...), *))\",\"_\",\"subgraph_callable(getitem(_apply_random(...), *))\",\"_\",\"subgraph_callable(getitem(_apply_random(...), *))\",\"_\",\"subgraph_callable(getitem(_apply_random(...), *))\",\"_\",\"mean_combine(mean_combine([_, _, _, ...]))\",\"mean_agg([_, _])\",\"subgraph_callable(getitem(_apply_random(...), *))\",\"_\",\"subgraph_callable(getitem(_apply_random(...), *))\",\"_\",\"subgraph_callable(getitem(_apply_random(...), *))\",\"_\",\"mean_combine([_, _, _, ...])\",\"subgraph_callable(getitem(_apply_random(...), *))\",\"_\",\"subgraph_callable(getitem(_apply_random(...), *))\",\"_\",\"subgraph_callable(getitem(_apply_random(...), *))\",\"_\",\"subgraph_callable(getitem(_apply_random(...), *))\",\"_\",\"mean_combine([_, _, _, ...])\",\"subgraph_callable(getitem(_apply_random(...), *))\",\"_\",\"subgraph_callable(getitem(_apply_random(...), *))\",\"_\",\"subgraph_callable(getitem(_apply_random(...), *))\",\"_\",\"_\",\"subgraph_callable(getitem(_apply_random(...), *))\",\"mean_combine([_, _, _, ...])\",\"subgraph_callable(getitem(_apply_random(...), *))\",\"_\",\"subgraph_callable(getitem(_apply_random(...), *))\",\"_\",\"subgraph_callable(getitem(_apply_random(...), *))\",\"_\",\"subgraph_callable(getitem(_apply_random(...), *))\",\"_\",\"mean_combine([_, _, _, ...])\",\"mean_combine([_, _, _, ...])\",\"subgraph_callable(getitem(_apply_random(...), *))\",\"_\",\"subgraph_callable(getitem(_apply_random(...), *))\",\"_\",\"subgraph_callable(getitem(_apply_random(...), *))\",\"_\",\"subgraph_callable(getitem(_apply_random(...), *))\",\"_\",\"mean_combine(mean_combine([_, _, _, ...]))\",\"mean_agg([_, _])\",\"subgraph_callable(getitem(_apply_random(...), *))\",\"_\",\"_\",\"subgraph_callable(getitem(_apply_random(...), *))\",\"subgraph_callable(getitem(_apply_random(...), *))\",\"_\",\"subgraph_callable(getitem(_apply_random(...), *))\",\"_\",\"mean_combine([_, _, _, ...])\",\"_\",\"subgraph_callable(getitem(_apply_random(...), *))\",\"subgraph_callable(getitem(_apply_random(...), *))\",\"_\",\"subgraph_callable(getitem(_apply_random(...), *))\",\"_\",\"subgraph_callable(getitem(_apply_random(...), *))\",\"_\",\"subgraph_callable(getitem(_apply_random(...), *))\",\"_\",\"mean_combine([_, _, _, ...])\",\"subgraph_callable(getitem(_apply_random(...), *))\",\"_\",\"subgraph_callable(getitem(_apply_random(...), *))\",\"_\",\"subgraph_callable(getitem(_apply_random(...), *))\",\"_\",\"mean_combine([_, _, _, ...])\",\"subgraph_callable(getitem(_apply_random(...), *))\",\"_\",\"subgraph_callable(getitem(_apply_random(...), *))\",\"_\",\"subgraph_callable(getitem(_apply_random(...), *))\",\"_\",\"subgraph_callable(getitem(_apply_random(...), *))\",\"_\",\"mean_combine([_, _, _, ...])\",\"mean_combine([_, _, _, ...])\",\"subgraph_callable(getitem(_apply_random(...), *))\",\"_\",\"subgraph_callable(getitem(_apply_random(...), *))\",\"_\",\"subgraph_callable(getitem(_apply_random(...), *))\",\"_\",\"subgraph_callable(getitem(_apply_random(...), *))\",\"_\",\"mean_combine(mean_combine([_, _, _, ...]))\",\"mean_agg([_, _])\",\"subgraph_callable(getitem(_apply_random(...), *))\",\"_\",\"subgraph_callable(getitem(_apply_random(...), *))\",\"_\",\"subgraph_callable(getitem(_apply_random(...), *))\",\"_\",\"subgraph_callable(getitem(_apply_random(...), *))\",\"_\",\"mean_combine([_, _, _, ...])\",\"subgraph_callable(getitem(_apply_random(...), *))\",\"_\",\"subgraph_callable(getitem(_apply_random(...), *))\",\"_\",\"subgraph_callable(getitem(_apply_random(...), *))\",\"_\",\"subgraph_callable(getitem(_apply_random(...), *))\",\"_\",\"subgraph_callable(getitem(_apply_random(...), *))\",\"_\",\"mean_combine([_, _, _, ...])\",\"subgraph_callable(getitem(_apply_random(...), *))\",\"_\",\"subgraph_callable(getitem(_apply_random(...), *))\",\"_\",\"subgraph_callable(getitem(_apply_random(...), *))\",\"_\",\"mean_combine([_, _, _, ...])\",\"subgraph_callable(getitem(_apply_random(...), *))\",\"_\",\"subgraph_callable(getitem(_apply_random(...), *))\",\"_\",\"_\",\"subgraph_callable(getitem(_apply_random(...), *))\",\"subgraph_callable(getitem(_apply_random(...), *))\",\"_\",\"mean_combine([_, _, _, ...])\",\"mean_combine([_, _, _, ...])\",\"subgraph_callable(getitem(_apply_random(...), *))\",\"_\",\"subgraph_callable(getitem(_apply_random(...), *))\",\"_\",\"subgraph_callable(getitem(_apply_random(...), *))\",\"_\",\"subgraph_callable(getitem(_apply_random(...), *))\",\"_\",\"mean_combine(mean_combine([_, _, _, ...]))\",\"mean_agg([_, _])\",\"subgraph_callable(getitem(_apply_random(...), *))\",\"_\",\"subgraph_callable(getitem(_apply_random(...), *))\",\"_\",\"subgraph_callable(getitem(_apply_random(...), *))\",\"_\",\"subgraph_callable(getitem(_apply_random(...), *))\",\"_\",\"mean_combine([_, _, _, ...])\",\"subgraph_callable(getitem(_apply_random(...), *))\",\"_\",\"subgraph_callable(getitem(_apply_random(...), *))\",\"_\",\"subgraph_callable(getitem(_apply_random(...), *))\",\"_\",\"subgraph_callable(getitem(_apply_random(...), *))\",\"_\",\"mean_combine([_, _, _, ...])\",\"subgraph_callable(getitem(_apply_random(...), *))\",\"_\",\"subgraph_callable(getitem(_apply_random(...), *))\",\"_\",\"subgraph_callable(getitem(_apply_random(...), *))\",\"_\",\"subgraph_callable(getitem(_apply_random(...), *))\",\"_\",\"mean_combine([_, _, _, ...])\",\"subgraph_callable(getitem(_apply_random(...), *))\",\"_\",\"subgraph_callable(getitem(_apply_random(...), *))\",\"_\",\"subgraph_callable(getitem(_apply_random(...), *))\",\"_\",\"subgraph_callable(getitem(_apply_random(...), *))\",\"_\",\"mean_combine([_, _, _, ...])\",\"mean_combine([_, _, _, ...])\",\"subgraph_callable(getitem(_apply_random(...), *))\",\"_\",\"subgraph_callable(getitem(_apply_random(...), *))\",\"_\",\"subgraph_callable(getitem(_apply_random(...), *))\",\"_\",\"subgraph_callable(getitem(_apply_random(...), *))\",\"_\",\"_\",\"subgraph_callable(getitem(_apply_random(...), *))\",\"mean_combine(mean_combine([_, _, _, ...]))\",\"mean_agg([_, _])\",\"subgraph_callable(getitem(_apply_random(...), *))\",\"_\",\"subgraph_callable(getitem(_apply_random(...), *))\",\"_\",\"subgraph_callable(getitem(_apply_random(...), *))\",\"_\",\"mean_combine([_, _, _, ...])\",\"subgraph_callable(getitem(_apply_random(...), *))\",\"_\",\"subgraph_callable(getitem(_apply_random(...), *))\",\"_\",\"subgraph_callable(getitem(_apply_random(...), *))\",\"_\",\"subgraph_callable(getitem(_apply_random(...), *))\",\"_\",\"mean_combine([_, _, _, ...])\",\"subgraph_callable(getitem(_apply_random(...), *))\",\"_\",\"subgraph_callable(getitem(_apply_random(...), *))\",\"_\",\"subgraph_callable(getitem(_apply_random(...), *))\",\"_\",\"subgraph_callable(getitem(_apply_random(...), *))\",\"_\",\"mean_combine([_, _, _, ...])\",\"subgraph_callable(getitem(_apply_random(...), *))\",\"_\",\"subgraph_callable(getitem(_apply_random(...), *))\",\"_\",\"subgraph_callable(getitem(_apply_random(...), *))\",\"_\",\"subgraph_callable(getitem(_apply_random(...), *))\",\"_\",\"mean_combine([_, _, _, ...])\",\"mean_combine([_, _, _, ...])\",\"subgraph_callable(getitem(_apply_random(...), *))\",\"_\",\"_\",\"subgraph_callable(getitem(_apply_random(...), *))\",\"subgraph_callable(getitem(_apply_random(...), *))\",\"_\",\"subgraph_callable(getitem(_apply_random(...), *))\",\"_\",\"mean_combine(mean_combine([_, _, _, ...]))\",\"mean_agg([_, _])\",\"subgraph_callable(getitem(_apply_random(...), *))\",\"_\",\"subgraph_callable(getitem(_apply_random(...), *))\",\"_\",\"subgraph_callable(getitem(_apply_random(...), *))\",\"_\",\"subgraph_callable(getitem(_apply_random(...), *))\",\"_\",\"mean_combine([_, _, _, ...])\",\"subgraph_callable(getitem(_apply_random(...), *))\",\"_\",\"subgraph_callable(getitem(_apply_random(...), *))\",\"_\",\"subgraph_callable(getitem(_apply_random(...), *))\",\"_\",\"subgraph_callable(getitem(_apply_random(...), *))\",\"_\",\"mean_combine([_, _, _, ...])\",\"subgraph_callable(getitem(_apply_random(...), *))\",\"_\",\"subgraph_callable(getitem(_apply_random(...), *))\",\"_\",\"subgraph_callable(getitem(_apply_random(...), *))\",\"_\",\"subgraph_callable(getitem(_apply_random(...), *))\",\"_\",\"subgraph_callable(getitem(_apply_random(...), *))\",\"_\",\"mean_combine([_, _, _, ...])\",\"subgraph_callable(getitem(_apply_random(...), *))\",\"_\",\"subgraph_callable(getitem(_apply_random(...), *))\",\"_\",\"subgraph_callable(getitem(_apply_random(...), *))\",\"_\",\"mean_combine([_, _, _, ...])\",\"mean_combine([_, _, _, ...])\",\"subgraph_callable(getitem(_apply_random(...), *))\",\"_\",\"subgraph_callable(getitem(_apply_random(...), *))\",\"_\",\"subgraph_callable(getitem(_apply_random(...), *))\",\"_\",\"_\",\"subgraph_callable(getitem(_apply_random(...), *))\",\"mean_combine(mean_combine([_, _, _, ...]))\",\"mean_agg([_, _])\",\"subgraph_callable(getitem(_apply_random(...), *))\",\"_\",\"_\",\"subgraph_callable(getitem(_apply_random(...), *))\",\"subgraph_callable(getitem(_apply_random(...), *))\",\"_\",\"subgraph_callable(getitem(_apply_random(...), *))\",\"_\",\"mean_combine([_, _, _, ...])\",\"subgraph_callable(getitem(_apply_random(...), *))\",\"_\",\"subgraph_callable(getitem(_apply_random(...), *))\",\"_\",\"subgraph_callable(getitem(_apply_random(...), *))\",\"_\",\"subgraph_callable(getitem(_apply_random(...), *))\",\"_\",\"mean_combine([_, _, _, ...])\",\"subgraph_callable(getitem(_apply_random(...), *))\",\"_\",\"_\",\"subgraph_callable(getitem(_apply_random(...), *))\",\"subgraph_callable(getitem(_apply_random(...), *))\",\"_\",\"subgraph_callable(getitem(_apply_random(...), *))\",\"_\",\"mean_combine([_, _, _, ...])\",\"subgraph_callable(getitem(_apply_random(...), *))\",\"_\",\"subgraph_callable(getitem(_apply_random(...), *))\",\"_\",\"subgraph_callable(getitem(_apply_random(...), *))\",\"_\",\"subgraph_callable(getitem(_apply_random(...), *))\",\"_\",\"mean_combine([_, _, _, ...])\",\"mean_combine([_, _, _, ...])\",\"subgraph_callable(getitem(_apply_random(...), *))\",\"_\",\"subgraph_callable(getitem(_apply_random(...), *))\",\"_\",\"subgraph_callable(getitem(_apply_random(...), *))\",\"_\",\"subgraph_callable(getitem(_apply_random(...), *))\",\"_\",\"mean_combine(mean_combine([_, _, _, ...]))\",\"mean_agg([_, _])\",\"subgraph_callable(getitem(_apply_random(...), *))\",\"_\",\"subgraph_callable(getitem(_apply_random(...), *))\",\"_\",\"subgraph_callable(getitem(_apply_random(...), *))\",\"_\",\"subgraph_callable(getitem(_apply_random(...), *))\",\"_\",\"mean_combine([_, _, _, ...])\",\"subgraph_callable(getitem(_apply_random(...), *))\",\"_\",\"subgraph_callable(getitem(_apply_random(...), *))\",\"_\",\"subgraph_callable(getitem(_apply_random(...), *))\",\"_\",\"subgraph_callable(getitem(_apply_random(...), *))\",\"_\",\"mean_combine([_, _, _, ...])\",\"subgraph_callable(getitem(_apply_random(...), *))\",\"_\",\"subgraph_callable(getitem(_apply_random(...), *))\",\"_\",\"subgraph_callable(getitem(_apply_random(...), *))\",\"_\",\"subgraph_callable(getitem(_apply_random(...), *))\",\"_\",\"mean_combine([_, _, _, ...])\",\"subgraph_callable(getitem(_apply_random(...), *))\",\"_\",\"subgraph_callable(getitem(_apply_random(...), *))\",\"_\",\"subgraph_callable(getitem(_apply_random(...), *))\",\"_\",\"subgraph_callable(getitem(_apply_random(...), *))\",\"_\",\"mean_combine([_, _, _, ...])\",\"mean_combine([_, _, _, ...])\",\"subgraph_callable(getitem(_apply_random(...), *))\",\"_\",\"_\",\"subgraph_callable(getitem(_apply_random(...), *))\",\"subgraph_callable(getitem(_apply_random(...), *))\",\"_\",\"subgraph_callable(getitem(_apply_random(...), *))\",\"_\",\"mean_combine(mean_combine([_, _, _, ...]))\",\"mean_agg([_, _])\",\"subgraph_callable(getitem(_apply_random(...), *))\",\"_\",\"subgraph_callable(getitem(_apply_random(...), *))\",\"_\",\"subgraph_callable(getitem(_apply_random(...), *))\",\"_\",\"subgraph_callable(getitem(_apply_random(...), *))\",\"_\",\"mean_combine([_, _, _, ...])\",\"subgraph_callable(getitem(_apply_random(...), *))\",\"_\",\"subgraph_callable(getitem(_apply_random(...), *))\",\"_\",\"subgraph_callable(getitem(_apply_random(...), *))\",\"_\",\"subgraph_callable(getitem(_apply_random(...), *))\",\"_\",\"subgraph_callable(getitem(_apply_random(...), *))\",\"_\",\"mean_combine([_, _, _, ...])\",\"subgraph_callable(getitem(_apply_random(...), *))\",\"_\",\"subgraph_callable(getitem(_apply_random(...), *))\",\"_\",\"subgraph_callable(getitem(_apply_random(...), *))\",\"_\",\"mean_combine([_, _, _, ...])\",\"subgraph_callable(getitem(_apply_random(...), *))\",\"_\",\"_\",\"_\",\"_\",\"mean_combine([_, _, _, ...])\",\"mean_combine([_, _, _, ...])\",\"_\",\"_\",\"_\",\"_\",\"mean_combine(mean_combine([_, _, _, ...]))\",\"mean_agg([_, _])\"],\"key\":[\"('getitem-normal-mean_chunk-6d4ad307c500b6871a7e35de846941e5', 0, 0)\",\"('getitem-normal-mean_chunk-6d4ad307c500b6871a7e35de846941e5', 1, 0)\",\"('getitem-normal-mean_chunk-6d4ad307c500b6871a7e35de846941e5', 2, 0)\",\"('getitem-normal-mean_chunk-6d4ad307c500b6871a7e35de846941e5', 3, 0)\",\"('getitem-normal-mean_chunk-6d4ad307c500b6871a7e35de846941e5', 4, 0)\",\"('getitem-normal-mean_chunk-6d4ad307c500b6871a7e35de846941e5', 5, 0)\",\"('getitem-normal-mean_chunk-6d4ad307c500b6871a7e35de846941e5', 6, 0)\",\"('getitem-normal-mean_chunk-6d4ad307c500b6871a7e35de846941e5', 7, 0)\",\"('mean_chunk-6d4ad307c500b6871a7e35de846941e5', 2, 0)\",\"('getitem-normal-mean_chunk-6d4ad307c500b6871a7e35de846941e5', 8, 0)\",\"('mean_chunk-6d4ad307c500b6871a7e35de846941e5', 5, 0)\",\"('getitem-normal-mean_chunk-6d4ad307c500b6871a7e35de846941e5', 9, 0)\",\"('mean_chunk-6d4ad307c500b6871a7e35de846941e5', 0, 0)\",\"('mean_chunk-6d4ad307c500b6871a7e35de846941e5', 1, 0)\",\"('getitem-normal-mean_chunk-6d4ad307c500b6871a7e35de846941e5', 10, 0)\",\"('getitem-normal-mean_chunk-6d4ad307c500b6871a7e35de846941e5', 11, 0)\",\"('mean_chunk-6d4ad307c500b6871a7e35de846941e5', 3, 0)\",\"('mean_combine-partial-d6cb93770dcbe043f79eaee930821864', 0, 0)\",\"('getitem-normal-mean_chunk-6d4ad307c500b6871a7e35de846941e5', 12, 0)\",\"('mean_chunk-6d4ad307c500b6871a7e35de846941e5', 6, 0)\",\"('getitem-normal-mean_chunk-6d4ad307c500b6871a7e35de846941e5', 13, 0)\",\"('mean_chunk-6d4ad307c500b6871a7e35de846941e5', 7, 0)\",\"('getitem-normal-mean_chunk-6d4ad307c500b6871a7e35de846941e5', 14, 0)\",\"('mean_chunk-6d4ad307c500b6871a7e35de846941e5', 4, 0)\",\"('mean_combine-partial-d6cb93770dcbe043f79eaee930821864', 1, 0)\",\"('getitem-normal-mean_chunk-6d4ad307c500b6871a7e35de846941e5', 15, 0)\",\"('mean_chunk-6d4ad307c500b6871a7e35de846941e5', 8, 0)\",\"('getitem-normal-mean_chunk-6d4ad307c500b6871a7e35de846941e5', 16, 0)\",\"('mean_chunk-6d4ad307c500b6871a7e35de846941e5', 9, 0)\",\"('getitem-normal-mean_chunk-6d4ad307c500b6871a7e35de846941e5', 17, 0)\",\"('mean_chunk-6d4ad307c500b6871a7e35de846941e5', 10, 0)\",\"('getitem-normal-mean_chunk-6d4ad307c500b6871a7e35de846941e5', 18, 0)\",\"('mean_chunk-6d4ad307c500b6871a7e35de846941e5', 11, 0)\",\"('mean_combine-partial-d6cb93770dcbe043f79eaee930821864', 2, 0)\",\"('getitem-normal-mean_chunk-6d4ad307c500b6871a7e35de846941e5', 19, 0)\",\"('mean_chunk-6d4ad307c500b6871a7e35de846941e5', 12, 0)\",\"('mean_chunk-6d4ad307c500b6871a7e35de846941e5', 14, 0)\",\"('getitem-normal-mean_chunk-6d4ad307c500b6871a7e35de846941e5', 0, 1)\",\"('getitem-normal-mean_chunk-6d4ad307c500b6871a7e35de846941e5', 1, 1)\",\"('mean_chunk-6d4ad307c500b6871a7e35de846941e5', 13, 0)\",\"('mean_chunk-6d4ad307c500b6871a7e35de846941e5', 15, 0)\",\"('getitem-normal-mean_chunk-6d4ad307c500b6871a7e35de846941e5', 2, 1)\",\"('mean_combine-partial-d6cb93770dcbe043f79eaee930821864', 3, 0)\",\"('mean_combine-partial-9f562b5c77ca67da13fd68053fb1f8b6', 0, 0)\",\"('getitem-normal-mean_chunk-6d4ad307c500b6871a7e35de846941e5', 3, 1)\",\"('mean_chunk-6d4ad307c500b6871a7e35de846941e5', 16, 0)\",\"('mean_chunk-6d4ad307c500b6871a7e35de846941e5', 18, 0)\",\"('getitem-normal-mean_chunk-6d4ad307c500b6871a7e35de846941e5', 4, 1)\",\"('getitem-normal-mean_chunk-6d4ad307c500b6871a7e35de846941e5', 5, 1)\",\"('mean_chunk-6d4ad307c500b6871a7e35de846941e5', 19, 0)\",\"('getitem-normal-mean_chunk-6d4ad307c500b6871a7e35de846941e5', 6, 1)\",\"('mean_chunk-6d4ad307c500b6871a7e35de846941e5', 0, 1)\",\"('mean_chunk-6d4ad307c500b6871a7e35de846941e5', 17, 0)\",\"('mean_chunk-6d4ad307c500b6871a7e35de846941e5', 3, 1)\",\"('getitem-normal-mean_chunk-6d4ad307c500b6871a7e35de846941e5', 7, 1)\",\"('mean_combine-partial-9f562b5c77ca67da13fd68053fb1f8b6', 1, 0)\",\"('getitem-normal-mean_chunk-6d4ad307c500b6871a7e35de846941e5', 8, 1)\",\"('mean_agg-aggregate-f44d12783a3c5c423cf0d9b55a14c4a8', 0)\",\"('getitem-normal-mean_chunk-6d4ad307c500b6871a7e35de846941e5', 9, 1)\",\"('mean_chunk-6d4ad307c500b6871a7e35de846941e5', 2, 1)\",\"('getitem-normal-mean_chunk-6d4ad307c500b6871a7e35de846941e5', 10, 1)\",\"('mean_chunk-6d4ad307c500b6871a7e35de846941e5', 1, 1)\",\"('mean_combine-partial-d6cb93770dcbe043f79eaee930821864', 0, 1)\",\"('getitem-normal-mean_chunk-6d4ad307c500b6871a7e35de846941e5', 11, 1)\",\"('mean_chunk-6d4ad307c500b6871a7e35de846941e5', 4, 1)\",\"('getitem-normal-mean_chunk-6d4ad307c500b6871a7e35de846941e5', 12, 1)\",\"('mean_chunk-6d4ad307c500b6871a7e35de846941e5', 6, 1)\",\"('mean_chunk-6d4ad307c500b6871a7e35de846941e5', 5, 1)\",\"('getitem-normal-mean_chunk-6d4ad307c500b6871a7e35de846941e5', 13, 1)\",\"('getitem-normal-mean_chunk-6d4ad307c500b6871a7e35de846941e5', 14, 1)\",\"('mean_chunk-6d4ad307c500b6871a7e35de846941e5', 8, 1)\",\"('getitem-normal-mean_chunk-6d4ad307c500b6871a7e35de846941e5', 15, 1)\",\"('mean_chunk-6d4ad307c500b6871a7e35de846941e5', 7, 1)\",\"('mean_combine-partial-d6cb93770dcbe043f79eaee930821864', 1, 1)\",\"('mean_chunk-6d4ad307c500b6871a7e35de846941e5', 9, 1)\",\"('getitem-normal-mean_chunk-6d4ad307c500b6871a7e35de846941e5', 16, 1)\",\"('getitem-normal-mean_chunk-6d4ad307c500b6871a7e35de846941e5', 17, 1)\",\"('mean_chunk-6d4ad307c500b6871a7e35de846941e5', 10, 1)\",\"('getitem-normal-mean_chunk-6d4ad307c500b6871a7e35de846941e5', 18, 1)\",\"('mean_chunk-6d4ad307c500b6871a7e35de846941e5', 11, 1)\",\"('mean_combine-partial-d6cb93770dcbe043f79eaee930821864', 2, 1)\",\"('getitem-normal-mean_chunk-6d4ad307c500b6871a7e35de846941e5', 19, 1)\",\"('mean_chunk-6d4ad307c500b6871a7e35de846941e5', 15, 1)\",\"('getitem-normal-mean_chunk-6d4ad307c500b6871a7e35de846941e5', 0, 2)\",\"('mean_chunk-6d4ad307c500b6871a7e35de846941e5', 16, 1)\",\"('mean_chunk-6d4ad307c500b6871a7e35de846941e5', 12, 1)\",\"('getitem-normal-mean_chunk-6d4ad307c500b6871a7e35de846941e5', 1, 2)\",\"('mean_chunk-6d4ad307c500b6871a7e35de846941e5', 14, 1)\",\"('getitem-normal-mean_chunk-6d4ad307c500b6871a7e35de846941e5', 2, 2)\",\"('getitem-normal-mean_chunk-6d4ad307c500b6871a7e35de846941e5', 3, 2)\",\"('mean_chunk-6d4ad307c500b6871a7e35de846941e5', 17, 1)\",\"('getitem-normal-mean_chunk-6d4ad307c500b6871a7e35de846941e5', 4, 2)\",\"('mean_chunk-6d4ad307c500b6871a7e35de846941e5', 18, 1)\",\"('mean_chunk-6d4ad307c500b6871a7e35de846941e5', 13, 1)\",\"('getitem-normal-mean_chunk-6d4ad307c500b6871a7e35de846941e5', 5, 2)\",\"('mean_combine-partial-d6cb93770dcbe043f79eaee930821864', 3, 1)\",\"('mean_combine-partial-9f562b5c77ca67da13fd68053fb1f8b6', 0, 1)\",\"('mean_chunk-6d4ad307c500b6871a7e35de846941e5', 19, 1)\",\"('getitem-normal-mean_chunk-6d4ad307c500b6871a7e35de846941e5', 6, 2)\",\"('mean_combine-partial-9f562b5c77ca67da13fd68053fb1f8b6', 1, 1)\",\"('mean_agg-aggregate-f44d12783a3c5c423cf0d9b55a14c4a8', 1)\",\"('getitem-normal-mean_chunk-6d4ad307c500b6871a7e35de846941e5', 7, 2)\",\"('mean_chunk-6d4ad307c500b6871a7e35de846941e5', 0, 2)\",\"('getitem-normal-mean_chunk-6d4ad307c500b6871a7e35de846941e5', 8, 2)\",\"('mean_chunk-6d4ad307c500b6871a7e35de846941e5', 1, 2)\",\"('getitem-normal-mean_chunk-6d4ad307c500b6871a7e35de846941e5', 9, 2)\",\"('mean_chunk-6d4ad307c500b6871a7e35de846941e5', 2, 2)\",\"('getitem-normal-mean_chunk-6d4ad307c500b6871a7e35de846941e5', 10, 2)\",\"('mean_chunk-6d4ad307c500b6871a7e35de846941e5', 3, 2)\",\"('mean_combine-partial-d6cb93770dcbe043f79eaee930821864', 0, 2)\",\"('mean_chunk-6d4ad307c500b6871a7e35de846941e5', 4, 2)\",\"('getitem-normal-mean_chunk-6d4ad307c500b6871a7e35de846941e5', 11, 2)\",\"('getitem-normal-mean_chunk-6d4ad307c500b6871a7e35de846941e5', 12, 2)\",\"('mean_chunk-6d4ad307c500b6871a7e35de846941e5', 6, 2)\",\"('getitem-normal-mean_chunk-6d4ad307c500b6871a7e35de846941e5', 13, 2)\",\"('mean_chunk-6d4ad307c500b6871a7e35de846941e5', 5, 2)\",\"('getitem-normal-mean_chunk-6d4ad307c500b6871a7e35de846941e5', 14, 2)\",\"('mean_chunk-6d4ad307c500b6871a7e35de846941e5', 7, 2)\",\"('mean_combine-partial-d6cb93770dcbe043f79eaee930821864', 1, 2)\",\"('getitem-normal-mean_chunk-6d4ad307c500b6871a7e35de846941e5', 15, 2)\",\"('mean_chunk-6d4ad307c500b6871a7e35de846941e5', 8, 2)\",\"('getitem-normal-mean_chunk-6d4ad307c500b6871a7e35de846941e5', 16, 2)\",\"('mean_chunk-6d4ad307c500b6871a7e35de846941e5', 9, 2)\",\"('mean_chunk-6d4ad307c500b6871a7e35de846941e5', 10, 2)\",\"('getitem-normal-mean_chunk-6d4ad307c500b6871a7e35de846941e5', 17, 2)\",\"('getitem-normal-mean_chunk-6d4ad307c500b6871a7e35de846941e5', 18, 2)\",\"('mean_chunk-6d4ad307c500b6871a7e35de846941e5', 13, 2)\",\"('getitem-normal-mean_chunk-6d4ad307c500b6871a7e35de846941e5', 19, 2)\",\"('mean_chunk-6d4ad307c500b6871a7e35de846941e5', 14, 2)\",\"('getitem-normal-mean_chunk-6d4ad307c500b6871a7e35de846941e5', 0, 3)\",\"('mean_chunk-6d4ad307c500b6871a7e35de846941e5', 11, 2)\",\"('mean_combine-partial-d6cb93770dcbe043f79eaee930821864', 2, 2)\",\"('getitem-normal-mean_chunk-6d4ad307c500b6871a7e35de846941e5', 1, 3)\",\"('mean_chunk-6d4ad307c500b6871a7e35de846941e5', 12, 2)\",\"('getitem-normal-mean_chunk-6d4ad307c500b6871a7e35de846941e5', 2, 3)\",\"('mean_chunk-6d4ad307c500b6871a7e35de846941e5', 15, 2)\",\"('mean_combine-partial-d6cb93770dcbe043f79eaee930821864', 3, 2)\",\"('mean_combine-partial-9f562b5c77ca67da13fd68053fb1f8b6', 0, 2)\",\"('getitem-normal-mean_chunk-6d4ad307c500b6871a7e35de846941e5', 3, 3)\",\"('mean_chunk-6d4ad307c500b6871a7e35de846941e5', 16, 2)\",\"('getitem-normal-mean_chunk-6d4ad307c500b6871a7e35de846941e5', 4, 3)\",\"('mean_chunk-6d4ad307c500b6871a7e35de846941e5', 17, 2)\",\"('mean_chunk-6d4ad307c500b6871a7e35de846941e5', 18, 2)\",\"('getitem-normal-mean_chunk-6d4ad307c500b6871a7e35de846941e5', 5, 3)\",\"('getitem-normal-mean_chunk-6d4ad307c500b6871a7e35de846941e5', 6, 3)\",\"('mean_chunk-6d4ad307c500b6871a7e35de846941e5', 0, 3)\",\"('getitem-normal-mean_chunk-6d4ad307c500b6871a7e35de846941e5', 7, 3)\",\"('mean_chunk-6d4ad307c500b6871a7e35de846941e5', 19, 2)\",\"('mean_combine-partial-9f562b5c77ca67da13fd68053fb1f8b6', 1, 2)\",\"('mean_agg-aggregate-f44d12783a3c5c423cf0d9b55a14c4a8', 2)\",\"('getitem-normal-mean_chunk-6d4ad307c500b6871a7e35de846941e5', 8, 3)\",\"('mean_chunk-6d4ad307c500b6871a7e35de846941e5', 1, 3)\",\"('getitem-normal-mean_chunk-6d4ad307c500b6871a7e35de846941e5', 9, 3)\",\"('mean_chunk-6d4ad307c500b6871a7e35de846941e5', 2, 3)\",\"('getitem-normal-mean_chunk-6d4ad307c500b6871a7e35de846941e5', 10, 3)\",\"('mean_chunk-6d4ad307c500b6871a7e35de846941e5', 3, 3)\",\"('mean_combine-partial-d6cb93770dcbe043f79eaee930821864', 0, 3)\",\"('getitem-normal-mean_chunk-6d4ad307c500b6871a7e35de846941e5', 11, 3)\",\"('mean_chunk-6d4ad307c500b6871a7e35de846941e5', 4, 3)\",\"('getitem-normal-mean_chunk-6d4ad307c500b6871a7e35de846941e5', 12, 3)\",\"('mean_chunk-6d4ad307c500b6871a7e35de846941e5', 5, 3)\",\"('getitem-normal-mean_chunk-6d4ad307c500b6871a7e35de846941e5', 13, 3)\",\"('mean_chunk-6d4ad307c500b6871a7e35de846941e5', 6, 3)\",\"('getitem-normal-mean_chunk-6d4ad307c500b6871a7e35de846941e5', 14, 3)\",\"('mean_chunk-6d4ad307c500b6871a7e35de846941e5', 7, 3)\",\"('mean_combine-partial-d6cb93770dcbe043f79eaee930821864', 1, 3)\",\"('getitem-normal-mean_chunk-6d4ad307c500b6871a7e35de846941e5', 15, 3)\",\"('mean_chunk-6d4ad307c500b6871a7e35de846941e5', 8, 3)\",\"('getitem-normal-mean_chunk-6d4ad307c500b6871a7e35de846941e5', 16, 3)\",\"('mean_chunk-6d4ad307c500b6871a7e35de846941e5', 9, 3)\",\"('getitem-normal-mean_chunk-6d4ad307c500b6871a7e35de846941e5', 17, 3)\",\"('mean_chunk-6d4ad307c500b6871a7e35de846941e5', 10, 3)\",\"('getitem-normal-mean_chunk-6d4ad307c500b6871a7e35de846941e5', 18, 3)\",\"('mean_chunk-6d4ad307c500b6871a7e35de846941e5', 11, 3)\",\"('mean_combine-partial-d6cb93770dcbe043f79eaee930821864', 2, 3)\",\"('getitem-normal-mean_chunk-6d4ad307c500b6871a7e35de846941e5', 19, 3)\",\"('mean_chunk-6d4ad307c500b6871a7e35de846941e5', 13, 3)\",\"('getitem-normal-mean_chunk-6d4ad307c500b6871a7e35de846941e5', 0, 4)\",\"('mean_chunk-6d4ad307c500b6871a7e35de846941e5', 14, 3)\",\"('getitem-normal-mean_chunk-6d4ad307c500b6871a7e35de846941e5', 1, 4)\",\"('mean_chunk-6d4ad307c500b6871a7e35de846941e5', 12, 3)\",\"('mean_chunk-6d4ad307c500b6871a7e35de846941e5', 15, 3)\",\"('getitem-normal-mean_chunk-6d4ad307c500b6871a7e35de846941e5', 2, 4)\",\"('mean_combine-partial-d6cb93770dcbe043f79eaee930821864', 3, 3)\",\"('mean_combine-partial-9f562b5c77ca67da13fd68053fb1f8b6', 0, 3)\",\"('getitem-normal-mean_chunk-6d4ad307c500b6871a7e35de846941e5', 3, 4)\",\"('mean_chunk-6d4ad307c500b6871a7e35de846941e5', 16, 3)\",\"('getitem-normal-mean_chunk-6d4ad307c500b6871a7e35de846941e5', 4, 4)\",\"('mean_chunk-6d4ad307c500b6871a7e35de846941e5', 18, 3)\",\"('getitem-normal-mean_chunk-6d4ad307c500b6871a7e35de846941e5', 5, 4)\",\"('mean_chunk-6d4ad307c500b6871a7e35de846941e5', 17, 3)\",\"('getitem-normal-mean_chunk-6d4ad307c500b6871a7e35de846941e5', 6, 4)\",\"('mean_chunk-6d4ad307c500b6871a7e35de846941e5', 19, 3)\",\"('mean_combine-partial-9f562b5c77ca67da13fd68053fb1f8b6', 1, 3)\",\"('mean_agg-aggregate-f44d12783a3c5c423cf0d9b55a14c4a8', 3)\",\"('getitem-normal-mean_chunk-6d4ad307c500b6871a7e35de846941e5', 7, 4)\",\"('mean_chunk-6d4ad307c500b6871a7e35de846941e5', 1, 4)\",\"('getitem-normal-mean_chunk-6d4ad307c500b6871a7e35de846941e5', 8, 4)\",\"('mean_chunk-6d4ad307c500b6871a7e35de846941e5', 3, 4)\",\"('getitem-normal-mean_chunk-6d4ad307c500b6871a7e35de846941e5', 9, 4)\",\"('mean_chunk-6d4ad307c500b6871a7e35de846941e5', 0, 4)\",\"('mean_chunk-6d4ad307c500b6871a7e35de846941e5', 4, 4)\",\"('getitem-normal-mean_chunk-6d4ad307c500b6871a7e35de846941e5', 10, 4)\",\"('getitem-normal-mean_chunk-6d4ad307c500b6871a7e35de846941e5', 11, 4)\",\"('mean_chunk-6d4ad307c500b6871a7e35de846941e5', 2, 4)\",\"('mean_chunk-6d4ad307c500b6871a7e35de846941e5', 5, 4)\",\"('mean_combine-partial-d6cb93770dcbe043f79eaee930821864', 0, 4)\",\"('mean_chunk-6d4ad307c500b6871a7e35de846941e5', 6, 4)\",\"('getitem-normal-mean_chunk-6d4ad307c500b6871a7e35de846941e5', 12, 4)\",\"('getitem-normal-mean_chunk-6d4ad307c500b6871a7e35de846941e5', 13, 4)\",\"('getitem-normal-mean_chunk-6d4ad307c500b6871a7e35de846941e5', 14, 4)\",\"('mean_chunk-6d4ad307c500b6871a7e35de846941e5', 7, 4)\",\"('mean_combine-partial-d6cb93770dcbe043f79eaee930821864', 1, 4)\",\"('getitem-normal-mean_chunk-6d4ad307c500b6871a7e35de846941e5', 15, 4)\",\"('mean_chunk-6d4ad307c500b6871a7e35de846941e5', 8, 4)\",\"('getitem-normal-mean_chunk-6d4ad307c500b6871a7e35de846941e5', 16, 4)\",\"('mean_chunk-6d4ad307c500b6871a7e35de846941e5', 9, 4)\",\"('getitem-normal-mean_chunk-6d4ad307c500b6871a7e35de846941e5', 17, 4)\",\"('mean_chunk-6d4ad307c500b6871a7e35de846941e5', 11, 4)\",\"('getitem-normal-mean_chunk-6d4ad307c500b6871a7e35de846941e5', 18, 4)\",\"('mean_chunk-6d4ad307c500b6871a7e35de846941e5', 10, 4)\",\"('mean_combine-partial-d6cb93770dcbe043f79eaee930821864', 2, 4)\",\"('getitem-normal-mean_chunk-6d4ad307c500b6871a7e35de846941e5', 19, 4)\",\"('mean_chunk-6d4ad307c500b6871a7e35de846941e5', 12, 4)\",\"('getitem-normal-mean_chunk-6d4ad307c500b6871a7e35de846941e5', 0, 5)\",\"('mean_chunk-6d4ad307c500b6871a7e35de846941e5', 13, 4)\",\"('mean_chunk-6d4ad307c500b6871a7e35de846941e5', 14, 4)\",\"('getitem-normal-mean_chunk-6d4ad307c500b6871a7e35de846941e5', 1, 5)\",\"('getitem-normal-mean_chunk-6d4ad307c500b6871a7e35de846941e5', 2, 5)\",\"('mean_chunk-6d4ad307c500b6871a7e35de846941e5', 15, 4)\",\"('mean_combine-partial-d6cb93770dcbe043f79eaee930821864', 3, 4)\",\"('mean_combine-partial-9f562b5c77ca67da13fd68053fb1f8b6', 0, 4)\",\"('getitem-normal-mean_chunk-6d4ad307c500b6871a7e35de846941e5', 3, 5)\",\"('mean_chunk-6d4ad307c500b6871a7e35de846941e5', 17, 4)\",\"('mean_chunk-6d4ad307c500b6871a7e35de846941e5', 16, 4)\",\"('getitem-normal-mean_chunk-6d4ad307c500b6871a7e35de846941e5', 4, 5)\",\"('mean_chunk-6d4ad307c500b6871a7e35de846941e5', 18, 4)\",\"('getitem-normal-mean_chunk-6d4ad307c500b6871a7e35de846941e5', 5, 5)\",\"('getitem-normal-mean_chunk-6d4ad307c500b6871a7e35de846941e5', 6, 5)\",\"('mean_chunk-6d4ad307c500b6871a7e35de846941e5', 19, 4)\",\"('mean_combine-partial-9f562b5c77ca67da13fd68053fb1f8b6', 1, 4)\",\"('mean_chunk-6d4ad307c500b6871a7e35de846941e5', 0, 5)\",\"('getitem-normal-mean_chunk-6d4ad307c500b6871a7e35de846941e5', 7, 5)\",\"('mean_agg-aggregate-f44d12783a3c5c423cf0d9b55a14c4a8', 4)\",\"('getitem-normal-mean_chunk-6d4ad307c500b6871a7e35de846941e5', 8, 5)\",\"('mean_chunk-6d4ad307c500b6871a7e35de846941e5', 1, 5)\",\"('mean_chunk-6d4ad307c500b6871a7e35de846941e5', 2, 5)\",\"('getitem-normal-mean_chunk-6d4ad307c500b6871a7e35de846941e5', 9, 5)\",\"('getitem-normal-mean_chunk-6d4ad307c500b6871a7e35de846941e5', 10, 5)\",\"('mean_chunk-6d4ad307c500b6871a7e35de846941e5', 3, 5)\",\"('mean_combine-partial-d6cb93770dcbe043f79eaee930821864', 0, 5)\",\"('getitem-normal-mean_chunk-6d4ad307c500b6871a7e35de846941e5', 11, 5)\",\"('mean_chunk-6d4ad307c500b6871a7e35de846941e5', 5, 5)\",\"('getitem-normal-mean_chunk-6d4ad307c500b6871a7e35de846941e5', 12, 5)\",\"('mean_chunk-6d4ad307c500b6871a7e35de846941e5', 6, 5)\",\"('getitem-normal-mean_chunk-6d4ad307c500b6871a7e35de846941e5', 13, 5)\",\"('mean_chunk-6d4ad307c500b6871a7e35de846941e5', 4, 5)\",\"('getitem-normal-mean_chunk-6d4ad307c500b6871a7e35de846941e5', 14, 5)\",\"('mean_chunk-6d4ad307c500b6871a7e35de846941e5', 7, 5)\",\"('mean_combine-partial-d6cb93770dcbe043f79eaee930821864', 1, 5)\",\"('getitem-normal-mean_chunk-6d4ad307c500b6871a7e35de846941e5', 15, 5)\",\"('mean_chunk-6d4ad307c500b6871a7e35de846941e5', 8, 5)\",\"('getitem-normal-mean_chunk-6d4ad307c500b6871a7e35de846941e5', 16, 5)\",\"('mean_chunk-6d4ad307c500b6871a7e35de846941e5', 9, 5)\",\"('getitem-normal-mean_chunk-6d4ad307c500b6871a7e35de846941e5', 17, 5)\",\"('mean_chunk-6d4ad307c500b6871a7e35de846941e5', 10, 5)\",\"('getitem-normal-mean_chunk-6d4ad307c500b6871a7e35de846941e5', 18, 5)\",\"('mean_chunk-6d4ad307c500b6871a7e35de846941e5', 11, 5)\",\"('mean_combine-partial-d6cb93770dcbe043f79eaee930821864', 2, 5)\",\"('getitem-normal-mean_chunk-6d4ad307c500b6871a7e35de846941e5', 19, 5)\",\"('mean_chunk-6d4ad307c500b6871a7e35de846941e5', 12, 5)\",\"('getitem-normal-mean_chunk-6d4ad307c500b6871a7e35de846941e5', 0, 6)\",\"('mean_chunk-6d4ad307c500b6871a7e35de846941e5', 14, 5)\",\"('mean_chunk-6d4ad307c500b6871a7e35de846941e5', 13, 5)\",\"('mean_chunk-6d4ad307c500b6871a7e35de846941e5', 15, 5)\",\"('getitem-normal-mean_chunk-6d4ad307c500b6871a7e35de846941e5', 1, 6)\",\"('getitem-normal-mean_chunk-6d4ad307c500b6871a7e35de846941e5', 2, 6)\",\"('mean_combine-partial-d6cb93770dcbe043f79eaee930821864', 3, 5)\",\"('mean_chunk-6d4ad307c500b6871a7e35de846941e5', 16, 5)\",\"('getitem-normal-mean_chunk-6d4ad307c500b6871a7e35de846941e5', 3, 6)\",\"('mean_combine-partial-9f562b5c77ca67da13fd68053fb1f8b6', 0, 5)\",\"('getitem-normal-mean_chunk-6d4ad307c500b6871a7e35de846941e5', 4, 6)\",\"('mean_chunk-6d4ad307c500b6871a7e35de846941e5', 18, 5)\",\"('mean_chunk-6d4ad307c500b6871a7e35de846941e5', 17, 5)\",\"('getitem-normal-mean_chunk-6d4ad307c500b6871a7e35de846941e5', 5, 6)\",\"('getitem-normal-mean_chunk-6d4ad307c500b6871a7e35de846941e5', 6, 6)\",\"('mean_chunk-6d4ad307c500b6871a7e35de846941e5', 19, 5)\",\"('mean_combine-partial-9f562b5c77ca67da13fd68053fb1f8b6', 1, 5)\",\"('mean_agg-aggregate-f44d12783a3c5c423cf0d9b55a14c4a8', 5)\",\"('getitem-normal-mean_chunk-6d4ad307c500b6871a7e35de846941e5', 7, 6)\",\"('mean_chunk-6d4ad307c500b6871a7e35de846941e5', 0, 6)\",\"('getitem-normal-mean_chunk-6d4ad307c500b6871a7e35de846941e5', 8, 6)\",\"('mean_chunk-6d4ad307c500b6871a7e35de846941e5', 2, 6)\",\"('getitem-normal-mean_chunk-6d4ad307c500b6871a7e35de846941e5', 9, 6)\",\"('mean_chunk-6d4ad307c500b6871a7e35de846941e5', 1, 6)\",\"('getitem-normal-mean_chunk-6d4ad307c500b6871a7e35de846941e5', 10, 6)\",\"('mean_chunk-6d4ad307c500b6871a7e35de846941e5', 4, 6)\",\"('mean_chunk-6d4ad307c500b6871a7e35de846941e5', 3, 6)\",\"('getitem-normal-mean_chunk-6d4ad307c500b6871a7e35de846941e5', 11, 6)\",\"('mean_combine-partial-d6cb93770dcbe043f79eaee930821864', 0, 6)\",\"('getitem-normal-mean_chunk-6d4ad307c500b6871a7e35de846941e5', 12, 6)\",\"('mean_chunk-6d4ad307c500b6871a7e35de846941e5', 6, 6)\",\"('getitem-normal-mean_chunk-6d4ad307c500b6871a7e35de846941e5', 13, 6)\",\"('mean_chunk-6d4ad307c500b6871a7e35de846941e5', 5, 6)\",\"('getitem-normal-mean_chunk-6d4ad307c500b6871a7e35de846941e5', 14, 6)\",\"('mean_chunk-6d4ad307c500b6871a7e35de846941e5', 7, 6)\",\"('mean_combine-partial-d6cb93770dcbe043f79eaee930821864', 1, 6)\",\"('getitem-normal-mean_chunk-6d4ad307c500b6871a7e35de846941e5', 15, 6)\",\"('mean_chunk-6d4ad307c500b6871a7e35de846941e5', 8, 6)\",\"('getitem-normal-mean_chunk-6d4ad307c500b6871a7e35de846941e5', 16, 6)\",\"('mean_chunk-6d4ad307c500b6871a7e35de846941e5', 9, 6)\",\"('getitem-normal-mean_chunk-6d4ad307c500b6871a7e35de846941e5', 17, 6)\",\"('mean_chunk-6d4ad307c500b6871a7e35de846941e5', 12, 6)\",\"('getitem-normal-mean_chunk-6d4ad307c500b6871a7e35de846941e5', 18, 6)\",\"('mean_chunk-6d4ad307c500b6871a7e35de846941e5', 10, 6)\",\"('getitem-normal-mean_chunk-6d4ad307c500b6871a7e35de846941e5', 19, 6)\",\"('mean_chunk-6d4ad307c500b6871a7e35de846941e5', 11, 6)\",\"('mean_combine-partial-d6cb93770dcbe043f79eaee930821864', 2, 6)\",\"('getitem-normal-mean_chunk-6d4ad307c500b6871a7e35de846941e5', 0, 7)\",\"('mean_chunk-6d4ad307c500b6871a7e35de846941e5', 14, 6)\",\"('getitem-normal-mean_chunk-6d4ad307c500b6871a7e35de846941e5', 1, 7)\",\"('mean_chunk-6d4ad307c500b6871a7e35de846941e5', 13, 6)\",\"('getitem-normal-mean_chunk-6d4ad307c500b6871a7e35de846941e5', 2, 7)\",\"('mean_chunk-6d4ad307c500b6871a7e35de846941e5', 15, 6)\",\"('mean_combine-partial-d6cb93770dcbe043f79eaee930821864', 3, 6)\",\"('mean_combine-partial-9f562b5c77ca67da13fd68053fb1f8b6', 0, 6)\",\"('getitem-normal-mean_chunk-6d4ad307c500b6871a7e35de846941e5', 3, 7)\",\"('mean_chunk-6d4ad307c500b6871a7e35de846941e5', 16, 6)\",\"('getitem-normal-mean_chunk-6d4ad307c500b6871a7e35de846941e5', 4, 7)\",\"('mean_chunk-6d4ad307c500b6871a7e35de846941e5', 17, 6)\",\"('getitem-normal-mean_chunk-6d4ad307c500b6871a7e35de846941e5', 5, 7)\",\"('mean_chunk-6d4ad307c500b6871a7e35de846941e5', 18, 6)\",\"('getitem-normal-mean_chunk-6d4ad307c500b6871a7e35de846941e5', 6, 7)\",\"('mean_chunk-6d4ad307c500b6871a7e35de846941e5', 0, 7)\",\"('getitem-normal-mean_chunk-6d4ad307c500b6871a7e35de846941e5', 7, 7)\",\"('mean_chunk-6d4ad307c500b6871a7e35de846941e5', 19, 6)\",\"('mean_combine-partial-9f562b5c77ca67da13fd68053fb1f8b6', 1, 6)\",\"('mean_agg-aggregate-f44d12783a3c5c423cf0d9b55a14c4a8', 6)\",\"('getitem-normal-mean_chunk-6d4ad307c500b6871a7e35de846941e5', 8, 7)\",\"('mean_chunk-6d4ad307c500b6871a7e35de846941e5', 1, 7)\",\"('getitem-normal-mean_chunk-6d4ad307c500b6871a7e35de846941e5', 9, 7)\",\"('mean_chunk-6d4ad307c500b6871a7e35de846941e5', 2, 7)\",\"('getitem-normal-mean_chunk-6d4ad307c500b6871a7e35de846941e5', 10, 7)\",\"('mean_chunk-6d4ad307c500b6871a7e35de846941e5', 3, 7)\",\"('mean_combine-partial-d6cb93770dcbe043f79eaee930821864', 0, 7)\",\"('getitem-normal-mean_chunk-6d4ad307c500b6871a7e35de846941e5', 11, 7)\",\"('mean_chunk-6d4ad307c500b6871a7e35de846941e5', 4, 7)\",\"('getitem-normal-mean_chunk-6d4ad307c500b6871a7e35de846941e5', 12, 7)\",\"('mean_chunk-6d4ad307c500b6871a7e35de846941e5', 5, 7)\",\"('getitem-normal-mean_chunk-6d4ad307c500b6871a7e35de846941e5', 13, 7)\",\"('mean_chunk-6d4ad307c500b6871a7e35de846941e5', 8, 7)\",\"('getitem-normal-mean_chunk-6d4ad307c500b6871a7e35de846941e5', 14, 7)\",\"('mean_chunk-6d4ad307c500b6871a7e35de846941e5', 6, 7)\",\"('mean_chunk-6d4ad307c500b6871a7e35de846941e5', 7, 7)\",\"('getitem-normal-mean_chunk-6d4ad307c500b6871a7e35de846941e5', 15, 7)\",\"('mean_combine-partial-d6cb93770dcbe043f79eaee930821864', 1, 7)\",\"('getitem-normal-mean_chunk-6d4ad307c500b6871a7e35de846941e5', 16, 7)\",\"('mean_chunk-6d4ad307c500b6871a7e35de846941e5', 9, 7)\",\"('getitem-normal-mean_chunk-6d4ad307c500b6871a7e35de846941e5', 17, 7)\",\"('mean_chunk-6d4ad307c500b6871a7e35de846941e5', 10, 7)\",\"('getitem-normal-mean_chunk-6d4ad307c500b6871a7e35de846941e5', 18, 7)\",\"('mean_chunk-6d4ad307c500b6871a7e35de846941e5', 11, 7)\",\"('mean_combine-partial-d6cb93770dcbe043f79eaee930821864', 2, 7)\",\"('getitem-normal-mean_chunk-6d4ad307c500b6871a7e35de846941e5', 19, 7)\",\"('mean_chunk-6d4ad307c500b6871a7e35de846941e5', 12, 7)\",\"('getitem-normal-mean_chunk-6d4ad307c500b6871a7e35de846941e5', 0, 8)\",\"('mean_chunk-6d4ad307c500b6871a7e35de846941e5', 13, 7)\",\"('getitem-normal-mean_chunk-6d4ad307c500b6871a7e35de846941e5', 1, 8)\",\"('mean_chunk-6d4ad307c500b6871a7e35de846941e5', 15, 7)\",\"('getitem-normal-mean_chunk-6d4ad307c500b6871a7e35de846941e5', 2, 8)\",\"('mean_chunk-6d4ad307c500b6871a7e35de846941e5', 14, 7)\",\"('mean_combine-partial-d6cb93770dcbe043f79eaee930821864', 3, 7)\",\"('mean_combine-partial-9f562b5c77ca67da13fd68053fb1f8b6', 0, 7)\",\"('getitem-normal-mean_chunk-6d4ad307c500b6871a7e35de846941e5', 3, 8)\",\"('mean_chunk-6d4ad307c500b6871a7e35de846941e5', 16, 7)\",\"('getitem-normal-mean_chunk-6d4ad307c500b6871a7e35de846941e5', 4, 8)\",\"('mean_chunk-6d4ad307c500b6871a7e35de846941e5', 17, 7)\",\"('getitem-normal-mean_chunk-6d4ad307c500b6871a7e35de846941e5', 5, 8)\",\"('mean_chunk-6d4ad307c500b6871a7e35de846941e5', 18, 7)\",\"('getitem-normal-mean_chunk-6d4ad307c500b6871a7e35de846941e5', 6, 8)\",\"('mean_chunk-6d4ad307c500b6871a7e35de846941e5', 19, 7)\",\"('mean_combine-partial-9f562b5c77ca67da13fd68053fb1f8b6', 1, 7)\",\"('mean_agg-aggregate-f44d12783a3c5c423cf0d9b55a14c4a8', 7)\",\"('getitem-normal-mean_chunk-6d4ad307c500b6871a7e35de846941e5', 7, 8)\",\"('mean_chunk-6d4ad307c500b6871a7e35de846941e5', 0, 8)\",\"('getitem-normal-mean_chunk-6d4ad307c500b6871a7e35de846941e5', 8, 8)\",\"('mean_chunk-6d4ad307c500b6871a7e35de846941e5', 1, 8)\",\"('mean_chunk-6d4ad307c500b6871a7e35de846941e5', 2, 8)\",\"('getitem-normal-mean_chunk-6d4ad307c500b6871a7e35de846941e5', 9, 8)\",\"('getitem-normal-mean_chunk-6d4ad307c500b6871a7e35de846941e5', 10, 8)\",\"('mean_chunk-6d4ad307c500b6871a7e35de846941e5', 3, 8)\",\"('mean_combine-partial-d6cb93770dcbe043f79eaee930821864', 0, 8)\",\"('mean_chunk-6d4ad307c500b6871a7e35de846941e5', 4, 8)\",\"('getitem-normal-mean_chunk-6d4ad307c500b6871a7e35de846941e5', 11, 8)\",\"('getitem-normal-mean_chunk-6d4ad307c500b6871a7e35de846941e5', 12, 8)\",\"('mean_chunk-6d4ad307c500b6871a7e35de846941e5', 5, 8)\",\"('mean_chunk-6d4ad307c500b6871a7e35de846941e5', 6, 8)\",\"('getitem-normal-mean_chunk-6d4ad307c500b6871a7e35de846941e5', 13, 8)\",\"('getitem-normal-mean_chunk-6d4ad307c500b6871a7e35de846941e5', 14, 8)\",\"('mean_chunk-6d4ad307c500b6871a7e35de846941e5', 7, 8)\",\"('mean_combine-partial-d6cb93770dcbe043f79eaee930821864', 1, 8)\",\"('getitem-normal-mean_chunk-6d4ad307c500b6871a7e35de846941e5', 15, 8)\",\"('mean_chunk-6d4ad307c500b6871a7e35de846941e5', 8, 8)\",\"('getitem-normal-mean_chunk-6d4ad307c500b6871a7e35de846941e5', 16, 8)\",\"('mean_chunk-6d4ad307c500b6871a7e35de846941e5', 9, 8)\",\"('getitem-normal-mean_chunk-6d4ad307c500b6871a7e35de846941e5', 17, 8)\",\"('mean_chunk-6d4ad307c500b6871a7e35de846941e5', 10, 8)\",\"('getitem-normal-mean_chunk-6d4ad307c500b6871a7e35de846941e5', 18, 8)\",\"('mean_chunk-6d4ad307c500b6871a7e35de846941e5', 11, 8)\",\"('mean_combine-partial-d6cb93770dcbe043f79eaee930821864', 2, 8)\",\"('getitem-normal-mean_chunk-6d4ad307c500b6871a7e35de846941e5', 19, 8)\",\"('mean_chunk-6d4ad307c500b6871a7e35de846941e5', 12, 8)\",\"('getitem-normal-mean_chunk-6d4ad307c500b6871a7e35de846941e5', 0, 9)\",\"('mean_chunk-6d4ad307c500b6871a7e35de846941e5', 13, 8)\",\"('getitem-normal-mean_chunk-6d4ad307c500b6871a7e35de846941e5', 1, 9)\",\"('mean_chunk-6d4ad307c500b6871a7e35de846941e5', 14, 8)\",\"('getitem-normal-mean_chunk-6d4ad307c500b6871a7e35de846941e5', 2, 9)\",\"('mean_chunk-6d4ad307c500b6871a7e35de846941e5', 15, 8)\",\"('mean_combine-partial-d6cb93770dcbe043f79eaee930821864', 3, 8)\",\"('mean_combine-partial-9f562b5c77ca67da13fd68053fb1f8b6', 0, 8)\",\"('getitem-normal-mean_chunk-6d4ad307c500b6871a7e35de846941e5', 3, 9)\",\"('mean_chunk-6d4ad307c500b6871a7e35de846941e5', 16, 8)\",\"('getitem-normal-mean_chunk-6d4ad307c500b6871a7e35de846941e5', 4, 9)\",\"('mean_chunk-6d4ad307c500b6871a7e35de846941e5', 18, 8)\",\"('getitem-normal-mean_chunk-6d4ad307c500b6871a7e35de846941e5', 5, 9)\",\"('mean_chunk-6d4ad307c500b6871a7e35de846941e5', 17, 8)\",\"('getitem-normal-mean_chunk-6d4ad307c500b6871a7e35de846941e5', 6, 9)\",\"('mean_chunk-6d4ad307c500b6871a7e35de846941e5', 19, 8)\",\"('mean_combine-partial-9f562b5c77ca67da13fd68053fb1f8b6', 1, 8)\",\"('mean_agg-aggregate-f44d12783a3c5c423cf0d9b55a14c4a8', 8)\",\"('getitem-normal-mean_chunk-6d4ad307c500b6871a7e35de846941e5', 7, 9)\",\"('mean_chunk-6d4ad307c500b6871a7e35de846941e5', 0, 9)\",\"('getitem-normal-mean_chunk-6d4ad307c500b6871a7e35de846941e5', 8, 9)\",\"('mean_chunk-6d4ad307c500b6871a7e35de846941e5', 1, 9)\",\"('getitem-normal-mean_chunk-6d4ad307c500b6871a7e35de846941e5', 9, 9)\",\"('mean_chunk-6d4ad307c500b6871a7e35de846941e5', 3, 9)\",\"('getitem-normal-mean_chunk-6d4ad307c500b6871a7e35de846941e5', 10, 9)\",\"('mean_chunk-6d4ad307c500b6871a7e35de846941e5', 2, 9)\",\"('mean_combine-partial-d6cb93770dcbe043f79eaee930821864', 0, 9)\",\"('getitem-normal-mean_chunk-6d4ad307c500b6871a7e35de846941e5', 11, 9)\",\"('mean_chunk-6d4ad307c500b6871a7e35de846941e5', 4, 9)\",\"('getitem-normal-mean_chunk-6d4ad307c500b6871a7e35de846941e5', 12, 9)\",\"('mean_chunk-6d4ad307c500b6871a7e35de846941e5', 5, 9)\",\"('getitem-normal-mean_chunk-6d4ad307c500b6871a7e35de846941e5', 13, 9)\",\"('mean_chunk-6d4ad307c500b6871a7e35de846941e5', 6, 9)\",\"('getitem-normal-mean_chunk-6d4ad307c500b6871a7e35de846941e5', 14, 9)\",\"('mean_chunk-6d4ad307c500b6871a7e35de846941e5', 7, 9)\",\"('mean_combine-partial-d6cb93770dcbe043f79eaee930821864', 1, 9)\",\"('mean_chunk-6d4ad307c500b6871a7e35de846941e5', 8, 9)\",\"('getitem-normal-mean_chunk-6d4ad307c500b6871a7e35de846941e5', 15, 9)\",\"('getitem-normal-mean_chunk-6d4ad307c500b6871a7e35de846941e5', 16, 9)\",\"('mean_chunk-6d4ad307c500b6871a7e35de846941e5', 9, 9)\",\"('getitem-normal-mean_chunk-6d4ad307c500b6871a7e35de846941e5', 17, 9)\",\"('mean_chunk-6d4ad307c500b6871a7e35de846941e5', 10, 9)\",\"('getitem-normal-mean_chunk-6d4ad307c500b6871a7e35de846941e5', 18, 9)\",\"('mean_chunk-6d4ad307c500b6871a7e35de846941e5', 11, 9)\",\"('mean_combine-partial-d6cb93770dcbe043f79eaee930821864', 2, 9)\",\"('getitem-normal-mean_chunk-6d4ad307c500b6871a7e35de846941e5', 19, 9)\",\"('mean_chunk-6d4ad307c500b6871a7e35de846941e5', 12, 9)\",\"('getitem-normal-mean_chunk-6d4ad307c500b6871a7e35de846941e5', 0, 10)\",\"('mean_chunk-6d4ad307c500b6871a7e35de846941e5', 14, 9)\",\"('getitem-normal-mean_chunk-6d4ad307c500b6871a7e35de846941e5', 1, 10)\",\"('mean_chunk-6d4ad307c500b6871a7e35de846941e5', 13, 9)\",\"('getitem-normal-mean_chunk-6d4ad307c500b6871a7e35de846941e5', 2, 10)\",\"('mean_chunk-6d4ad307c500b6871a7e35de846941e5', 15, 9)\",\"('mean_combine-partial-d6cb93770dcbe043f79eaee930821864', 3, 9)\",\"('mean_combine-partial-9f562b5c77ca67da13fd68053fb1f8b6', 0, 9)\",\"('getitem-normal-mean_chunk-6d4ad307c500b6871a7e35de846941e5', 3, 10)\",\"('mean_chunk-6d4ad307c500b6871a7e35de846941e5', 16, 9)\",\"('getitem-normal-mean_chunk-6d4ad307c500b6871a7e35de846941e5', 4, 10)\",\"('mean_chunk-6d4ad307c500b6871a7e35de846941e5', 17, 9)\",\"('getitem-normal-mean_chunk-6d4ad307c500b6871a7e35de846941e5', 5, 10)\",\"('mean_chunk-6d4ad307c500b6871a7e35de846941e5', 18, 9)\",\"('getitem-normal-mean_chunk-6d4ad307c500b6871a7e35de846941e5', 6, 10)\",\"('mean_chunk-6d4ad307c500b6871a7e35de846941e5', 19, 9)\",\"('mean_combine-partial-9f562b5c77ca67da13fd68053fb1f8b6', 1, 9)\",\"('mean_chunk-6d4ad307c500b6871a7e35de846941e5', 0, 10)\",\"('getitem-normal-mean_chunk-6d4ad307c500b6871a7e35de846941e5', 7, 10)\",\"('mean_agg-aggregate-f44d12783a3c5c423cf0d9b55a14c4a8', 9)\",\"('getitem-normal-mean_chunk-6d4ad307c500b6871a7e35de846941e5', 8, 10)\",\"('mean_chunk-6d4ad307c500b6871a7e35de846941e5', 1, 10)\",\"('getitem-normal-mean_chunk-6d4ad307c500b6871a7e35de846941e5', 9, 10)\",\"('mean_chunk-6d4ad307c500b6871a7e35de846941e5', 2, 10)\",\"('getitem-normal-mean_chunk-6d4ad307c500b6871a7e35de846941e5', 10, 10)\",\"('mean_chunk-6d4ad307c500b6871a7e35de846941e5', 3, 10)\",\"('mean_combine-partial-d6cb93770dcbe043f79eaee930821864', 0, 10)\",\"('getitem-normal-mean_chunk-6d4ad307c500b6871a7e35de846941e5', 11, 10)\",\"('mean_chunk-6d4ad307c500b6871a7e35de846941e5', 4, 10)\",\"('getitem-normal-mean_chunk-6d4ad307c500b6871a7e35de846941e5', 12, 10)\",\"('mean_chunk-6d4ad307c500b6871a7e35de846941e5', 5, 10)\",\"('getitem-normal-mean_chunk-6d4ad307c500b6871a7e35de846941e5', 13, 10)\",\"('mean_chunk-6d4ad307c500b6871a7e35de846941e5', 6, 10)\",\"('getitem-normal-mean_chunk-6d4ad307c500b6871a7e35de846941e5', 14, 10)\",\"('mean_chunk-6d4ad307c500b6871a7e35de846941e5', 7, 10)\",\"('mean_combine-partial-d6cb93770dcbe043f79eaee930821864', 1, 10)\",\"('getitem-normal-mean_chunk-6d4ad307c500b6871a7e35de846941e5', 15, 10)\",\"('mean_chunk-6d4ad307c500b6871a7e35de846941e5', 8, 10)\",\"('getitem-normal-mean_chunk-6d4ad307c500b6871a7e35de846941e5', 16, 10)\",\"('mean_chunk-6d4ad307c500b6871a7e35de846941e5', 9, 10)\",\"('getitem-normal-mean_chunk-6d4ad307c500b6871a7e35de846941e5', 17, 10)\",\"('mean_chunk-6d4ad307c500b6871a7e35de846941e5', 11, 10)\",\"('getitem-normal-mean_chunk-6d4ad307c500b6871a7e35de846941e5', 18, 10)\",\"('mean_chunk-6d4ad307c500b6871a7e35de846941e5', 10, 10)\",\"('mean_combine-partial-d6cb93770dcbe043f79eaee930821864', 2, 10)\",\"('getitem-normal-mean_chunk-6d4ad307c500b6871a7e35de846941e5', 19, 10)\",\"('mean_chunk-6d4ad307c500b6871a7e35de846941e5', 12, 10)\",\"('getitem-normal-mean_chunk-6d4ad307c500b6871a7e35de846941e5', 0, 11)\",\"('mean_chunk-6d4ad307c500b6871a7e35de846941e5', 13, 10)\",\"('getitem-normal-mean_chunk-6d4ad307c500b6871a7e35de846941e5', 1, 11)\",\"('mean_chunk-6d4ad307c500b6871a7e35de846941e5', 14, 10)\",\"('getitem-normal-mean_chunk-6d4ad307c500b6871a7e35de846941e5', 2, 11)\",\"('mean_chunk-6d4ad307c500b6871a7e35de846941e5', 15, 10)\",\"('mean_combine-partial-d6cb93770dcbe043f79eaee930821864', 3, 10)\",\"('mean_combine-partial-9f562b5c77ca67da13fd68053fb1f8b6', 0, 10)\",\"('getitem-normal-mean_chunk-6d4ad307c500b6871a7e35de846941e5', 3, 11)\",\"('mean_chunk-6d4ad307c500b6871a7e35de846941e5', 16, 10)\",\"('getitem-normal-mean_chunk-6d4ad307c500b6871a7e35de846941e5', 4, 11)\",\"('mean_chunk-6d4ad307c500b6871a7e35de846941e5', 17, 10)\",\"('getitem-normal-mean_chunk-6d4ad307c500b6871a7e35de846941e5', 5, 11)\",\"('mean_chunk-6d4ad307c500b6871a7e35de846941e5', 18, 10)\",\"('getitem-normal-mean_chunk-6d4ad307c500b6871a7e35de846941e5', 6, 11)\",\"('mean_chunk-6d4ad307c500b6871a7e35de846941e5', 0, 11)\",\"('getitem-normal-mean_chunk-6d4ad307c500b6871a7e35de846941e5', 7, 11)\",\"('mean_chunk-6d4ad307c500b6871a7e35de846941e5', 19, 10)\",\"('mean_combine-partial-9f562b5c77ca67da13fd68053fb1f8b6', 1, 10)\",\"('mean_agg-aggregate-f44d12783a3c5c423cf0d9b55a14c4a8', 10)\",\"('getitem-normal-mean_chunk-6d4ad307c500b6871a7e35de846941e5', 8, 11)\",\"('mean_chunk-6d4ad307c500b6871a7e35de846941e5', 1, 11)\",\"('getitem-normal-mean_chunk-6d4ad307c500b6871a7e35de846941e5', 9, 11)\",\"('mean_chunk-6d4ad307c500b6871a7e35de846941e5', 2, 11)\",\"('getitem-normal-mean_chunk-6d4ad307c500b6871a7e35de846941e5', 10, 11)\",\"('mean_chunk-6d4ad307c500b6871a7e35de846941e5', 3, 11)\",\"('mean_combine-partial-d6cb93770dcbe043f79eaee930821864', 0, 11)\",\"('getitem-normal-mean_chunk-6d4ad307c500b6871a7e35de846941e5', 11, 11)\",\"('mean_chunk-6d4ad307c500b6871a7e35de846941e5', 4, 11)\",\"('getitem-normal-mean_chunk-6d4ad307c500b6871a7e35de846941e5', 12, 11)\",\"('mean_chunk-6d4ad307c500b6871a7e35de846941e5', 5, 11)\",\"('getitem-normal-mean_chunk-6d4ad307c500b6871a7e35de846941e5', 13, 11)\",\"('mean_chunk-6d4ad307c500b6871a7e35de846941e5', 6, 11)\",\"('getitem-normal-mean_chunk-6d4ad307c500b6871a7e35de846941e5', 14, 11)\",\"('mean_chunk-6d4ad307c500b6871a7e35de846941e5', 7, 11)\",\"('mean_combine-partial-d6cb93770dcbe043f79eaee930821864', 1, 11)\",\"('getitem-normal-mean_chunk-6d4ad307c500b6871a7e35de846941e5', 15, 11)\",\"('mean_chunk-6d4ad307c500b6871a7e35de846941e5', 8, 11)\",\"('getitem-normal-mean_chunk-6d4ad307c500b6871a7e35de846941e5', 16, 11)\",\"('mean_chunk-6d4ad307c500b6871a7e35de846941e5', 9, 11)\",\"('getitem-normal-mean_chunk-6d4ad307c500b6871a7e35de846941e5', 17, 11)\",\"('mean_chunk-6d4ad307c500b6871a7e35de846941e5', 11, 11)\",\"('mean_chunk-6d4ad307c500b6871a7e35de846941e5', 10, 11)\",\"('getitem-normal-mean_chunk-6d4ad307c500b6871a7e35de846941e5', 18, 11)\",\"('mean_combine-partial-d6cb93770dcbe043f79eaee930821864', 2, 11)\",\"('getitem-normal-mean_chunk-6d4ad307c500b6871a7e35de846941e5', 19, 11)\",\"('mean_chunk-6d4ad307c500b6871a7e35de846941e5', 12, 11)\",\"('getitem-normal-mean_chunk-6d4ad307c500b6871a7e35de846941e5', 0, 12)\",\"('mean_chunk-6d4ad307c500b6871a7e35de846941e5', 13, 11)\",\"('getitem-normal-mean_chunk-6d4ad307c500b6871a7e35de846941e5', 1, 12)\",\"('mean_chunk-6d4ad307c500b6871a7e35de846941e5', 14, 11)\",\"('getitem-normal-mean_chunk-6d4ad307c500b6871a7e35de846941e5', 2, 12)\",\"('mean_chunk-6d4ad307c500b6871a7e35de846941e5', 15, 11)\",\"('mean_combine-partial-d6cb93770dcbe043f79eaee930821864', 3, 11)\",\"('mean_combine-partial-9f562b5c77ca67da13fd68053fb1f8b6', 0, 11)\",\"('getitem-normal-mean_chunk-6d4ad307c500b6871a7e35de846941e5', 3, 12)\",\"('mean_chunk-6d4ad307c500b6871a7e35de846941e5', 16, 11)\",\"('getitem-normal-mean_chunk-6d4ad307c500b6871a7e35de846941e5', 4, 12)\",\"('mean_chunk-6d4ad307c500b6871a7e35de846941e5', 17, 11)\",\"('getitem-normal-mean_chunk-6d4ad307c500b6871a7e35de846941e5', 5, 12)\",\"('mean_chunk-6d4ad307c500b6871a7e35de846941e5', 18, 11)\",\"('getitem-normal-mean_chunk-6d4ad307c500b6871a7e35de846941e5', 6, 12)\",\"('mean_chunk-6d4ad307c500b6871a7e35de846941e5', 19, 11)\",\"('mean_combine-partial-9f562b5c77ca67da13fd68053fb1f8b6', 1, 11)\",\"('mean_agg-aggregate-f44d12783a3c5c423cf0d9b55a14c4a8', 11)\",\"('getitem-normal-mean_chunk-6d4ad307c500b6871a7e35de846941e5', 7, 12)\",\"('mean_chunk-6d4ad307c500b6871a7e35de846941e5', 0, 12)\",\"('mean_chunk-6d4ad307c500b6871a7e35de846941e5', 1, 12)\",\"('getitem-normal-mean_chunk-6d4ad307c500b6871a7e35de846941e5', 8, 12)\",\"('getitem-normal-mean_chunk-6d4ad307c500b6871a7e35de846941e5', 9, 12)\",\"('mean_chunk-6d4ad307c500b6871a7e35de846941e5', 2, 12)\",\"('getitem-normal-mean_chunk-6d4ad307c500b6871a7e35de846941e5', 10, 12)\",\"('mean_chunk-6d4ad307c500b6871a7e35de846941e5', 3, 12)\",\"('mean_combine-partial-d6cb93770dcbe043f79eaee930821864', 0, 12)\",\"('mean_chunk-6d4ad307c500b6871a7e35de846941e5', 4, 12)\",\"('getitem-normal-mean_chunk-6d4ad307c500b6871a7e35de846941e5', 11, 12)\",\"('getitem-normal-mean_chunk-6d4ad307c500b6871a7e35de846941e5', 12, 12)\",\"('mean_chunk-6d4ad307c500b6871a7e35de846941e5', 5, 12)\",\"('getitem-normal-mean_chunk-6d4ad307c500b6871a7e35de846941e5', 13, 12)\",\"('mean_chunk-6d4ad307c500b6871a7e35de846941e5', 6, 12)\",\"('getitem-normal-mean_chunk-6d4ad307c500b6871a7e35de846941e5', 14, 12)\",\"('mean_chunk-6d4ad307c500b6871a7e35de846941e5', 9, 12)\",\"('getitem-normal-mean_chunk-6d4ad307c500b6871a7e35de846941e5', 15, 12)\",\"('mean_chunk-6d4ad307c500b6871a7e35de846941e5', 7, 12)\",\"('mean_combine-partial-d6cb93770dcbe043f79eaee930821864', 1, 12)\",\"('getitem-normal-mean_chunk-6d4ad307c500b6871a7e35de846941e5', 16, 12)\",\"('mean_chunk-6d4ad307c500b6871a7e35de846941e5', 10, 12)\",\"('getitem-normal-mean_chunk-6d4ad307c500b6871a7e35de846941e5', 17, 12)\",\"('mean_chunk-6d4ad307c500b6871a7e35de846941e5', 8, 12)\",\"('getitem-normal-mean_chunk-6d4ad307c500b6871a7e35de846941e5', 18, 12)\",\"('mean_chunk-6d4ad307c500b6871a7e35de846941e5', 11, 12)\",\"('mean_combine-partial-d6cb93770dcbe043f79eaee930821864', 2, 12)\",\"('getitem-normal-mean_chunk-6d4ad307c500b6871a7e35de846941e5', 19, 12)\",\"('mean_chunk-6d4ad307c500b6871a7e35de846941e5', 13, 12)\",\"('getitem-normal-mean_chunk-6d4ad307c500b6871a7e35de846941e5', 0, 13)\",\"('mean_chunk-6d4ad307c500b6871a7e35de846941e5', 12, 12)\",\"('getitem-normal-mean_chunk-6d4ad307c500b6871a7e35de846941e5', 1, 13)\",\"('mean_chunk-6d4ad307c500b6871a7e35de846941e5', 14, 12)\",\"('getitem-normal-mean_chunk-6d4ad307c500b6871a7e35de846941e5', 2, 13)\",\"('mean_chunk-6d4ad307c500b6871a7e35de846941e5', 15, 12)\",\"('mean_combine-partial-d6cb93770dcbe043f79eaee930821864', 3, 12)\",\"('mean_combine-partial-9f562b5c77ca67da13fd68053fb1f8b6', 0, 12)\",\"('getitem-normal-mean_chunk-6d4ad307c500b6871a7e35de846941e5', 3, 13)\",\"('mean_chunk-6d4ad307c500b6871a7e35de846941e5', 17, 12)\",\"('getitem-normal-mean_chunk-6d4ad307c500b6871a7e35de846941e5', 4, 13)\",\"('mean_chunk-6d4ad307c500b6871a7e35de846941e5', 16, 12)\",\"('getitem-normal-mean_chunk-6d4ad307c500b6871a7e35de846941e5', 5, 13)\",\"('mean_chunk-6d4ad307c500b6871a7e35de846941e5', 18, 12)\",\"('getitem-normal-mean_chunk-6d4ad307c500b6871a7e35de846941e5', 6, 13)\",\"('mean_chunk-6d4ad307c500b6871a7e35de846941e5', 19, 12)\",\"('mean_combine-partial-9f562b5c77ca67da13fd68053fb1f8b6', 1, 12)\",\"('mean_agg-aggregate-f44d12783a3c5c423cf0d9b55a14c4a8', 12)\",\"('getitem-normal-mean_chunk-6d4ad307c500b6871a7e35de846941e5', 7, 13)\",\"('mean_chunk-6d4ad307c500b6871a7e35de846941e5', 0, 13)\",\"('getitem-normal-mean_chunk-6d4ad307c500b6871a7e35de846941e5', 8, 13)\",\"('mean_chunk-6d4ad307c500b6871a7e35de846941e5', 1, 13)\",\"('getitem-normal-mean_chunk-6d4ad307c500b6871a7e35de846941e5', 9, 13)\",\"('mean_chunk-6d4ad307c500b6871a7e35de846941e5', 2, 13)\",\"('getitem-normal-mean_chunk-6d4ad307c500b6871a7e35de846941e5', 10, 13)\",\"('mean_chunk-6d4ad307c500b6871a7e35de846941e5', 3, 13)\",\"('mean_combine-partial-d6cb93770dcbe043f79eaee930821864', 0, 13)\",\"('getitem-normal-mean_chunk-6d4ad307c500b6871a7e35de846941e5', 11, 13)\",\"('mean_chunk-6d4ad307c500b6871a7e35de846941e5', 4, 13)\",\"('getitem-normal-mean_chunk-6d4ad307c500b6871a7e35de846941e5', 12, 13)\",\"('mean_chunk-6d4ad307c500b6871a7e35de846941e5', 6, 13)\",\"('getitem-normal-mean_chunk-6d4ad307c500b6871a7e35de846941e5', 13, 13)\",\"('mean_chunk-6d4ad307c500b6871a7e35de846941e5', 5, 13)\",\"('getitem-normal-mean_chunk-6d4ad307c500b6871a7e35de846941e5', 14, 13)\",\"('mean_chunk-6d4ad307c500b6871a7e35de846941e5', 8, 13)\",\"('getitem-normal-mean_chunk-6d4ad307c500b6871a7e35de846941e5', 15, 13)\",\"('mean_chunk-6d4ad307c500b6871a7e35de846941e5', 7, 13)\",\"('mean_combine-partial-d6cb93770dcbe043f79eaee930821864', 1, 13)\",\"('getitem-normal-mean_chunk-6d4ad307c500b6871a7e35de846941e5', 16, 13)\",\"('mean_chunk-6d4ad307c500b6871a7e35de846941e5', 9, 13)\",\"('getitem-normal-mean_chunk-6d4ad307c500b6871a7e35de846941e5', 17, 13)\",\"('mean_chunk-6d4ad307c500b6871a7e35de846941e5', 10, 13)\",\"('getitem-normal-mean_chunk-6d4ad307c500b6871a7e35de846941e5', 18, 13)\",\"('mean_chunk-6d4ad307c500b6871a7e35de846941e5', 11, 13)\",\"('mean_combine-partial-d6cb93770dcbe043f79eaee930821864', 2, 13)\",\"('getitem-normal-mean_chunk-6d4ad307c500b6871a7e35de846941e5', 19, 13)\",\"('mean_chunk-6d4ad307c500b6871a7e35de846941e5', 12, 13)\",\"('getitem-normal-mean_chunk-6d4ad307c500b6871a7e35de846941e5', 0, 14)\",\"('mean_chunk-6d4ad307c500b6871a7e35de846941e5', 15, 13)\",\"('mean_chunk-6d4ad307c500b6871a7e35de846941e5', 14, 13)\",\"('getitem-normal-mean_chunk-6d4ad307c500b6871a7e35de846941e5', 1, 14)\",\"('getitem-normal-mean_chunk-6d4ad307c500b6871a7e35de846941e5', 2, 14)\",\"('mean_chunk-6d4ad307c500b6871a7e35de846941e5', 13, 13)\",\"('mean_combine-partial-d6cb93770dcbe043f79eaee930821864', 3, 13)\",\"('mean_combine-partial-9f562b5c77ca67da13fd68053fb1f8b6', 0, 13)\",\"('getitem-normal-mean_chunk-6d4ad307c500b6871a7e35de846941e5', 3, 14)\",\"('mean_chunk-6d4ad307c500b6871a7e35de846941e5', 17, 13)\",\"('getitem-normal-mean_chunk-6d4ad307c500b6871a7e35de846941e5', 4, 14)\",\"('mean_chunk-6d4ad307c500b6871a7e35de846941e5', 16, 13)\",\"('getitem-normal-mean_chunk-6d4ad307c500b6871a7e35de846941e5', 5, 14)\",\"('mean_chunk-6d4ad307c500b6871a7e35de846941e5', 18, 13)\",\"('getitem-normal-mean_chunk-6d4ad307c500b6871a7e35de846941e5', 6, 14)\",\"('mean_chunk-6d4ad307c500b6871a7e35de846941e5', 19, 13)\",\"('mean_combine-partial-9f562b5c77ca67da13fd68053fb1f8b6', 1, 13)\",\"('mean_agg-aggregate-f44d12783a3c5c423cf0d9b55a14c4a8', 13)\",\"('getitem-normal-mean_chunk-6d4ad307c500b6871a7e35de846941e5', 7, 14)\",\"('mean_chunk-6d4ad307c500b6871a7e35de846941e5', 0, 14)\",\"('getitem-normal-mean_chunk-6d4ad307c500b6871a7e35de846941e5', 8, 14)\",\"('mean_chunk-6d4ad307c500b6871a7e35de846941e5', 1, 14)\",\"('getitem-normal-mean_chunk-6d4ad307c500b6871a7e35de846941e5', 9, 14)\",\"('mean_chunk-6d4ad307c500b6871a7e35de846941e5', 2, 14)\",\"('getitem-normal-mean_chunk-6d4ad307c500b6871a7e35de846941e5', 10, 14)\",\"('mean_chunk-6d4ad307c500b6871a7e35de846941e5', 3, 14)\",\"('mean_combine-partial-d6cb93770dcbe043f79eaee930821864', 0, 14)\",\"('getitem-normal-mean_chunk-6d4ad307c500b6871a7e35de846941e5', 11, 14)\",\"('mean_chunk-6d4ad307c500b6871a7e35de846941e5', 5, 14)\",\"('getitem-normal-mean_chunk-6d4ad307c500b6871a7e35de846941e5', 12, 14)\",\"('mean_chunk-6d4ad307c500b6871a7e35de846941e5', 4, 14)\",\"('getitem-normal-mean_chunk-6d4ad307c500b6871a7e35de846941e5', 13, 14)\",\"('mean_chunk-6d4ad307c500b6871a7e35de846941e5', 6, 14)\",\"('getitem-normal-mean_chunk-6d4ad307c500b6871a7e35de846941e5', 14, 14)\",\"('mean_chunk-6d4ad307c500b6871a7e35de846941e5', 7, 14)\",\"('mean_combine-partial-d6cb93770dcbe043f79eaee930821864', 1, 14)\",\"('getitem-normal-mean_chunk-6d4ad307c500b6871a7e35de846941e5', 15, 14)\",\"('mean_chunk-6d4ad307c500b6871a7e35de846941e5', 8, 14)\",\"('getitem-normal-mean_chunk-6d4ad307c500b6871a7e35de846941e5', 16, 14)\",\"('mean_chunk-6d4ad307c500b6871a7e35de846941e5', 9, 14)\",\"('getitem-normal-mean_chunk-6d4ad307c500b6871a7e35de846941e5', 17, 14)\",\"('mean_chunk-6d4ad307c500b6871a7e35de846941e5', 10, 14)\",\"('getitem-normal-mean_chunk-6d4ad307c500b6871a7e35de846941e5', 18, 14)\",\"('mean_chunk-6d4ad307c500b6871a7e35de846941e5', 11, 14)\",\"('mean_combine-partial-d6cb93770dcbe043f79eaee930821864', 2, 14)\",\"('getitem-normal-mean_chunk-6d4ad307c500b6871a7e35de846941e5', 19, 14)\",\"('mean_chunk-6d4ad307c500b6871a7e35de846941e5', 12, 14)\",\"('getitem-normal-mean_chunk-6d4ad307c500b6871a7e35de846941e5', 0, 15)\",\"('mean_chunk-6d4ad307c500b6871a7e35de846941e5', 13, 14)\",\"('getitem-normal-mean_chunk-6d4ad307c500b6871a7e35de846941e5', 1, 15)\",\"('mean_chunk-6d4ad307c500b6871a7e35de846941e5', 14, 14)\",\"('getitem-normal-mean_chunk-6d4ad307c500b6871a7e35de846941e5', 2, 15)\",\"('mean_chunk-6d4ad307c500b6871a7e35de846941e5', 15, 14)\",\"('mean_combine-partial-d6cb93770dcbe043f79eaee930821864', 3, 14)\",\"('mean_combine-partial-9f562b5c77ca67da13fd68053fb1f8b6', 0, 14)\",\"('getitem-normal-mean_chunk-6d4ad307c500b6871a7e35de846941e5', 3, 15)\",\"('mean_chunk-6d4ad307c500b6871a7e35de846941e5', 17, 14)\",\"('getitem-normal-mean_chunk-6d4ad307c500b6871a7e35de846941e5', 4, 15)\",\"('mean_chunk-6d4ad307c500b6871a7e35de846941e5', 16, 14)\",\"('getitem-normal-mean_chunk-6d4ad307c500b6871a7e35de846941e5', 5, 15)\",\"('mean_chunk-6d4ad307c500b6871a7e35de846941e5', 0, 15)\",\"('getitem-normal-mean_chunk-6d4ad307c500b6871a7e35de846941e5', 6, 15)\",\"('mean_chunk-6d4ad307c500b6871a7e35de846941e5', 18, 14)\",\"('mean_chunk-6d4ad307c500b6871a7e35de846941e5', 19, 14)\",\"('getitem-normal-mean_chunk-6d4ad307c500b6871a7e35de846941e5', 7, 15)\",\"('mean_combine-partial-9f562b5c77ca67da13fd68053fb1f8b6', 1, 14)\",\"('mean_agg-aggregate-f44d12783a3c5c423cf0d9b55a14c4a8', 14)\",\"('getitem-normal-mean_chunk-6d4ad307c500b6871a7e35de846941e5', 8, 15)\",\"('mean_chunk-6d4ad307c500b6871a7e35de846941e5', 1, 15)\",\"('getitem-normal-mean_chunk-6d4ad307c500b6871a7e35de846941e5', 9, 15)\",\"('mean_chunk-6d4ad307c500b6871a7e35de846941e5', 2, 15)\",\"('getitem-normal-mean_chunk-6d4ad307c500b6871a7e35de846941e5', 10, 15)\",\"('mean_chunk-6d4ad307c500b6871a7e35de846941e5', 3, 15)\",\"('mean_combine-partial-d6cb93770dcbe043f79eaee930821864', 0, 15)\",\"('getitem-normal-mean_chunk-6d4ad307c500b6871a7e35de846941e5', 11, 15)\",\"('mean_chunk-6d4ad307c500b6871a7e35de846941e5', 4, 15)\",\"('getitem-normal-mean_chunk-6d4ad307c500b6871a7e35de846941e5', 12, 15)\",\"('mean_chunk-6d4ad307c500b6871a7e35de846941e5', 5, 15)\",\"('getitem-normal-mean_chunk-6d4ad307c500b6871a7e35de846941e5', 13, 15)\",\"('mean_chunk-6d4ad307c500b6871a7e35de846941e5', 6, 15)\",\"('getitem-normal-mean_chunk-6d4ad307c500b6871a7e35de846941e5', 14, 15)\",\"('mean_chunk-6d4ad307c500b6871a7e35de846941e5', 7, 15)\",\"('mean_combine-partial-d6cb93770dcbe043f79eaee930821864', 1, 15)\",\"('getitem-normal-mean_chunk-6d4ad307c500b6871a7e35de846941e5', 15, 15)\",\"('mean_chunk-6d4ad307c500b6871a7e35de846941e5', 8, 15)\",\"('getitem-normal-mean_chunk-6d4ad307c500b6871a7e35de846941e5', 16, 15)\",\"('mean_chunk-6d4ad307c500b6871a7e35de846941e5', 9, 15)\",\"('getitem-normal-mean_chunk-6d4ad307c500b6871a7e35de846941e5', 17, 15)\",\"('mean_chunk-6d4ad307c500b6871a7e35de846941e5', 10, 15)\",\"('getitem-normal-mean_chunk-6d4ad307c500b6871a7e35de846941e5', 18, 15)\",\"('mean_chunk-6d4ad307c500b6871a7e35de846941e5', 11, 15)\",\"('mean_combine-partial-d6cb93770dcbe043f79eaee930821864', 2, 15)\",\"('getitem-normal-mean_chunk-6d4ad307c500b6871a7e35de846941e5', 19, 15)\",\"('mean_chunk-6d4ad307c500b6871a7e35de846941e5', 12, 15)\",\"('getitem-normal-mean_chunk-6d4ad307c500b6871a7e35de846941e5', 0, 16)\",\"('mean_chunk-6d4ad307c500b6871a7e35de846941e5', 13, 15)\",\"('getitem-normal-mean_chunk-6d4ad307c500b6871a7e35de846941e5', 1, 16)\",\"('mean_chunk-6d4ad307c500b6871a7e35de846941e5', 14, 15)\",\"('getitem-normal-mean_chunk-6d4ad307c500b6871a7e35de846941e5', 2, 16)\",\"('mean_chunk-6d4ad307c500b6871a7e35de846941e5', 15, 15)\",\"('mean_combine-partial-d6cb93770dcbe043f79eaee930821864', 3, 15)\",\"('mean_combine-partial-9f562b5c77ca67da13fd68053fb1f8b6', 0, 15)\",\"('getitem-normal-mean_chunk-6d4ad307c500b6871a7e35de846941e5', 3, 16)\",\"('mean_chunk-6d4ad307c500b6871a7e35de846941e5', 16, 15)\",\"('mean_chunk-6d4ad307c500b6871a7e35de846941e5', 17, 15)\",\"('getitem-normal-mean_chunk-6d4ad307c500b6871a7e35de846941e5', 4, 16)\",\"('getitem-normal-mean_chunk-6d4ad307c500b6871a7e35de846941e5', 5, 16)\",\"('mean_chunk-6d4ad307c500b6871a7e35de846941e5', 18, 15)\",\"('getitem-normal-mean_chunk-6d4ad307c500b6871a7e35de846941e5', 6, 16)\",\"('mean_chunk-6d4ad307c500b6871a7e35de846941e5', 19, 15)\",\"('mean_combine-partial-9f562b5c77ca67da13fd68053fb1f8b6', 1, 15)\",\"('mean_agg-aggregate-f44d12783a3c5c423cf0d9b55a14c4a8', 15)\",\"('getitem-normal-mean_chunk-6d4ad307c500b6871a7e35de846941e5', 7, 16)\",\"('mean_chunk-6d4ad307c500b6871a7e35de846941e5', 0, 16)\",\"('getitem-normal-mean_chunk-6d4ad307c500b6871a7e35de846941e5', 8, 16)\",\"('mean_chunk-6d4ad307c500b6871a7e35de846941e5', 2, 16)\",\"('getitem-normal-mean_chunk-6d4ad307c500b6871a7e35de846941e5', 9, 16)\",\"('mean_chunk-6d4ad307c500b6871a7e35de846941e5', 3, 16)\",\"('getitem-normal-mean_chunk-6d4ad307c500b6871a7e35de846941e5', 10, 16)\",\"('mean_chunk-6d4ad307c500b6871a7e35de846941e5', 1, 16)\",\"('mean_combine-partial-d6cb93770dcbe043f79eaee930821864', 0, 16)\",\"('getitem-normal-mean_chunk-6d4ad307c500b6871a7e35de846941e5', 11, 16)\",\"('mean_chunk-6d4ad307c500b6871a7e35de846941e5', 4, 16)\",\"('getitem-normal-mean_chunk-6d4ad307c500b6871a7e35de846941e5', 12, 16)\",\"('mean_chunk-6d4ad307c500b6871a7e35de846941e5', 5, 16)\",\"('getitem-normal-mean_chunk-6d4ad307c500b6871a7e35de846941e5', 13, 16)\",\"('mean_chunk-6d4ad307c500b6871a7e35de846941e5', 6, 16)\",\"('getitem-normal-mean_chunk-6d4ad307c500b6871a7e35de846941e5', 14, 16)\",\"('mean_chunk-6d4ad307c500b6871a7e35de846941e5', 7, 16)\",\"('mean_combine-partial-d6cb93770dcbe043f79eaee930821864', 1, 16)\",\"('getitem-normal-mean_chunk-6d4ad307c500b6871a7e35de846941e5', 15, 16)\",\"('mean_chunk-6d4ad307c500b6871a7e35de846941e5', 8, 16)\",\"('getitem-normal-mean_chunk-6d4ad307c500b6871a7e35de846941e5', 16, 16)\",\"('mean_chunk-6d4ad307c500b6871a7e35de846941e5', 9, 16)\",\"('getitem-normal-mean_chunk-6d4ad307c500b6871a7e35de846941e5', 17, 16)\",\"('mean_chunk-6d4ad307c500b6871a7e35de846941e5', 10, 16)\",\"('getitem-normal-mean_chunk-6d4ad307c500b6871a7e35de846941e5', 18, 16)\",\"('mean_chunk-6d4ad307c500b6871a7e35de846941e5', 12, 16)\",\"('getitem-normal-mean_chunk-6d4ad307c500b6871a7e35de846941e5', 19, 16)\",\"('mean_chunk-6d4ad307c500b6871a7e35de846941e5', 11, 16)\",\"('mean_combine-partial-d6cb93770dcbe043f79eaee930821864', 2, 16)\",\"('getitem-normal-mean_chunk-6d4ad307c500b6871a7e35de846941e5', 0, 17)\",\"('mean_chunk-6d4ad307c500b6871a7e35de846941e5', 13, 16)\",\"('getitem-normal-mean_chunk-6d4ad307c500b6871a7e35de846941e5', 1, 17)\",\"('mean_chunk-6d4ad307c500b6871a7e35de846941e5', 14, 16)\",\"('getitem-normal-mean_chunk-6d4ad307c500b6871a7e35de846941e5', 2, 17)\",\"('mean_chunk-6d4ad307c500b6871a7e35de846941e5', 15, 16)\",\"('mean_combine-partial-d6cb93770dcbe043f79eaee930821864', 3, 16)\",\"('mean_combine-partial-9f562b5c77ca67da13fd68053fb1f8b6', 0, 16)\",\"('getitem-normal-mean_chunk-6d4ad307c500b6871a7e35de846941e5', 3, 17)\",\"('mean_chunk-6d4ad307c500b6871a7e35de846941e5', 16, 16)\",\"('getitem-normal-mean_chunk-6d4ad307c500b6871a7e35de846941e5', 4, 17)\",\"('mean_chunk-6d4ad307c500b6871a7e35de846941e5', 17, 16)\",\"('getitem-normal-mean_chunk-6d4ad307c500b6871a7e35de846941e5', 5, 17)\",\"('mean_chunk-6d4ad307c500b6871a7e35de846941e5', 18, 16)\",\"('mean_chunk-6d4ad307c500b6871a7e35de846941e5', 19, 16)\",\"('getitem-normal-mean_chunk-6d4ad307c500b6871a7e35de846941e5', 6, 17)\",\"('mean_combine-partial-9f562b5c77ca67da13fd68053fb1f8b6', 1, 16)\",\"('mean_agg-aggregate-f44d12783a3c5c423cf0d9b55a14c4a8', 16)\",\"('getitem-normal-mean_chunk-6d4ad307c500b6871a7e35de846941e5', 7, 17)\",\"('mean_chunk-6d4ad307c500b6871a7e35de846941e5', 1, 17)\",\"('mean_chunk-6d4ad307c500b6871a7e35de846941e5', 0, 17)\",\"('getitem-normal-mean_chunk-6d4ad307c500b6871a7e35de846941e5', 8, 17)\",\"('getitem-normal-mean_chunk-6d4ad307c500b6871a7e35de846941e5', 9, 17)\",\"('mean_chunk-6d4ad307c500b6871a7e35de846941e5', 2, 17)\",\"('getitem-normal-mean_chunk-6d4ad307c500b6871a7e35de846941e5', 10, 17)\",\"('mean_chunk-6d4ad307c500b6871a7e35de846941e5', 3, 17)\",\"('mean_combine-partial-d6cb93770dcbe043f79eaee930821864', 0, 17)\",\"('getitem-normal-mean_chunk-6d4ad307c500b6871a7e35de846941e5', 11, 17)\",\"('mean_chunk-6d4ad307c500b6871a7e35de846941e5', 4, 17)\",\"('getitem-normal-mean_chunk-6d4ad307c500b6871a7e35de846941e5', 12, 17)\",\"('mean_chunk-6d4ad307c500b6871a7e35de846941e5', 5, 17)\",\"('getitem-normal-mean_chunk-6d4ad307c500b6871a7e35de846941e5', 13, 17)\",\"('mean_chunk-6d4ad307c500b6871a7e35de846941e5', 6, 17)\",\"('getitem-normal-mean_chunk-6d4ad307c500b6871a7e35de846941e5', 14, 17)\",\"('mean_chunk-6d4ad307c500b6871a7e35de846941e5', 7, 17)\",\"('mean_combine-partial-d6cb93770dcbe043f79eaee930821864', 1, 17)\",\"('getitem-normal-mean_chunk-6d4ad307c500b6871a7e35de846941e5', 15, 17)\",\"('mean_chunk-6d4ad307c500b6871a7e35de846941e5', 8, 17)\",\"('mean_chunk-6d4ad307c500b6871a7e35de846941e5', 9, 17)\",\"('getitem-normal-mean_chunk-6d4ad307c500b6871a7e35de846941e5', 16, 17)\",\"('getitem-normal-mean_chunk-6d4ad307c500b6871a7e35de846941e5', 17, 17)\",\"('mean_chunk-6d4ad307c500b6871a7e35de846941e5', 10, 17)\",\"('getitem-normal-mean_chunk-6d4ad307c500b6871a7e35de846941e5', 18, 17)\",\"('mean_chunk-6d4ad307c500b6871a7e35de846941e5', 11, 17)\",\"('mean_combine-partial-d6cb93770dcbe043f79eaee930821864', 2, 17)\",\"('getitem-normal-mean_chunk-6d4ad307c500b6871a7e35de846941e5', 19, 17)\",\"('mean_chunk-6d4ad307c500b6871a7e35de846941e5', 12, 17)\",\"('getitem-normal-mean_chunk-6d4ad307c500b6871a7e35de846941e5', 0, 18)\",\"('mean_chunk-6d4ad307c500b6871a7e35de846941e5', 13, 17)\",\"('getitem-normal-mean_chunk-6d4ad307c500b6871a7e35de846941e5', 1, 18)\",\"('mean_chunk-6d4ad307c500b6871a7e35de846941e5', 14, 17)\",\"('getitem-normal-mean_chunk-6d4ad307c500b6871a7e35de846941e5', 2, 18)\",\"('mean_chunk-6d4ad307c500b6871a7e35de846941e5', 15, 17)\",\"('mean_combine-partial-d6cb93770dcbe043f79eaee930821864', 3, 17)\",\"('mean_combine-partial-9f562b5c77ca67da13fd68053fb1f8b6', 0, 17)\",\"('getitem-normal-mean_chunk-6d4ad307c500b6871a7e35de846941e5', 3, 18)\",\"('mean_chunk-6d4ad307c500b6871a7e35de846941e5', 16, 17)\",\"('getitem-normal-mean_chunk-6d4ad307c500b6871a7e35de846941e5', 4, 18)\",\"('mean_chunk-6d4ad307c500b6871a7e35de846941e5', 17, 17)\",\"('getitem-normal-mean_chunk-6d4ad307c500b6871a7e35de846941e5', 5, 18)\",\"('mean_chunk-6d4ad307c500b6871a7e35de846941e5', 18, 17)\",\"('getitem-normal-mean_chunk-6d4ad307c500b6871a7e35de846941e5', 6, 18)\",\"('mean_chunk-6d4ad307c500b6871a7e35de846941e5', 19, 17)\",\"('mean_combine-partial-9f562b5c77ca67da13fd68053fb1f8b6', 1, 17)\",\"('mean_agg-aggregate-f44d12783a3c5c423cf0d9b55a14c4a8', 17)\",\"('getitem-normal-mean_chunk-6d4ad307c500b6871a7e35de846941e5', 7, 18)\",\"('mean_chunk-6d4ad307c500b6871a7e35de846941e5', 1, 18)\",\"('getitem-normal-mean_chunk-6d4ad307c500b6871a7e35de846941e5', 8, 18)\",\"('mean_chunk-6d4ad307c500b6871a7e35de846941e5', 0, 18)\",\"('getitem-normal-mean_chunk-6d4ad307c500b6871a7e35de846941e5', 9, 18)\",\"('mean_chunk-6d4ad307c500b6871a7e35de846941e5', 2, 18)\",\"('getitem-normal-mean_chunk-6d4ad307c500b6871a7e35de846941e5', 10, 18)\",\"('mean_chunk-6d4ad307c500b6871a7e35de846941e5', 3, 18)\",\"('mean_combine-partial-d6cb93770dcbe043f79eaee930821864', 0, 18)\",\"('getitem-normal-mean_chunk-6d4ad307c500b6871a7e35de846941e5', 11, 18)\",\"('mean_chunk-6d4ad307c500b6871a7e35de846941e5', 4, 18)\",\"('getitem-normal-mean_chunk-6d4ad307c500b6871a7e35de846941e5', 12, 18)\",\"('mean_chunk-6d4ad307c500b6871a7e35de846941e5', 5, 18)\",\"('getitem-normal-mean_chunk-6d4ad307c500b6871a7e35de846941e5', 13, 18)\",\"('mean_chunk-6d4ad307c500b6871a7e35de846941e5', 6, 18)\",\"('getitem-normal-mean_chunk-6d4ad307c500b6871a7e35de846941e5', 14, 18)\",\"('mean_chunk-6d4ad307c500b6871a7e35de846941e5', 7, 18)\",\"('mean_combine-partial-d6cb93770dcbe043f79eaee930821864', 1, 18)\",\"('getitem-normal-mean_chunk-6d4ad307c500b6871a7e35de846941e5', 15, 18)\",\"('mean_chunk-6d4ad307c500b6871a7e35de846941e5', 8, 18)\",\"('getitem-normal-mean_chunk-6d4ad307c500b6871a7e35de846941e5', 16, 18)\",\"('mean_chunk-6d4ad307c500b6871a7e35de846941e5', 10, 18)\",\"('getitem-normal-mean_chunk-6d4ad307c500b6871a7e35de846941e5', 17, 18)\",\"('mean_chunk-6d4ad307c500b6871a7e35de846941e5', 9, 18)\",\"('getitem-normal-mean_chunk-6d4ad307c500b6871a7e35de846941e5', 18, 18)\",\"('mean_chunk-6d4ad307c500b6871a7e35de846941e5', 11, 18)\",\"('mean_combine-partial-d6cb93770dcbe043f79eaee930821864', 2, 18)\",\"('getitem-normal-mean_chunk-6d4ad307c500b6871a7e35de846941e5', 19, 18)\",\"('mean_chunk-6d4ad307c500b6871a7e35de846941e5', 12, 18)\",\"('getitem-normal-mean_chunk-6d4ad307c500b6871a7e35de846941e5', 0, 19)\",\"('mean_chunk-6d4ad307c500b6871a7e35de846941e5', 13, 18)\",\"('getitem-normal-mean_chunk-6d4ad307c500b6871a7e35de846941e5', 1, 19)\",\"('mean_chunk-6d4ad307c500b6871a7e35de846941e5', 14, 18)\",\"('getitem-normal-mean_chunk-6d4ad307c500b6871a7e35de846941e5', 2, 19)\",\"('mean_chunk-6d4ad307c500b6871a7e35de846941e5', 15, 18)\",\"('mean_combine-partial-d6cb93770dcbe043f79eaee930821864', 3, 18)\",\"('mean_combine-partial-9f562b5c77ca67da13fd68053fb1f8b6', 0, 18)\",\"('getitem-normal-mean_chunk-6d4ad307c500b6871a7e35de846941e5', 3, 19)\",\"('mean_chunk-6d4ad307c500b6871a7e35de846941e5', 16, 18)\",\"('mean_chunk-6d4ad307c500b6871a7e35de846941e5', 17, 18)\",\"('getitem-normal-mean_chunk-6d4ad307c500b6871a7e35de846941e5', 4, 19)\",\"('getitem-normal-mean_chunk-6d4ad307c500b6871a7e35de846941e5', 5, 19)\",\"('mean_chunk-6d4ad307c500b6871a7e35de846941e5', 18, 18)\",\"('getitem-normal-mean_chunk-6d4ad307c500b6871a7e35de846941e5', 6, 19)\",\"('mean_chunk-6d4ad307c500b6871a7e35de846941e5', 19, 18)\",\"('mean_combine-partial-9f562b5c77ca67da13fd68053fb1f8b6', 1, 18)\",\"('mean_agg-aggregate-f44d12783a3c5c423cf0d9b55a14c4a8', 18)\",\"('getitem-normal-mean_chunk-6d4ad307c500b6871a7e35de846941e5', 7, 19)\",\"('mean_chunk-6d4ad307c500b6871a7e35de846941e5', 0, 19)\",\"('getitem-normal-mean_chunk-6d4ad307c500b6871a7e35de846941e5', 8, 19)\",\"('mean_chunk-6d4ad307c500b6871a7e35de846941e5', 1, 19)\",\"('getitem-normal-mean_chunk-6d4ad307c500b6871a7e35de846941e5', 9, 19)\",\"('mean_chunk-6d4ad307c500b6871a7e35de846941e5', 3, 19)\",\"('getitem-normal-mean_chunk-6d4ad307c500b6871a7e35de846941e5', 10, 19)\",\"('mean_chunk-6d4ad307c500b6871a7e35de846941e5', 2, 19)\",\"('mean_combine-partial-d6cb93770dcbe043f79eaee930821864', 0, 19)\",\"('getitem-normal-mean_chunk-6d4ad307c500b6871a7e35de846941e5', 11, 19)\",\"('mean_chunk-6d4ad307c500b6871a7e35de846941e5', 4, 19)\",\"('getitem-normal-mean_chunk-6d4ad307c500b6871a7e35de846941e5', 12, 19)\",\"('mean_chunk-6d4ad307c500b6871a7e35de846941e5', 5, 19)\",\"('getitem-normal-mean_chunk-6d4ad307c500b6871a7e35de846941e5', 13, 19)\",\"('mean_chunk-6d4ad307c500b6871a7e35de846941e5', 7, 19)\",\"('getitem-normal-mean_chunk-6d4ad307c500b6871a7e35de846941e5', 14, 19)\",\"('mean_chunk-6d4ad307c500b6871a7e35de846941e5', 8, 19)\",\"('getitem-normal-mean_chunk-6d4ad307c500b6871a7e35de846941e5', 15, 19)\",\"('mean_chunk-6d4ad307c500b6871a7e35de846941e5', 6, 19)\",\"('mean_combine-partial-d6cb93770dcbe043f79eaee930821864', 1, 19)\",\"('getitem-normal-mean_chunk-6d4ad307c500b6871a7e35de846941e5', 16, 19)\",\"('mean_chunk-6d4ad307c500b6871a7e35de846941e5', 9, 19)\",\"('getitem-normal-mean_chunk-6d4ad307c500b6871a7e35de846941e5', 17, 19)\",\"('mean_chunk-6d4ad307c500b6871a7e35de846941e5', 10, 19)\",\"('getitem-normal-mean_chunk-6d4ad307c500b6871a7e35de846941e5', 18, 19)\",\"('mean_chunk-6d4ad307c500b6871a7e35de846941e5', 11, 19)\",\"('mean_combine-partial-d6cb93770dcbe043f79eaee930821864', 2, 19)\",\"('getitem-normal-mean_chunk-6d4ad307c500b6871a7e35de846941e5', 19, 19)\",\"('mean_chunk-6d4ad307c500b6871a7e35de846941e5', 12, 19)\",\"('mean_chunk-6d4ad307c500b6871a7e35de846941e5', 13, 19)\",\"('mean_chunk-6d4ad307c500b6871a7e35de846941e5', 14, 19)\",\"('mean_chunk-6d4ad307c500b6871a7e35de846941e5', 15, 19)\",\"('mean_combine-partial-d6cb93770dcbe043f79eaee930821864', 3, 19)\",\"('mean_combine-partial-9f562b5c77ca67da13fd68053fb1f8b6', 0, 19)\",\"('mean_chunk-6d4ad307c500b6871a7e35de846941e5', 16, 19)\",\"('mean_chunk-6d4ad307c500b6871a7e35de846941e5', 17, 19)\",\"('mean_chunk-6d4ad307c500b6871a7e35de846941e5', 18, 19)\",\"('mean_chunk-6d4ad307c500b6871a7e35de846941e5', 19, 19)\",\"('mean_combine-partial-9f562b5c77ca67da13fd68053fb1f8b6', 1, 19)\",\"('mean_agg-aggregate-f44d12783a3c5c423cf0d9b55a14c4a8', 19)\"],\"width\":[0.08377753200056759,0.085267704999751,0.07988595900042128,0.08675472400045692,0.0914224190000823,0.0803715590000138,0.08667402999981277,0.08753423199959798,0.0002448190007271478,0.061247827999977744,0.00014120000014372636,0.060386080000171205,0.0018755370001599658,0.00045679599952563876,0.0626479129996369,0.06335902199953125,0.00012379200052237138,0.0002831510000760318,0.06349962900003447,0.00017184299940709025,0.06546695399993041,0.00017081199985113926,0.061907782000162115,0.00015300999984901864,0.00025699300022097304,0.061849099999562895,0.00034559000050649047,0.061024316999464645,9.776200022315606e-05,0.0720558399998481,0.0001142210003308719,0.06013331099984498,0.0001355479998892406,0.00023910100026114378,0.06360488399968744,0.000439961999290972,0.0003230859992982005,0.06256265199954214,0.06702300000051764,0.0003650759999800357,0.0003146170001855353,0.06385277899971697,0.00023483099994336953,0.0002050949997283169,0.05917760800002725,0.0008066150003287476,0.000769783999203355,0.057654793000438076,0.06088188700050523,0.00011844700020446908,0.05568326499997056,0.0004987490001440165,0.0005352070002118126,0.0006479339999714284,0.05683194799985358,0.0005997049993311521,0.055567537000570155,0.00028952899992873427,0.05605423300039547,9.73129999692901e-05,0.056491488000574464,0.0014612220002163667,0.00021371499951783335,0.056977026999447844,0.00010751199988590088,0.06313061099990591,0.0003170439995301422,0.0003434999998717103,0.06539014499958284,0.06013697699927434,7.920099960756488e-05,0.05702345099962258,8.412300030613551e-05,0.0007154639997679624,0.0004004789998361957,0.05675714599965431,0.06088429500050552,0.0011695759994836408,0.058687955000095826,0.00010065500009659445,0.00022158999945531832,0.05857355100033601,0.00010713799929362722,0.05560863799928484,0.000453116999779013,0.00045436799973685993,0.056699072999435884,0.0005262220001895912,0.05939861800015933,0.060368800000105693,0.00026009500015788944,0.05753101800019067,0.0004168939994997345,0.00030017199969734065,0.06067694300054427,0.0005990280005789828,0.00046922599995014025,0.0002875910004149773,0.05644830399978673,0.00236047199996392,0.0002055690001725452,0.057155437999426795,0.00011074600024585379,0.05764923300012015,9.826199948292924e-05,0.06060738100040908,9.694500022305874e-05,0.05799050699988584,0.0003210790000593988,0.0013159509999240981,0.0003200090004611411,0.061325570000008156,0.06277370199950383,0.0002305429998159525,0.0565947769991908,0.00017638899953453802,0.05624856899976294,0.001110747999518935,0.00024869600019883364,0.061698237999735284,0.00017210999976668973,0.05730786399999488,0.00037446999976964435,0.00047820799954934046,0.05944896700020763,0.059446582999953534,0.0007371769997916999,0.061005888000181585,9.928000054060249e-05,0.05678989399984857,0.00014579700018657604,0.00022626700047112536,0.05961490099980438,9.641700034990208e-05,0.058875763999822084,0.00011658800031000283,0.0002474389993949444,0.00021531199945457047,0.06180666300042503,0.00010928299980150769,0.06278308499986451,0.0003837340000245604,0.0004327280003053602,0.05717842300055054,0.05780462099937722,0.00021973700040689437,0.05763884899988625,9.888499971566489e-05,0.00027410200073063606,0.00020583900004567113,0.057038008999370504,9.478199990553549e-05,0.05726246900030674,9.287800003221491e-05,0.056973654000103124,0.00019394199989619665,0.0002959219991680584,0.06006807199992181,0.00017698900046525523,0.06344118600009097,9.850900005403673e-05,0.05797057899962965,0.0001488090001657838,0.058093872999961604,8.952500047598733e-05,0.00030257500020525185,0.059297141000570264,9.816700003284495e-05,0.05966936799995892,0.00015001900010247482,0.06156576900048094,9.384500026499154e-05,0.058831611000641715,0.00017300000035902485,0.000658361000205332,0.06001817700052925,0.00039705499966657953,0.06476886800010107,9.687100009614369e-05,0.05907638499957102,0.00040385899956163485,0.00041677799981698627,0.06328441599998769,0.0002837230003933655,0.00020725200010929257,0.05876262400033738,0.00012433200026862323,0.05926326899952983,9.505399975751061e-05,0.05999152200001845,9.429700003238395e-05,0.058760262999385304,0.00019700500070030103,0.0012549339999168296,0.00041997700009233085,0.059855493000213755,0.00017728799957694719,0.05842435799968371,0.00010534499961067922,0.05672304299969255,0.00033950900069612544,0.0006902360000822227,0.05857243699938408,0.0553778900002726,0.0004321189999245689,0.000684754000758403,0.0007435280003846856,0.0007092920004652115,0.059375797999564384,0.06675486299991462,0.06683899700055917,0.00019552899993868778,0.00027297499946143944,0.05928377400050522,0.00011589000041567488,0.06225847299992893,0.0001027389998853323,0.05857959200056939,9.993299954658141e-05,0.06001662499966187,0.00010150199977942975,0.00023196900019684108,0.06062751799981925,0.00010442599977977807,0.05947206400014693,0.0003546230000210926,0.0003341020001244033,0.06048761900001409,0.06043814700024086,0.00019963400063716108,0.0002697809995879652,0.00024147500062099425,0.05959495800016157,0.0023896960001366097,0.0007023789994491381,0.0611404749997746,0.0006039569998392835,0.05725162100043235,0.05844017499930487,0.0005378730002121301,0.0009224980003637029,0.00016635699921607738,0.056871284000408195,0.00020640700040530646,0.05721662199994171,0.00044794600034947507,0.0005124270001033437,0.058981020999453904,0.05939740200028609,0.00011036099931516219,0.0002627590001793578,0.058669600999564864,0.00017735800065565854,0.05954837100034638,0.00010308099990652408,0.06307723099962459,9.559299996908521e-05,0.060758941999665694,9.428700013813796e-05,0.000237977000324463,0.05958560099952592,9.241000043402892e-05,0.060222274000807374,0.0002235530000689323,0.059893391000514384,9.581799986335682e-05,0.05860835799921915,0.00017752999974618433,0.00024579899945820216,0.06040735399983532,0.00017691300035949098,0.0576708550006515,0.0006152249998194748,0.0007844800002203556,0.0008772789997237851,0.059937413000625384,0.05822199300018838,0.0009111109993682476,0.00010593799925118219,0.06030560700037313,0.00019848300053126877,0.05920451800011506,0.0004446299999472103,0.00040915299996413523,0.06203490300049452,0.05984159699983138,0.00018745500074146548,0.0003107529992121272,0.0002474829998391215,0.061312467999414366,0.00012208499992993893,0.0587277089998679,0.00012037499982398003,0.06166453300011199,0.0001054659996952978,0.06379656999979488,0.0004597249999278574,0.00038637400029983837,0.06334583399984695,0.0003561280000212719,0.059209923999333114,0.00012139299997215858,0.06614852300026541,0.00010998999914590968,0.06037512900002184,0.0002503160003470839,0.0003336449999551405,0.060705480000251555,0.0001764190001267707,0.05840475100012554,0.00018585099951451411,0.059855724000044574,9.918999967339914e-05,0.06168339099986042,0.0001018170005409047,0.0634048409992829,9.669200062489836e-05,0.00022436000017478364,0.05923787400024594,0.00018090800040226895,0.06140595499982737,0.00011009999980160501,0.061262371000339044,0.00018998700033989735,0.00028507700062618824,0.00022862399964651559,0.06158552299984876,0.00018282700057170587,0.05884422999952221,0.0022607450000577956,0.061578212000313215,0.000285851999251463,0.06370487399999547,9.855600001174025e-05,0.06293962500058115,9.828100064623868e-05,0.0002733070004978799,0.0002063550000457326,0.05814213200028462,0.00011212299978069495,0.060777216000133194,0.00011892600014107302,0.05912442299995746,0.00018671500038180966,0.0002759380004135892,0.061117297999771836,0.00022026900023774942,0.0584346480000022,0.00011631699999270495,0.060785568000028434,0.00010775999999168562,0.0632444389993907,0.0003176970003551105,0.00042530799964879407,0.05883323000034579,0.00025784399986150675,0.0625184390000868,0.00012017100016237237,0.06062664500041137,0.00015792999965924537,0.061637421999876096,0.00012906100073450943,0.00027260000024398323,0.06282463400020788,0.00011408400041545974,0.0593620279996685,0.00012008599969703937,0.059018371000092884,0.00016358300035790307,0.058931978000146046,0.0001364820000162581,0.00023447100011253497,0.00021574099991994444,0.060749002000193286,9.859599958872423e-05,0.060885998999765434,0.0001781920000212267,0.06434368400005042,9.628699990571477e-05,0.06252823300019372,0.0001787330002116505,0.0002986780000355793,0.00028066799950465793,0.05839843000012479,0.00016551299995626323,0.05899781799962511,0.0005336639997040038,0.00036037199970451184,0.058932355000251846,0.061320335999880626,0.0001855470000009518,0.0006662539999524597,0.00035262399978819303,0.059673052999642096,0.06500960999983363,0.001331368000137445,0.0017653790000622394,0.059562772000390396,0.0663772150001023,0.00011544500011950731,0.00036971700046706246,0.059910633999606944,0.00016646699987177271,0.05945711799995479,0.00019884999983332818,0.06229635500039876,0.00010850799935724353,0.058890473999781534,0.00016233700080192648,0.0002891949998229393,0.05932538100023521,0.00016953700014710193,0.059338858999581134,0.0001072470004146453,0.06703532099982112,0.00010857500001293374,0.06510775100014143,0.00012480300028983038,0.00023090400009095902,0.00022462100059783552,0.06110689300021477,0.00011254799937887583,0.0599494500002038,0.00044052800058125285,0.06063464199996815,0.00019428799987508683,0.060813808000602876,0.0001733190001687035,0.0002911550000135321,0.0002193629998146207,0.05872997200003738,9.914600013871677e-05,0.05915782100055367,0.0001192580002680188,0.058518329999969865,0.00010676100009732181,0.06046241900003224,0.00023253099971043412,0.00024027299969020532,0.06091406300038216,0.00016086499999801163,0.05886700200062478,0.00023447300009138416,0.06483168399972783,0.00010494599973753793,0.05832729800022207,0.004301987999497214,0.0010145969999939553,0.0002590470003269729,0.05848665200028336,0.06162356900040322,0.00017806399955588859,0.06129813799998374,0.00016866200076037785,0.06170584499977849,0.00010373000077379402,0.00023215300006995676,0.06595607599956566,0.00011844799973914633,0.059626905000186525,0.00012555800003610784,0.059117646000231616,0.0001734629995553405,0.059042148999651545,0.00016238899934251094,0.0002505059992472525,0.0002224949994342751,0.06087826699967991,0.00010172200018132571,0.059721966000324755,0.00012846999925386626,0.06211033299950941,0.00013480800043907948,0.061353729000074964,0.00010865000058402075,0.000976239000010537,0.00017393199959769845,0.0605558099996415,0.00021059499977127416,0.06491218300016044,0.00018312200063519413,0.05904002799979935,0.00010951400054182159,0.06569773599949258,0.0001174709996121237,0.0002559399999881862,0.05847117400026036,0.0001443190003556083,0.060535679000167875,0.0003356280003572465,0.059689412999432534,0.00016806500025268178,0.0615350979996947,0.00016473400046379538,0.0002400920002401108,0.058800172999326605,0.00010383599965280155,0.06309624499954225,0.00020392499936860986,0.058936523999364,0.00020774200038431445,0.05921649599986267,0.00010511799973755842,0.0002349599999433849,0.06729037999957654,0.0001610449999134289,0.0610822199996619,0.00017747400033840677,0.06076020700038498,0.00017729400042298948,0.061898036999991746,0.00011443499988672556,0.00024081700030365027,0.00020444300025701523,0.058782187000360864,0.00020265199964342173,0.06433424100032425,0.0001125089993365691,0.05835921400012012,0.00020193699947412824,0.058998953000809706,0.0001687520007180865,0.059981860000334564,0.00011284699940006249,0.0002938409998023417,0.0002282920004290645,0.06205161599973508,0.00017839300016930792,0.059741333000602026,0.00018323200038139476,0.06326623000040854,0.000108088000160933,0.00029869499940105015,0.05957176899937622,0.0001778010000634822,0.06037314900004276,0.00010937299975921633,0.05832633899990469,0.00019873600012942916,0.056888784999500785,0.00018393499976809835,0.00026272700051777065,0.06167019700023957,0.00011268699927313719,0.059340299999348645,0.0001721380003800732,0.05985980700006621,0.0045226599995658034,0.004473996999877272,0.060594954999942274,0.003601856999921438,0.06296248099988588,0.00015770899972267216,0.061887224999736645,0.00013689699972019298,0.05987813400042796,0.0001173979999293806,0.05944112399993173,0.00012386300022626529,0.0002565219992902712,0.00023973099996510427,0.061405078999996476,0.00010584599931462435,0.05827313700046943,0.00010540499988564989,0.07994014999985666,0.00019208399953640765,0.12378059099955863,0.00010778899923025165,0.0002865570004360052,0.00021682500027964124,0.19364139499975863,0.0015496980004172656,0.0010913059995800722,0.20012759499968524,0.16329287400003523,0.00020081099955859827,0.18607027099915285,0.00048636900010023965,0.0010300599997208337,0.00011743399954866618,0.2307829319997836,0.27875531400059117,0.0004531959993983037,0.2435745990005671,0.0006554680003318936,0.237832857000285,0.00042050000047311187,0.23483264799961034,0.00041830499958450673,0.0011252670001340448,0.26364587199987,0.0004266050000296673,0.2399174279998988,0.00041793499985942617,0.27091025299978355,0.0006903280000187806,0.004694979999840143,0.25709751900012634,0.0004580169998007477,0.23760709700036386,0.0004140699993513408,0.25528770700020686,0.0005333310000423808,0.234606330999668,0.00047511199954897165,0.0009050740000020596,0.0008377879994441173,0.23438295100004325,0.0005025450000175624,0.2740587289999894,0.0046834790000502835,0.2736419160000878,0.00044573900049726944,0.25263954999991256,0.0004649980000976939,0.0013134860000718618,0.0009945360006895498,0.26782200499928877,0.0005084929998702137,0.23512769500030117,0.0006915909998497227,0.24341395299961732,0.0008257809995484422,0.2514656199991805,0.000490741999783495,0.0010147009998036083,0.2328066680001939,0.0004596149992721621,0.2635177009997278,0.0004457040004126611,0.294569696000508,0.00956387799942604,0.26740446599978895,0.0007374119995802175,0.23524608699972305,0.0008502569999109255,0.0033329919997413526,0.25215483700048935,0.0006808820007790928,0.2360161100004916,0.004628701999536133,0.24515897200035397,0.00064972400014085,0.000964816999839968,0.2462159110000357,0.0018682620002437034,0.24938743700022314,0.0016479380001328536,0.002009713000006741,0.23689046599974972,0.24485906200061436,0.000621182999566372,0.0009272449997297372,0.0009745890001795487,0.26357985800041206,0.0004813510004169075,0.28605869700004405,0.0048992769998221775,0.24326715799998055,0.004175105000285839,0.24218195799949171,0.0007692709996263147,0.0016060110001490102,0.0008682890002091881,0.26394920100028685,0.0004571650006255368,0.25903110499984905,0.00044439599969336996,0.2525422050002817,0.0004288399995857617,0.26875712699984433,0.0007263319994308404,0.0009858309995252057,0.24605190999955084,0.0003990359991803416,0.2529246959993543,0.0006581790003110655,0.24768896300065535,0.0029314760004126583,0.24520882300021185,0.0004767049995280104,0.0009318000002167537,0.20122391199947742,0.004621501000656281,0.13016913999945245,0.00046523899982275907,0.12052358700020704,0.0005199600000196369,0.10255784800028778,0.0004418899998199777,0.001295099000344635,0.09310571500009246,0.00045179299922892824,0.08243084599962458,0.0006820299995524692,0.06202769799983798,0.0001375860001644469,0.05813925699931133,0.0001971849997062236,0.0002527999995436403,0.00022081699989939807,0.05516565400012041,0.0002351299999645562,0.05753580200052966,9.744399994815467e-05,0.0618987300003937,0.00031078900065040216,0.05709095900056127,0.0003092760007348261,0.00030330599929584423,0.058734628999445704,0.00037478200010809815,0.00021144199945410946,0.058834405000197876,0.00010180299977946561,0.056568293999589514,0.00019537099979061168,0.05777321400000801,0.00012651899942284217,0.00024932399992394494,0.057768253999711305,0.00019362399962119525,0.05621656799939956,0.00015797600008227164,0.05867671000032715,0.00010814699999173172,0.05597962699994241,9.771100030775415e-05,0.00022583500049222494,0.05547351899986097,9.799700001167366e-05,0.05778183399979753,0.00012379199961287668,0.05603316399992764,0.00015036799959489144,0.05876247399919521,0.0003314380001029349,0.00032629499946779106,0.05912875699959841,0.00018985800033988198,0.056615623000652704,0.00011070400069002062,0.0637623419997908,0.00010687599933589809,0.058032332999573555,9.927099927153904e-05,0.00022654900021734647,0.00020430499989743112,0.058109454000259575,0.00033992299995588837,0.0003121050003755954,0.0574120920000496,0.06075468499966519,0.00019942300059483387,0.059582425000371586,0.00018728999930317514,0.00029762300073343795,0.0002195919996665907,0.05632305099970836,0.00012140800026827492,0.05634641999949963,0.00011231400003453018,0.057433087000390515,0.00029561300016212044,0.05652500599990162,8.783799967204686e-05,0.00021544899936998263,0.0615278479999688,9.533400043437723e-05,0.05634160099998553,9.772300018084934e-05,0.058694084999842744,0.00016401999982917914,0.05907130400009919,0.00018206900040240726,0.0002515799997127033,0.05861904099947424,0.0001957340000444674,0.0585512870002276,0.00019281100048829103,0.056474891000107164,0.00019321899981150636,0.05817255799956911,9.993500043492531e-05,0.056933817999379244,0.00010524500066821929,0.0002612609996504034,0.059001632000217796,0.00010053499954665313,0.057583596999393194,0.0001823980001063319,0.05903210999986186,0.00018424499921820825,0.0002446449998387834,0.00020888199924229411,0.055943320000551466,0.00017388400010531768,0.05612882700006594,0.00017428199953428702,0.05663978699976724,0.0002839680000761291,0.00028604999988601776,0.05621547499958979,0.0002802930002872017,0.00020675599989772309,0.05759442699945794,0.0003430990000197198,0.00037984499977028463,0.05994707300033042,0.060175707000780676,0.00017272500008402858,0.060754864999580604,0.00020980499994038837,0.0002514159996280796,0.05915548499979195,0.0002125430000887718,0.062023446000239346,0.0001253970003745053,0.056380801999694086,0.0001041389996316866,0.0566201829997226,0.00016986300033750013,0.0002379079996899236,0.057435694000560034,0.0005053140002928558,0.00035100300010526553,0.05642767199969967,0.05884037499981787,0.00017560100059199613,0.059502281000277435,0.00011412300045776647,0.00024315599966939772,0.058666629000072135,0.0001763280006343848,0.06438348299980134,0.00010551500054134522,0.058838302999902226,9.82569999905536e-05,0.05715062299987039,0.00010602200018183794,0.00022382699989975663,0.00020299100015108706,0.059078953000607726,0.00018718299997999566,0.05849426900022081,0.00010162800026591867,0.06081026799984102,0.00019580200023483485,0.06050898600005894,0.00026433200036990456,0.00032512199959455756,0.00023109099947760114,0.05764581699986593,0.0001840799995989073,0.056731600000603066,0.00029966700003569713,0.05893958699925861,0.00022043300032237312,0.05678453400014405,0.0001642380002522259,0.00024255299922515405,0.05788505200052896,0.00010624900005495874,0.05773564799983433,0.00010454499988554744,0.06022405899966543,0.0001828539998314227,0.060506112000439316,0.00010967800062644528,0.00023879400032456033,0.05962769799953094,0.00018010799976764247,0.05959874500058504,0.00010465700052009197,0.05801395799971942,0.00011334400005580392,0.06559672399998817,0.0001135969996539643,0.00024573599966970505,0.059750053999778174,0.00021066900080768391,0.05759326299994427,0.00018746400019153953,0.05845090100046946,0.0001965589999599615,0.06102167900007771,0.0001033670005199383,0.0002359749996685423,0.000205252999876393,0.057967364999967685,0.0004919379998682416,0.00037618999976984924,0.05669505800051411,0.05824366800061398,0.00010326299980079057,0.06491658599952643,9.849399975792039e-05,0.00027552200026548235,0.0002151320004486479,0.060303616000055627,0.0001100330000554095,0.05928511299953243,0.00017815100000007078,0.06372917600037908,0.00022684499981551198,0.059329525000066496,0.003655702999822097,0.004203978000077768,0.06495063300008042,0.00011455799995019333,0.059246603999781655,0.00011506200007715961,0.057959196000410884,0.00022977599928708514,0.05474659400078963,0.00011045700011891313,0.05789099699995859,0.00010121400009666104,0.00024377299996558577,0.05806330500035983,0.00017597299938643118,0.05868111600011616,0.0001934629999595927,0.055142196999440785,0.00012830299965571612,0.00027107299956696806,0.04330217000006087,0.0008166589996108087,0.0005900650003241026,0.00011677899965434335,0.00010035600007540779,0.00024005599971133051,0.00022719099979440216,0.0001486349992774194,0.00015602900020894594,0.00014938700041966513,0.0001781800001481315,0.0003238339995732531,0.00025675600045360625],\"x\":[0.04188876600073854,0.042952110500664276,0.04060398750061722,0.04432415400060563,0.047153474500191805,0.04229958450105187,0.04585961199973099,0.04673939900021651,0.08099941450018378,0.11199961600050301,0.08284405300037179,0.11335569400034728,0.08496425249995809,0.08607371900052385,0.1175586215003932,0.11839549799969973,0.0879846150000958,0.08839514550072636,0.12061969650039828,0.08945249550015433,0.12241321800047444,0.0907599840002149,0.12194033899959322,0.09309156000017538,0.09346746450046339,0.12470178599960491,0.14304293300028803,0.17400253350024286,0.1439326939998864,0.18019499400088534,0.14920284649997484,0.1796921965005822,0.15035988700037706,0.1507269655003256,0.182820389999506,0.15292668100028095,0.15326982799979305,0.18466501500006416,0.1872567809996326,0.15571486099997855,0.15601659650019428,0.18805352250001306,0.15663833350026835,0.1570255124997857,0.18687961300020106,0.21009216550010024,0.21035418100018433,0.23951111050064355,0.24135461750029208,0.2149945025003035,0.24310034649988665,0.21643715949994657,0.21670325250033784,0.21697581100033858,0.24534705099995335,0.21755221750026976,0.24525621849988966,0.21819659350057918,0.24654399150040263,0.2202297185003772,0.24880564199975197,0.22167360100047517,0.22268633049952768,0.25145125850031036,0.2687886290004826,0.3005746235003244,0.2719073660000504,0.27219927700025437,0.30496930649951537,0.30268751550011075,0.2732448374999876,0.3019463945001917,0.27397675049996906,0.27453300599972863,0.27504943549956806,0.3034510699999373,0.3058747545001097,0.27781174299980194,0.3079093924998233,0.2801881855002648,0.280515708999701,0.3100861765005902,0.33081547300025704,0.3588391170005707,0.33232502050032053,0.33274288899974636,0.3610723624997263,0.3332051670004148,0.36294938099945284,0.3638215439996202,0.33665205750094174,0.3659672170006161,0.33772605400008615,0.3380474220002725,0.3684597625006063,0.33863684900006774,0.3394448379995083,0.33978508050040546,0.36811587600004714,0.3413827520007544,0.3428445865001777,0.3716983069998605,0.3869899869996516,0.41604056150026736,0.3896728980007538,0.42019047049961955,0.3928977474997737,0.4221091495010114,0.3943466284999886,0.3953483024997695,0.39514474050065473,0.4261476430010589,0.427679404000628,0.3966260355000486,0.4252103825001541,0.3990919115003635,0.4274697525006559,0.40101296699958766,0.40192410400049994,0.4330758730002344,0.4452224249998835,0.47410072299953754,0.451115144999676,0.4515015480001239,0.481247650500336,0.4816566364997925,0.4540461354999934,0.4850888099999793,0.4558432599997104,0.4844530399996074,0.4570250045007924,0.4573738045000937,0.48746406250029395,0.45931603150074807,0.4889746690005268,0.46423087200037116,0.4645817155005716,0.4649808660005874,0.49615815349989134,0.5030709134998688,0.5353213184998822,0.5115236110004844,0.5118868859999566,0.5406374375006635,0.541333063500133,0.5131560675008586,0.5422601215004761,0.5158466995007984,0.5161954740005967,0.5165937285000837,0.5453777655002341,0.5174804459993538,0.5463202255004944,0.5186271089996808,0.5473171610001373,0.5274024569998801,0.5278424979996998,0.5582119880000391,0.567074652500196,0.5990739729995767,0.5696299005003311,0.5988350225006798,0.5704798055003266,0.599767899499966,0.5713003935006782,0.5716558244994303,0.6016168195001228,0.5741241824998724,0.6041972180000812,0.5751790535005057,0.6062038794998443,0.576026929499676,0.6056519265002862,0.5885730740001236,0.5891658355003528,0.6196753345002435,0.6283335774996885,0.6611492020001606,0.6292480404999878,0.658998666500338,0.6313277645003836,0.6316990519999308,0.6633811519996016,0.6322299915000258,0.6326479919998746,0.6623021599998538,0.6342902590004087,0.6641552445007619,0.6352964220004651,0.665503279999939,0.6372329665000507,0.6668231805006144,0.6500426195007094,0.6509215739997671,0.6519150525009536,0.6822333244999754,0.6888842329999534,0.7183640200000809,0.6919258275001994,0.7205117545008761,0.6939135715001612,0.6943122250004308,0.7238894945003267,0.722671435999473,0.6956749824994404,0.6961925710002106,0.6965316610003356,0.6968531219999932,0.7264735590006239,0.7305393494998498,0.7308852065007159,0.712532103500962,0.7129663645000619,0.7429450290001114,0.7479405029998816,0.7793072725007733,0.7491364445004365,0.77865403099986,0.7506159065005704,0.7808496495008512,0.7534422800008542,0.7537853985004404,0.7844111510003131,0.7564035900004455,0.7863618900000802,0.7644336375005878,0.7647335740002745,0.7950959015006447,0.7954405595000935,0.7729375570006596,0.7733738055003414,0.7738312155006497,0.8038982680000117,0.8095016649995159,0.8110027294997053,0.8413862944998982,0.8112705974999699,0.8401560294996671,0.8409613725007148,0.8155820054998912,0.8165129330000127,0.816355679499793,0.8450463060007678,0.8172556284998791,0.8461320960004741,0.8258393590003834,0.8262185004996354,0.8557834624998577,0.8563719839994519,0.8340558105001037,0.834426597500169,0.8640659715001675,0.8691221970002516,0.8991574424999271,0.8704485505004413,0.9022042405003958,0.8721703064993562,0.9027572929999224,0.8736910415000239,0.8740135904999988,0.9042622104998372,0.8749688170000809,0.9052862510006889,0.8857295424995755,0.9159667635003643,0.8864664140010063,0.9159961310006111,0.8937152759999663,0.8941183975002787,0.9246125070003473,0.9292712984997706,0.9583838695007216,0.9339916984999945,0.934404147999885,0.9346999425006288,0.9647233825007788,0.9641958165002507,0.9358122855001056,0.9357508920002147,0.9661299544995927,0.9365456434998123,0.9664084559999537,0.9459980530000394,0.94633079849973,0.9774518314998204,0.9766745024999182,0.9551616814997033,0.9556035135001366,0.9560736365001503,0.9870479440005511,0.9875836894998429,1.017197473500346,0.9936277275000975,1.0247048205010287,0.9949338939995869,1.0270631209996282,0.9964739494998867,0.996850280000217,1.0286653720004324,0.9974290510008359,1.027398909999647,1.0069832635008424,1.040316518500731,1.0087051729997256,1.039367115499772,1.018109794999873,1.0186235685005158,1.0493319750003138,1.0469131694999305,1.0763804594998874,1.0558769035005753,1.0860853240001234,1.057245005000368,1.0883106904993838,1.059216750500127,1.0911452515001656,1.0605625859998327,1.0609015420004653,1.0908006350000505,1.0698960720001196,1.1008813185007966,1.0736749990001044,1.104535624500386,1.080010039499939,1.0804439725006887,1.0808945360004145,1.111944687500909,1.1059372855006586,1.1356491300002745,1.1174867324998559,1.1497998430004372,1.1195020660006776,1.1517143120008768,1.1206615529999908,1.1523553765000543,1.1230939535007565,1.1234493745005238,1.1238588935002554,1.1531986070003768,1.13192293550037,1.1625482770004965,1.1354598409998289,1.1652528515005542,1.1430650385000263,1.143492160000278,1.174378656000954,1.1654475625009582,1.1949661660009951,1.1809694945004594,1.2116140540010747,1.1825643349993697,1.2144273465000879,1.1839478775000316,1.1842197390005822,1.2137429429994882,1.1849343550002231,1.216512824500569,1.193298726499961,1.2238522915004069,1.1950601380003718,1.226126459000625,1.2053256405006323,1.2057240200001615,1.2374640409998392,1.2245535379997818,1.2544966360001126,1.242426339999838,1.2722001075007938,1.243413083499945,1.273140133999732,1.246326837000197,1.2466889505003564,1.2470853075001287,1.2777453030003016,1.2479999010001848,1.2786765834998732,1.2545139600006223,1.2869598850002149,1.2571918724997886,1.2886998735002635,1.2692336575000809,1.2696591200001421,1.2701257630005784,1.2996466909999072,1.284511598500103,1.314260785999977,1.3026992439999958,1.3030241670003306,1.3326187744996787,1.334067540000433,1.3084159244999682,1.309161301000131,1.309611894000227,1.3395713905001685,1.3427616150001995,1.320572028999777,1.3210347945005196,1.351637546999882,1.3555801335005526,1.3291666575005365,1.3295868805007558,1.360099884000192,1.3441079644999263,1.374095562000548,1.362493405999885,1.3939200254999378,1.3650018510006703,1.3946766130002288,1.3696616215001995,1.370035322500371,1.400051279500076,1.3755567455000346,1.4054948974999206,1.381732635500157,1.4154850045006242,1.3890893885009064,1.421878675500011,1.3903386905003572,1.390711237000687,1.391135625500283,1.4219902864997493,1.4041737850002391,1.4343742219998603,1.424599181999838,1.4553363050008556,1.4255398409995905,1.4562181490000512,1.4301609565000035,1.430610985500607,1.4310551485004908,1.4607122080005865,1.4354242010003873,1.4652275395001197,1.449368305000462,1.478871201000402,1.4528242275000594,1.4832848095002191,1.4547362835000968,1.4551469914995323,1.4859015945003193,1.464679716500541,1.494364006000069,1.4862405185003809,1.5189852670000619,1.487052990999473,1.5164514320003946,1.4924293180001769,1.4952646534993619,1.4950605905005432,1.5247284770002807,1.526754596500723,1.5084776080002484,1.5394105120003587,1.5137919630005854,1.5449079335003262,1.516611068000202,1.5169471564995547,1.5502182910004194,1.5241187279998485,1.554169400500541,1.5459932189996834,1.575797815000442,1.5516925724996327,1.5814412634999826,1.554217214500568,1.5546280530006698,1.5550493425007517,1.5857738884997161,1.5578181250002672,1.587898454000424,1.5704489270001432,1.6017702685003314,1.5760770500000945,1.607012711500829,1.5835011200006193,1.5844251204998727,1.5842769509999926,1.6148418860002494,1.5852076995006428,1.6179473985002915,1.6057027960005144,1.6355026050005108,1.6112265300007493,1.6443034140002055,1.616506696500437,1.6168775070000265,1.6464299869994647,1.6180167874999825,1.648537850500361,1.6333900390009148,1.6635937555001874,1.6379714345002867,1.6690027400009058,1.6454380170007425,1.645837168000071,1.6755342485002984,1.6506937130006918,1.682467365500088,1.6653745795001669,1.6951319640002112,1.6760297160008122,1.7059384250005678,1.6774101300006805,1.6777643460000036,1.7117006199996467,1.6790551035001045,1.709853817000294,1.6937793570004942,1.7244239785004538,1.7000734870007363,1.7312974115002362,1.7052424615003474,1.7056034024999462,1.7060063614999308,1.7356640285006506,1.7143495450000046,1.746796452500348,1.7248641515006966,1.7542911930004266,1.7359155535004902,1.7657138844997462,1.7406726140006867,1.7709420330002104,1.7456440995001685,1.7460345925001093,1.746513708000748,1.777924467000048,1.7551474074998623,1.785290069500661,1.762585671999659,1.7945045879996542,1.7653199080004924,1.7656860244997006,1.7958023945002424,1.7793040674996519,1.809760887500488,1.783759036500669,1.8131792615004088,1.7955806670006496,1.8243263025005945,1.8012441604996638,1.8016671995001161,1.832834614499916,1.809311010500096,1.839222929999778,1.8154552099995271,1.8456497095003215,1.8282582740002908,1.8286143394998362,1.861088661499707,1.832873884500259,1.8664008224995996,1.8402539094995518,1.8714612604999274,1.8425701285004834,1.8727405060008095,1.8531442829998923,1.8831206009999732,1.8640539984999123,1.8644495119997373,1.8649038925004788,1.8959252755003035,1.8691615899997487,1.8985287884997888,1.8758839925003485,1.916088746999776,1.8917512529997111,1.9539555135006594,1.8982086155001525,1.898631186500097,1.8990642015005506,1.9961889824999162,1.9034132900005716,1.9039193500002511,2.0044780225007344,1.9863540400001511,1.9131994695007961,2.006529668499752,1.9272075705002862,1.9281326419995821,1.9280015240001376,2.0436389280002913,2.0682179200002793,1.9573443590006718,2.0800839915000324,2.0169273780002186,2.136873024500346,2.0691692039999907,2.1874788800005263,2.0940396574997067,2.0954708705003213,2.2286017550004544,2.1005578154999967,2.2212839410003653,2.105577941500087,2.242023222500393,2.160175137999431,2.1636210060005396,2.295918138500383,2.2031723584996143,2.3229633965001995,2.208518358999754,2.337017900500541,2.260891207500208,2.3792129245002798,2.3061389120002787,2.307572345001063,2.309168569000576,2.427493708500151,2.342343979499674,2.48033612349991,2.363740132500425,2.5047182450007313,2.378604638500292,2.5078127339993443,2.4257103500003723,2.4272431879999203,2.429039682000621,2.564294405500732,2.443592748500123,2.5621545745007097,2.4658333155002765,2.58865364850044,2.497959824499958,2.624876184000641,2.5457964839997658,2.5473989575002634,2.66513102800036,2.6186936855001477,2.75142527349999,2.635166503000619,2.783372283999597,2.647024450000572,2.7862836100002824,2.6809334210001907,2.799703767500432,2.6994576454999333,2.7023065069997756,2.8308716774999994,2.713126514000578,2.8322003940002105,2.7540587510002297,2.882991585000127,2.7827465920008763,2.7842880975003936,2.9085844905002887,2.8857510179996098,3.0121060755000144,2.920285307000995,2.921968897499937,3.0402444760002254,3.04604400900007,2.931626458500432,2.933442191500035,2.9352348014999734,3.068253877000643,2.951313228500112,3.095482763500513,2.9604507225003545,3.0852521919996434,3.008615241499683,3.132693604999986,3.032833482499882,3.0346546954997393,3.0366595374998724,3.1697852665001847,3.1379410125000504,3.268581837500278,3.1598752449999665,3.287084081500325,3.172771995000403,3.308112578500186,3.2012443640005586,3.203112054500707,3.327434027999516,3.2079253380006776,3.3352889589996266,3.239662406500429,3.3645524864996332,3.257215697999527,3.3820700975002183,3.3109954794999794,3.312569328999416,3.4143679540002267,3.4035871075002433,3.4721020269998917,3.414701608499854,3.475966269500532,3.4437561459999415,3.4960829640003794,3.4515810750008313,3.453188159500314,3.501144145499893,3.4629252465001628,3.5050765500000125,3.4895020459998705,3.5219893780003986,3.5050623150009415,3.534397717500724,3.515338089499892,3.5157596239996565,3.5161810015006267,3.5440546870004255,3.5366113740010405,3.565820356000586,3.5375609510001595,3.568723436000255,3.546885453500181,3.5758549535003112,3.5478169040006833,3.548018886999671,3.577492939500189,3.548516854000809,3.548990694999702,3.5786880255009237,3.5532782005002446,3.5817970380003317,3.5638228235002316,3.5930024359995514,3.571985493500506,3.572354732000349,3.6015856000003623,3.594948213999487,3.623347891000776,3.5999394170003143,3.6295203590007077,3.604679700500128,3.6328864845008866,3.6070910895005,3.60741154849984,3.6354187465003633,3.608351624500756,3.6374557879998974,3.6103312000004735,3.6385776489996715,3.6222663349999493,3.651898331000666,3.630885015999411,3.631665584500297,3.66159412450088,3.6518157479995352,3.6804095265006254,3.6591992650000975,3.6913063559995862,3.6611151340002834,3.6903441675003705,3.663372260500182,3.663690606500495,3.6640633484994396,3.6933763580009327,3.666723183500835,3.6670071585003825,3.6957683499995255,3.6977627144997314,3.681633548500031,3.711725253499935,3.691532861000269,3.691977216500163,3.6924159109994434,3.7208611545001986,3.709108617000311,3.737539652999658,3.719722950999312,3.748679110500234,3.72280423850043,3.7514041660006114,3.7235108630002287,3.7238362395000877,3.754875073999756,3.7247087949999695,3.753089162500146,3.728389621500355,3.7579551685003025,3.741820985999766,3.771599876000437,3.749341118499615,3.74974243700035,3.779363754500082,3.7660782760003713,3.7956373625002016,3.7776900185008344,3.806183990500358,3.779969746500683,3.8093810560003476,3.7815327074995366,3.8102509800000917,3.785983332500109,3.78633409449958,3.8161356880000312,3.7875575815005504,3.816564502500114,3.8014835829999356,3.8312779350007986,3.808997488499699,3.8093947275001483,3.809792971999741,3.838041186000737,3.825242074000016,3.853572428500229,3.834756324999944,3.8633457245005047,3.8388167310004064,3.8390633959998013,3.8672664124997027,3.8396421035004096,3.84006078099992,3.869132040500517,3.8457618435004406,3.8460777304999283,3.876084811500732,3.8765975614996933,3.8611092515002383,3.891751418500462,3.866324440500648,3.8667452010004126,3.8966321665002397,3.8820142715003385,3.9133038030004172,3.8920271545002834,3.9204649410003185,3.89562208749976,3.9241524145008952,3.8981974295002146,3.898600653000358,3.9276183440006207,3.9067738309995548,3.907075763499961,3.935414888000196,3.9368434825000804,3.9224906315002954,3.9525192075007,3.9265332115001,3.9268910220007456,3.95653152649993,3.9446703130006426,3.977135766500396,3.9489317625002514,3.9785736575004194,3.9527165435001734,3.981502129500768,3.9565761829999246,3.9569065264995515,3.957279228500738,3.98707698149974,3.9639616254999055,3.9934890314998484,3.9665461140002662,3.997173128000213,3.982644743000492,4.013196591000451,3.986280029000227,3.986847057999512,3.9873484134996033,4.0164914605002195,4.008362411000235,4.037026225000773,4.009687393500826,4.039498608500253,4.0104011494995575,4.039072995000424,4.016898979000871,4.017286021499785,4.04653292400053,4.0230270675010615,4.052123681000921,4.027849117500409,4.0581866005004485,4.043799735999528,4.074337695000395,4.045589062000545,4.045938248000311,4.076049475000218,4.065749546000006,4.095860604499649,4.067719479499829,4.0969515770002545,4.0692348359998505,4.102240549999806,4.075817575499968,4.076275813999928,4.106469852999908,4.081325704500159,4.110402702500323,4.088667236000219,4.118182669500129,4.104963232500268,4.135766791500828,4.106119195500469,4.106498124499922,4.106890765499884,4.13614321049954,4.126152248000835,4.1264377350007635,4.154924606999884,4.155919478999749,4.135372808500506,4.16806127000018,4.136611330000051,4.1369659460006005,4.13738787300008,4.167858411000452,4.139456176500062,4.1695319364998795,4.147736454499864,4.17987752099998,4.165516377500353,4.195497862499906,4.168333727499885,4.172513176000393,4.207317558500108,4.183597043999725,4.213469666000492,4.185322161999466,4.214534970999921,4.198399739000706,4.2260916679997536,4.199446671500482,4.2286352265009555,4.200771026000439,4.201112947500405,4.2304062534994955,4.212095118499747,4.241678060000595,4.225521691500035,4.253384672500033,4.240203149500303,4.24090417249954,4.26288859000033,4.243879349500276,4.244005670500883,4.253815250500338,4.257825363000848,4.258113242000945,4.2584820455003864,4.25963515750027,4.271291460499924,4.281240863499988,4.285020578000513,4.285510147000423,4.285970893000012],\"y\":[6,5,8,3,1,7,4,2,8,8,7,7,5,5,5,6,3,3,3,4,4,2,2,1,1,1,8,8,7,7,5,5,6,6,6,3,3,3,2,4,4,4,1,1,1,8,8,8,6,5,5,3,1,7,3,7,1,7,7,4,4,2,2,2,8,8,5,5,5,6,1,1,3,3,7,7,4,3,3,2,2,2,1,1,7,7,8,7,7,6,4,5,3,3,3,4,4,2,2,4,4,4,1,1,8,8,7,7,6,6,5,5,6,2,2,3,3,4,4,4,1,1,7,7,7,2,8,8,3,3,5,5,5,6,6,4,4,4,4,1,1,7,7,7,2,3,3,8,8,8,8,5,5,6,6,4,4,4,1,1,7,7,2,2,3,3,3,8,8,5,5,6,6,4,4,4,7,7,2,2,1,1,3,1,1,1,8,8,6,6,5,5,4,4,4,4,2,2,1,1,7,7,7,8,3,5,6,6,5,3,6,4,4,4,2,2,1,1,8,8,7,7,7,5,5,3,3,3,6,4,4,4,4,2,2,2,8,8,1,7,7,5,5,7,7,3,6,3,6,4,4,4,8,8,1,1,2,2,5,5,5,7,7,3,3,6,6,4,4,4,8,8,2,5,1,2,7,1,5,5,1,1,6,6,6,3,4,4,4,4,8,8,7,7,2,2,1,1,1,5,5,3,3,6,6,4,4,4,8,8,7,7,5,5,2,2,1,1,1,6,6,3,3,4,4,4,4,8,8,7,7,5,5,1,1,2,2,2,2,6,6,3,3,4,4,4,8,8,7,7,2,2,5,1,1,5,5,6,6,3,3,4,4,4,8,8,7,7,1,1,2,2,2,2,5,5,6,6,3,3,4,4,4,4,8,8,7,7,7,1,2,5,2,2,6,3,3,5,3,4,4,4,8,8,7,7,1,1,2,2,2,6,6,5,5,3,3,4,4,4,4,8,8,1,1,7,7,2,2,2,2,6,6,5,5,4,4,3,3,3,8,8,1,1,7,7,2,2,6,6,2,5,5,4,4,3,3,3,8,8,7,7,1,1,6,6,6,6,2,2,5,5,4,4,3,3,8,8,3,3,7,7,1,1,6,6,6,2,2,5,5,4,4,8,8,8,3,3,7,7,6,6,1,1,1,2,2,5,5,4,4,8,8,8,8,3,3,7,7,6,6,2,2,1,1,1,1,5,5,4,4,8,8,8,3,3,7,7,6,6,2,2,2,1,1,5,5,8,4,4,8,8,3,3,7,7,6,6,2,2,2,2,1,1,5,5,4,4,8,8,8,8,3,3,3,7,6,6,2,2,1,1,2,5,5,4,4,7,7,8,8,8,6,6,3,3,1,1,1,5,5,2,2,4,4,7,7,7,7,6,6,8,8,3,3,1,1,1,1,5,5,2,2,4,4,7,7,7,6,6,3,3,8,8,5,5,1,1,1,2,2,4,4,7,7,7,6,6,5,5,5,8,3,3,3,3,2,2,1,1,4,4,7,7,7,7,6,6,5,5,8,8,3,3,3,1,1,2,2,4,4,7,7,7,6,6,5,5,8,8,3,3,3,1,1,2,2,4,4,7,7,7,7,5,5,6,6,1,1,3,3,3,8,8,8,2,2,4,4,7,7,7,5,5,6,6,1,1,3,3,3,8,8,2,2,4,4,7,7,7,5,5,6,6,1,1,3,3,3,3,8,8,2,8,4,4,7,7,7,7,5,5,1,1,3,3,6,6,6,2,2,8,8,4,4,7,7,7,5,5,1,1,3,3,2,2,6,6,6,8,8,4,4,7,7,7,7,5,5,1,1,3,3,3,2,2,2,8,8,8,6,4,4,7,7,7,5,5,1,1,3,3,2,2,2,8,6,6,8,4,4,7,7,7,5,5,1,1,3,3,2,2,2,2,6,6,8,8,4,4,7,7,7,7,1,1,5,5,3,3,2,2,2,6,6,8,8,4,4,7,7,7,1,1,3,3,5,5,2,2,2,6,6,8,8,4,4,7,7,7,7,1,1,1,3,5,5,2,2,2,2,6,6,8,8,7,7,4,4,4,1,1,3,3,2,2,6,6,5,5,5,8,8,7,7,4,4,4,1,1,1,2,3,1,6,2,5,3,2,7]},\"selected\":{\"id\":\"1045\",\"type\":\"Selection\"},\"selection_policy\":{\"id\":\"1044\",\"type\":\"UnionRenderers\"}},\"id\":\"1033\",\"type\":\"ColumnDataSource\"},{\"attributes\":{},\"id\":\"1014\",\"type\":\"BasicTicker\"},{\"attributes\":{\"grid_line_color\":null,\"ticker\":{\"id\":\"1014\",\"type\":\"BasicTicker\"}},\"id\":\"1017\",\"type\":\"Grid\"},{\"attributes\":{},\"id\":\"1024\",\"type\":\"ResetTool\"},{\"attributes\":{\"callback\":null,\"end\":787.8},\"id\":\"1051\",\"type\":\"Range1d\"},{\"attributes\":{},\"id\":\"1053\",\"type\":\"LinearScale\"},{\"attributes\":{\"callback\":null,\"data\":{\"x\":[0.0,0.20835228499981895,0.40884808900045755,0.6094259600004079,0.8099853160001658,1.0105564699997558,1.2111883190000299,1.4117395270004636,1.6122936700003265,1.812872802000129,2.01360879799995,2.214999662000082,2.416320789000565,2.617699053999786,2.819038083000123,3.020395565000399,3.22179528200013,3.423102265000125,3.6242673610004204,3.8248347489998196,4.02539888299998,4.225995366999996],\"y\":[0.0,681.5,767.8,762.9,757.8,762.8,767.6,762.9,772.8,782.7,756.3,735.1,730.2,739.9,735.1,744.8,730.1,715.3,746.3,787.8,772.7,767.8]},\"selected\":{\"id\":\"1100\",\"type\":\"Selection\"},\"selection_policy\":{\"id\":\"1099\",\"type\":\"UnionRenderers\"}},\"id\":\"1076\",\"type\":\"ColumnDataSource\"},{\"attributes\":{\"dimensions\":\"width\"},\"id\":\"1025\",\"type\":\"WheelZoomTool\"},{\"attributes\":{},\"id\":\"1055\",\"type\":\"LinearScale\"},{\"attributes\":{\"callback\":null,\"data\":{\"x\":[0.0,0.20835228499981895,0.40884808900045755,0.6094259600004079,0.8099853160001658,1.0105564699997558,1.2111883190000299,1.4117395270004636,1.6122936700003265,1.812872802000129,2.01360879799995,2.214999662000082,2.416320789000565,2.617699053999786,2.819038083000123,3.020395565000399,3.22179528200013,3.423102265000125,3.6242673610004204,3.8248347489998196,4.02539888299998,4.225995366999996],\"y\":[6777.18016,6787.50208,6794.530816,6794.530816,6794.530816,6794.530816,6794.530816,6794.530816,6794.530816,6794.530816,6794.530816,6794.530816,6794.530816,6794.530816,6794.530816,6794.530816,6794.530816,6794.530816,6794.543104,6794.543104,6794.543104,6794.543104]},\"selected\":{\"id\":\"1121\",\"type\":\"Selection\"},\"selection_policy\":{\"id\":\"1120\",\"type\":\"UnionRenderers\"}},\"id\":\"1089\",\"type\":\"ColumnDataSource\"},{\"attributes\":{\"dimensions\":\"width\"},\"id\":\"1026\",\"type\":\"PanTool\"},{\"attributes\":{\"line_color\":\"#440154\",\"line_width\":4,\"x\":{\"field\":\"x\"},\"y\":{\"field\":\"y\"}},\"id\":\"1077\",\"type\":\"Line\"},{\"attributes\":{\"dimension\":1,\"grid_line_color\":null,\"ticker\":{\"id\":\"1019\",\"type\":\"CategoricalTicker\"}},\"id\":\"1021\",\"type\":\"Grid\"},{\"attributes\":{\"source\":{\"id\":\"1076\",\"type\":\"ColumnDataSource\"}},\"id\":\"1080\",\"type\":\"CDSView\"},{\"attributes\":{\"line_alpha\":0.1,\"line_color\":\"#1f77b4\",\"line_width\":4,\"x\":{\"field\":\"x\"},\"y\":{\"field\":\"y\"}},\"id\":\"1091\",\"type\":\"Line\"},{\"attributes\":{\"below\":[{\"id\":\"1057\",\"type\":\"LinearAxis\"}],\"center\":[{\"id\":\"1061\",\"type\":\"Grid\"},{\"id\":\"1066\",\"type\":\"Grid\"},{\"id\":\"1086\",\"type\":\"Legend\"}],\"extra_y_ranges\":{\"memory\":{\"id\":\"1088\",\"type\":\"Range1d\"}},\"left\":[{\"id\":\"1062\",\"type\":\"LinearAxis\"}],\"min_border_left\":75,\"min_border_right\":75,\"min_border_top\":20,\"plot_height\":270,\"plot_width\":800,\"renderers\":[{\"id\":\"1079\",\"type\":\"GlyphRenderer\"},{\"id\":\"1092\",\"type\":\"GlyphRenderer\"}],\"right\":[{\"id\":\"1102\",\"type\":\"LinearAxis\"}],\"title\":null,\"toolbar\":{\"id\":\"1071\",\"type\":\"Toolbar\"},\"toolbar_location\":null,\"x_range\":{\"id\":\"1005\",\"type\":\"Range1d\"},\"x_scale\":{\"id\":\"1053\",\"type\":\"LinearScale\"},\"y_range\":{\"id\":\"1051\",\"type\":\"Range1d\"},\"y_scale\":{\"id\":\"1055\",\"type\":\"LinearScale\"}},\"id\":\"1046\",\"subtype\":\"Figure\",\"type\":\"Plot\"},{\"attributes\":{\"axis_label\":\"Worker ID\",\"axis_line_color\":{\"value\":null},\"formatter\":{\"id\":\"1041\",\"type\":\"CategoricalTickFormatter\"},\"major_tick_line_color\":{\"value\":null},\"ticker\":{\"id\":\"1019\",\"type\":\"CategoricalTicker\"}},\"id\":\"1018\",\"type\":\"CategoricalAxis\"},{\"attributes\":{\"callback\":null,\"end\":6877.18016,\"start\":6777.18016},\"id\":\"1088\",\"type\":\"Range1d\"},{\"attributes\":{\"data_source\":{\"id\":\"1089\",\"type\":\"ColumnDataSource\"},\"glyph\":{\"id\":\"1090\",\"type\":\"Line\"},\"hover_glyph\":null,\"muted_glyph\":null,\"nonselection_glyph\":{\"id\":\"1091\",\"type\":\"Line\"},\"selection_glyph\":null,\"view\":{\"id\":\"1093\",\"type\":\"CDSView\"},\"y_range_name\":\"memory\"},\"id\":\"1092\",\"type\":\"GlyphRenderer\"},{\"attributes\":{\"line_alpha\":0.1,\"line_color\":\"#1f77b4\",\"line_width\":4,\"x\":{\"field\":\"x\"},\"y\":{\"field\":\"y\"}},\"id\":\"1078\",\"type\":\"Line\"},{\"attributes\":{},\"id\":\"1045\",\"type\":\"Selection\"},{\"attributes\":{\"below\":[{\"id\":\"1013\",\"type\":\"LinearAxis\"}],\"center\":[{\"id\":\"1017\",\"type\":\"Grid\"},{\"id\":\"1021\",\"type\":\"Grid\"}],\"left\":[{\"id\":\"1018\",\"type\":\"CategoricalAxis\"}],\"min_border_bottom\":20,\"min_border_left\":75,\"min_border_right\":75,\"plot_height\":270,\"plot_width\":800,\"renderers\":[{\"id\":\"1037\",\"type\":\"GlyphRenderer\"}],\"title\":{\"id\":\"1003\",\"type\":\"Title\"},\"toolbar\":{\"id\":\"1027\",\"type\":\"Toolbar\"},\"toolbar_location\":null,\"x_range\":{\"id\":\"1005\",\"type\":\"Range1d\"},\"x_scale\":{\"id\":\"1009\",\"type\":\"LinearScale\"},\"y_range\":{\"id\":\"1007\",\"type\":\"FactorRange\"},\"y_scale\":{\"id\":\"1011\",\"type\":\"CategoricalScale\"}},\"id\":\"1002\",\"subtype\":\"Figure\",\"type\":\"Plot\"},{\"attributes\":{\"dimensions\":\"width\"},\"id\":\"1070\",\"type\":\"PanTool\"},{\"attributes\":{\"children\":[[{\"id\":\"1002\",\"subtype\":\"Figure\",\"type\":\"Plot\"},0,0],[{\"id\":\"1046\",\"subtype\":\"Figure\",\"type\":\"Plot\"},1,0]]},\"id\":\"1123\",\"type\":\"GridBox\"},{\"attributes\":{\"data_source\":{\"id\":\"1076\",\"type\":\"ColumnDataSource\"},\"glyph\":{\"id\":\"1077\",\"type\":\"Line\"},\"hover_glyph\":null,\"muted_glyph\":null,\"nonselection_glyph\":{\"id\":\"1078\",\"type\":\"Line\"},\"selection_glyph\":null,\"view\":{\"id\":\"1080\",\"type\":\"CDSView\"}},\"id\":\"1079\",\"type\":\"GlyphRenderer\"},{\"attributes\":{\"source\":{\"id\":\"1089\",\"type\":\"ColumnDataSource\"}},\"id\":\"1093\",\"type\":\"CDSView\"},{\"attributes\":{\"fill_alpha\":{\"value\":0.1},\"fill_color\":{\"value\":\"#1f77b4\"},\"height\":{\"units\":\"data\",\"value\":1},\"line_alpha\":{\"value\":0.1},\"line_color\":{\"value\":\"#1f77b4\"},\"width\":{\"field\":\"width\",\"units\":\"data\"},\"x\":{\"field\":\"x\"},\"y\":{\"field\":\"y\"}},\"id\":\"1036\",\"type\":\"Rect\"},{\"attributes\":{},\"id\":\"1044\",\"type\":\"UnionRenderers\"},{\"attributes\":{\"callback\":null,\"end\":4.286099271000239},\"id\":\"1005\",\"type\":\"Range1d\"},{\"attributes\":{\"active_drag\":\"auto\",\"active_inspect\":\"auto\",\"active_multi\":null,\"active_scroll\":\"auto\",\"active_tap\":\"auto\",\"tools\":[{\"id\":\"1067\",\"type\":\"SaveTool\"},{\"id\":\"1068\",\"type\":\"ResetTool\"},{\"id\":\"1069\",\"type\":\"WheelZoomTool\"},{\"id\":\"1070\",\"type\":\"PanTool\"}]},\"id\":\"1071\",\"type\":\"Toolbar\"},{\"attributes\":{},\"id\":\"1043\",\"type\":\"BasicTickFormatter\"},{\"attributes\":{\"label\":{\"value\":\"Memory\"},\"renderers\":[{\"id\":\"1092\",\"type\":\"GlyphRenderer\"}]},\"id\":\"1101\",\"type\":\"LegendItem\"},{\"attributes\":{},\"id\":\"1011\",\"type\":\"CategoricalScale\"},{\"attributes\":{},\"id\":\"1068\",\"type\":\"ResetTool\"},{\"attributes\":{},\"id\":\"1100\",\"type\":\"Selection\"},{\"attributes\":{\"dimensions\":\"width\"},\"id\":\"1069\",\"type\":\"WheelZoomTool\"},{\"attributes\":{\"label\":{\"value\":\"% CPU\"},\"renderers\":[{\"id\":\"1079\",\"type\":\"GlyphRenderer\"}]},\"id\":\"1087\",\"type\":\"LegendItem\"},{\"attributes\":{\"axis_label\":\"Memory (MB)\",\"formatter\":{\"id\":\"1113\",\"type\":\"BasicTickFormatter\"},\"ticker\":{\"id\":\"1112\",\"type\":\"BasicTicker\"},\"y_range_name\":\"memory\"},\"id\":\"1102\",\"type\":\"LinearAxis\"},{\"attributes\":{\"tools\":[{\"id\":\"1022\",\"type\":\"HoverTool\"},{\"id\":\"1023\",\"type\":\"SaveTool\"},{\"id\":\"1024\",\"type\":\"ResetTool\"},{\"id\":\"1025\",\"type\":\"WheelZoomTool\"},{\"id\":\"1026\",\"type\":\"PanTool\"},{\"id\":\"1067\",\"type\":\"SaveTool\"},{\"id\":\"1068\",\"type\":\"ResetTool\"},{\"id\":\"1069\",\"type\":\"WheelZoomTool\"},{\"id\":\"1070\",\"type\":\"PanTool\"}]},\"id\":\"1124\",\"type\":\"ProxyToolbar\"},{\"attributes\":{\"text\":\"Profile Results\"},\"id\":\"1003\",\"type\":\"Title\"},{\"attributes\":{\"active_drag\":\"auto\",\"active_inspect\":\"auto\",\"active_multi\":null,\"active_scroll\":\"auto\",\"active_tap\":\"auto\",\"tools\":[{\"id\":\"1022\",\"type\":\"HoverTool\"},{\"id\":\"1023\",\"type\":\"SaveTool\"},{\"id\":\"1024\",\"type\":\"ResetTool\"},{\"id\":\"1025\",\"type\":\"WheelZoomTool\"},{\"id\":\"1026\",\"type\":\"PanTool\"}]},\"id\":\"1027\",\"type\":\"Toolbar\"},{\"attributes\":{},\"id\":\"1067\",\"type\":\"SaveTool\"},{\"attributes\":{},\"id\":\"1019\",\"type\":\"CategoricalTicker\"},{\"attributes\":{},\"id\":\"1041\",\"type\":\"CategoricalTickFormatter\"},{\"attributes\":{\"callback\":null,\"factors\":[\"0\",\"1\",\"2\",\"3\",\"4\",\"5\",\"6\",\"7\"]},\"id\":\"1007\",\"type\":\"FactorRange\"},{\"attributes\":{\"source\":{\"id\":\"1033\",\"type\":\"ColumnDataSource\"}},\"id\":\"1038\",\"type\":\"CDSView\"},{\"attributes\":{},\"id\":\"1083\",\"type\":\"BasicTickFormatter\"},{\"attributes\":{\"line_color\":\"#29788E\",\"line_width\":4,\"x\":{\"field\":\"x\"},\"y\":{\"field\":\"y\"}},\"id\":\"1090\",\"type\":\"Line\"},{\"attributes\":{\"toolbar\":{\"id\":\"1124\",\"type\":\"ProxyToolbar\"},\"toolbar_location\":\"above\"},\"id\":\"1125\",\"type\":\"ToolbarBox\"},{\"attributes\":{\"items\":[{\"id\":\"1087\",\"type\":\"LegendItem\"},{\"id\":\"1101\",\"type\":\"LegendItem\"}]},\"id\":\"1086\",\"type\":\"Legend\"},{\"attributes\":{\"fill_color\":{\"field\":\"color\"},\"height\":{\"units\":\"data\",\"value\":1},\"line_color\":{\"value\":\"gray\"},\"width\":{\"field\":\"width\",\"units\":\"data\"},\"x\":{\"field\":\"x\"},\"y\":{\"field\":\"y\"}},\"id\":\"1035\",\"type\":\"Rect\"},{\"attributes\":{},\"id\":\"1113\",\"type\":\"BasicTickFormatter\"},{\"attributes\":{\"data_source\":{\"id\":\"1033\",\"type\":\"ColumnDataSource\"},\"glyph\":{\"id\":\"1035\",\"type\":\"Rect\"},\"hover_glyph\":null,\"muted_glyph\":null,\"nonselection_glyph\":{\"id\":\"1036\",\"type\":\"Rect\"},\"selection_glyph\":null,\"view\":{\"id\":\"1038\",\"type\":\"CDSView\"}},\"id\":\"1037\",\"type\":\"GlyphRenderer\"},{\"attributes\":{\"axis_label\":\"% CPU\",\"formatter\":{\"id\":\"1083\",\"type\":\"BasicTickFormatter\"},\"ticker\":{\"id\":\"1063\",\"type\":\"BasicTicker\"}},\"id\":\"1062\",\"type\":\"LinearAxis\"},{\"attributes\":{\"dimension\":1,\"ticker\":{\"id\":\"1063\",\"type\":\"BasicTicker\"}},\"id\":\"1066\",\"type\":\"Grid\"},{\"attributes\":{},\"id\":\"1112\",\"type\":\"BasicTicker\"},{\"attributes\":{},\"id\":\"1009\",\"type\":\"LinearScale\"},{\"attributes\":{\"ticker\":{\"id\":\"1058\",\"type\":\"BasicTicker\"}},\"id\":\"1061\",\"type\":\"Grid\"}],\"root_ids\":[\"1126\"]},\"title\":\"Bokeh Application\",\"version\":\"1.2.0\"}};\n",
       "  var render_items = [{\"docid\":\"0f9b3d80-ae7d-4f7a-be8b-37ae2e286547\",\"roots\":{\"1126\":\"27b53547-146d-4ef8-817b-b9a878e7a877\"}}];\n",
       "  root.Bokeh.embed.embed_items_notebook(docs_json, render_items);\n",
       "\n",
       "  }\n",
       "  if (root.Bokeh !== undefined) {\n",
       "    embed_document(root);\n",
       "  } else {\n",
       "    var attempts = 0;\n",
       "    var timer = setInterval(function(root) {\n",
       "      if (root.Bokeh !== undefined) {\n",
       "        embed_document(root);\n",
       "        clearInterval(timer);\n",
       "      }\n",
       "      attempts++;\n",
       "      if (attempts > 100) {\n",
       "        console.log(\"Bokeh: ERROR: Unable to run BokehJS code because BokehJS library is missing\");\n",
       "        clearInterval(timer);\n",
       "      }\n",
       "    }, 10, root)\n",
       "  }\n",
       "})(window);"
      ],
      "application/vnd.bokehjs_exec.v0+json": ""
     },
     "metadata": {
      "application/vnd.bokehjs_exec.v0+json": {
       "id": "1126"
      }
     },
     "output_type": "display_data"
    }
   ],
   "source": [
    "with Profiler() as prof, ResourceProfiler(dt=0.2) as rprof:\n",
    "    da_data[::50].mean(axis=0).compute()\n",
    "visualize([prof, rprof], save=False);"
   ]
  },
  {
   "cell_type": "markdown",
   "metadata": {
    "slideshow": {
     "slide_type": "slide"
    }
   },
   "source": [
    "## Dask Bag\n"
   ]
  },
  {
   "cell_type": "code",
   "execution_count": null,
   "metadata": {},
   "outputs": [],
   "source": [
    "import json\n",
    "import dask.bag as db\n",
    "\n",
    "data = db.read_text('db_data/*.json.gz')\n",
    "data.take(1)"
   ]
  },
  {
   "cell_type": "code",
   "execution_count": null,
   "metadata": {},
   "outputs": [],
   "source": [
    "data = data.map(json.loads)\n",
    "data.take(1)"
   ]
  },
  {
   "cell_type": "code",
   "execution_count": null,
   "metadata": {},
   "outputs": [],
   "source": [
    "promedio = data.pluck('duration').mean()\n",
    "promedio.visualize()"
   ]
  },
  {
   "cell_type": "code",
   "execution_count": null,
   "metadata": {
    "slideshow": {
     "slide_type": "slide"
    }
   },
   "outputs": [],
   "source": [
    "promedio.compute()"
   ]
  },
  {
   "cell_type": "markdown",
   "metadata": {
    "slideshow": {
     "slide_type": "slide"
    }
   },
   "source": [
    "## Dask Dataframe\n",
    "\n",
    "<div style=\"float: left; margin: 30px;\"><img src=\"imgs/dask-dataframe.svg\" width=\"300\" align=\"middle\"></div>\n"
   ]
  },
  {
   "cell_type": "markdown",
   "metadata": {
    "slideshow": {
     "slide_type": "slide"
    }
   },
   "source": [
    "**¿Cuando usarlo?**\n",
    "\n",
    "* El dataset no entra en memoria\n",
    "* Aprovechar todos los cores para calculos complejos\n",
    "* Distribuir operaciones comunes de pandas\n",
    "\n",
    "**¿Cuando NO usarlo?**\n",
    "\n",
    "* Los datos entran en memoria\n",
    "* Los datos no son tabulares\n",
    "* Se necesita hacer algún calculo no estandar"
   ]
  },
  {
   "cell_type": "code",
   "execution_count": null,
   "metadata": {
    "slideshow": {
     "slide_type": "slide"
    }
   },
   "outputs": [],
   "source": [
    "import dask.dataframe as dd\n",
    "\n",
    "df = dd.read_csv('dd_data/*.csv.gz', compression='gzip', blocksize=None)\n",
    "df"
   ]
  },
  {
   "cell_type": "code",
   "execution_count": null,
   "metadata": {
    "slideshow": {
     "slide_type": "slide"
    }
   },
   "outputs": [],
   "source": [
    "%%time\n",
    "promedios = df.groupby('month').duration.mean()\n",
    "promedios.compute()"
   ]
  },
  {
   "cell_type": "code",
   "execution_count": null,
   "metadata": {},
   "outputs": [],
   "source": [
    "%%time\n",
    "df_pandas = df.compute()\n",
    "df_pandas.groupby('month').duration.mean()"
   ]
  },
  {
   "cell_type": "markdown",
   "metadata": {
    "slideshow": {
     "slide_type": "slide"
    }
   },
   "source": [
    "## Delayed\n",
    "\n",
    "Permite la creación de grafos modificando levemente el código Python original"
   ]
  },
  {
   "cell_type": "code",
   "execution_count": null,
   "metadata": {
    "slideshow": {
     "slide_type": "slide"
    }
   },
   "outputs": [],
   "source": [
    "def inc(x):\n",
    "    return x + 1\n",
    "\n",
    "def double(x):\n",
    "    return x * 2\n",
    "\n",
    "def add(x, y):\n",
    "    return x + y\n",
    "\n",
    "output = []\n",
    "for x in range(1, 6):\n",
    "    a = inc(x)\n",
    "    b = double(x)\n",
    "    c = add(a, b)\n",
    "    output.append(c)\n",
    "\n",
    "total = sum(output)\n",
    "total"
   ]
  },
  {
   "cell_type": "code",
   "execution_count": null,
   "metadata": {
    "slideshow": {
     "slide_type": "slide"
    }
   },
   "outputs": [],
   "source": [
    "from dask import delayed\n",
    "\n",
    "@delayed\n",
    "def inc(x):\n",
    "    return x + 1\n",
    "\n",
    "output = []\n",
    "for x in range(1, 6):\n",
    "    a = inc(x)\n",
    "    b = delayed(double)(x)\n",
    "    c = delayed(add)(a, b)\n",
    "    output.append(c)\n",
    "\n",
    "total = delayed(sum)(output)\n",
    "total.visualize()"
   ]
  },
  {
   "cell_type": "code",
   "execution_count": null,
   "metadata": {
    "slideshow": {
     "slide_type": "slide"
    }
   },
   "outputs": [],
   "source": [
    "with Profiler() as prof:\n",
    "    print(total.compute())\n",
    "visualize([prof], save=False);"
   ]
  },
  {
   "cell_type": "markdown",
   "metadata": {
    "slideshow": {
     "slide_type": "slide"
    }
   },
   "source": [
    "## Referencias\n",
    "\n",
    "- Charla original: https://github.com/arielrossanigo/procesando_datos_en_paralelo_con_dask de **Ariel Rossanigo**\n",
    "- Video de la charla original: https://www.youtube.com/watch?v=APcUJOVrFlk\n",
    "\n"
   ]
  }
 ],
 "metadata": {
  "celltoolbar": "Slideshow",
  "kernelspec": {
   "display_name": "Python 3",
   "language": "python",
   "name": "python3"
  },
  "language_info": {
   "codemirror_mode": {
    "name": "ipython",
    "version": 3
   },
   "file_extension": ".py",
   "mimetype": "text/x-python",
   "name": "python",
   "nbconvert_exporter": "python",
   "pygments_lexer": "ipython3",
   "version": "3.7.5"
  }
 },
 "nbformat": 4,
 "nbformat_minor": 2
}
