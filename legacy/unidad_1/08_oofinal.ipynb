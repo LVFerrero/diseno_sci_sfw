{
 "cells": [
  {
   "cell_type": "markdown",
   "metadata": {
    "slideshow": {
     "slide_type": "slide"
    }
   },
   "source": [
    "\n",
    "# Diseño de software para cómputo científico\n",
    "\n",
    "----\n",
    "\n",
    "## Unidad 1: Cerrando\n"
   ]
  },
  {
   "cell_type": "markdown",
   "metadata": {
    "slideshow": {
     "slide_type": "slide"
    }
   },
   "source": [
    "### Agenda de la Unidad 1\n",
    "---\n",
    "\n",
    "- Clase 1:\n",
    "    - Diferencias entre alto y bajo nivel.\n",
    "    - Lenguajes dinámicos y estáticos.\n",
    "    \n",
    "- Limbo:\n",
    "    - Introducción al lenguaje Python.\n",
    "    - Librerías de cómputo científico.\n",
    "    \n",
    "- Clase Limbo + 1 y Limbo + 2:\n",
    "    - **Orientación a objetos**, decoradores."
   ]
  },
  {
   "cell_type": "markdown",
   "metadata": {
    "slideshow": {
     "slide_type": "slide"
    }
   },
   "source": [
    "## Classes en el mundo real\n",
    "----\n",
    "\n",
    "### namedtuples"
   ]
  },
  {
   "cell_type": "code",
   "execution_count": 5,
   "metadata": {},
   "outputs": [
    {
     "data": {
      "text/plain": [
       "Coso(a=1, b=2)"
      ]
     },
     "execution_count": 5,
     "metadata": {},
     "output_type": "execute_result"
    }
   ],
   "source": [
    "from collections import namedtuple\n",
    "\n",
    "Coso = namedtuple(\"Coso\", [\"a\", \"b\"])\n",
    "\n",
    "c  = Coso(a=1, b=2)\n",
    "c"
   ]
  },
  {
   "cell_type": "code",
   "execution_count": null,
   "metadata": {},
   "outputs": [],
   "source": []
  },
  {
   "cell_type": "code",
   "execution_count": null,
   "metadata": {},
   "outputs": [],
   "source": []
  },
  {
   "cell_type": "markdown",
   "metadata": {
    "slideshow": {
     "slide_type": "slide"
    }
   },
   "source": [
    "## Classes en el mundo real\n",
    "----\n",
    "\n",
    "### dataclass"
   ]
  },
  {
   "cell_type": "code",
   "execution_count": 6,
   "metadata": {},
   "outputs": [],
   "source": [
    "import dataclasses\n",
    "\n",
    "@dataclasses.dataclass\n",
    "class InventoryItem:\n",
    "    '''Class for keeping track of an item in inventory.'''\n",
    "    name: str\n",
    "    unit_price: float\n",
    "    quantity_on_hand: int = 0"
   ]
  },
  {
   "cell_type": "code",
   "execution_count": 7,
   "metadata": {},
   "outputs": [
    {
     "data": {
      "text/plain": [
       "InventoryItem(name='tito', unit_price=43, quantity_on_hand=0)"
      ]
     },
     "execution_count": 7,
     "metadata": {},
     "output_type": "execute_result"
    }
   ],
   "source": [
    "InventoryItem(name=\"tito\", unit_price=43)"
   ]
  },
  {
   "cell_type": "code",
   "execution_count": null,
   "metadata": {
    "slideshow": {
     "slide_type": "fragment"
    }
   },
   "outputs": [],
   "source": [
    "InventoryItem(name=23, unit_price=43)"
   ]
  },
  {
   "cell_type": "markdown",
   "metadata": {
    "slideshow": {
     "slide_type": "slide"
    }
   },
   "source": [
    "## Classes en el mundo real\n",
    "----\n",
    "\n",
    "### attrs"
   ]
  },
  {
   "cell_type": "code",
   "execution_count": null,
   "metadata": {},
   "outputs": [],
   "source": [
    "!pip install attrs -U"
   ]
  },
  {
   "cell_type": "code",
   "execution_count": 9,
   "metadata": {},
   "outputs": [
    {
     "data": {
      "text/plain": [
       "SomeClass(a_number=1, list_of_numbers={1, 2, 3})"
      ]
     },
     "execution_count": 9,
     "metadata": {},
     "output_type": "execute_result"
    }
   ],
   "source": [
    "import attr\n",
    "\n",
    "@attr.s\n",
    "class SomeClass(object):\n",
    "    a_number = attr.ib(default=42)\n",
    "    list_of_numbers: list = attr.ib(factory=list)\n",
    "    \n",
    "    @a_number.validator\n",
    "    def must_be_a_number(self, attribute, value):\n",
    "        if not isinstance(value, (int, float)):\n",
    "            raise TypeError()\n",
    "            \n",
    "    def hard_math(self, another_number):\n",
    "        return self.a_number + sum(self.list_of_numbers) * another_number\n",
    "\n",
    "sc = SomeClass(1, {1, 2, 3})\n",
    "sc"
   ]
  },
  {
   "cell_type": "code",
   "execution_count": null,
   "metadata": {},
   "outputs": [],
   "source": [
    "sc.hard_math(23)"
   ]
  }
 ],
 "metadata": {
  "celltoolbar": "Slideshow",
  "kernelspec": {
   "display_name": "Python 3",
   "language": "python",
   "name": "python3"
  },
  "language_info": {
   "codemirror_mode": {
    "name": "ipython",
    "version": 3
   },
   "file_extension": ".py",
   "mimetype": "text/x-python",
   "name": "python",
   "nbconvert_exporter": "python",
   "pygments_lexer": "ipython3",
   "version": "3.8.2"
  }
 },
 "nbformat": 4,
 "nbformat_minor": 4
}
