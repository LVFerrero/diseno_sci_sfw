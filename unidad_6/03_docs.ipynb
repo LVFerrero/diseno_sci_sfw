{
 "cells": [
  {
   "cell_type": "markdown",
   "metadata": {
    "slideshow": {
     "slide_type": "slide"
    }
   },
   "source": [
    "\n",
    "# Diseño de software para cómputo científico\n",
    "\n",
    "----\n",
    "\n",
    "## Unidad 6: Documentación\n"
   ]
  },
  {
   "cell_type": "markdown",
   "metadata": {
    "slideshow": {
     "slide_type": "slide"
    }
   },
   "source": [
    "## Slides\n",
    "\n",
    "- Aun no adaptado usamos las originales"
   ]
  },
  {
   "cell_type": "markdown",
   "metadata": {
    "slideshow": {
     "slide_type": "slide"
    }
   },
   "source": [
    "## Como usar sphinx\n",
    "\n",
    "```bash\n",
    "$ pip install sphinx\n",
    "$ mkdir docs\n",
    "$ cd docs\n",
    "$ sphinx-quistart\n",
    "```\n",
    "\n",
    "- Editar el conf.py y despues `$ make html`\n",
    "- El build se crea en `build/html/index.html`\n"
   ]
  },
  {
   "cell_type": "markdown",
   "metadata": {
    "slideshow": {
     "slide_type": "slide"
    }
   },
   "source": [
    "## Como usar sphinx\n",
    "\n",
    "```bash\n",
    "$ sphinx-apidoc <SOURCE_DIR> -o source/api\n",
    "```\n",
    "\n",
    "- Entrart a source/api y editar todo para que quede como corresponda\n",
    "- Finalmente crear un ``docs/requirements.txt`` propio para la documentación."
   ]
  },
  {
   "cell_type": "markdown",
   "metadata": {
    "slideshow": {
     "slide_type": "slide"
    }
   },
   "source": [
    "## Referencias\n",
    "\n",
    "- Slides: https://speakerd.s3.amazonaws.com/presentations/2a01201503494a46b449087a0069ac06/Introduction_to_Sphinx_and_Read_the_Docs.pdf"
   ]
  },
  {
   "cell_type": "code",
   "execution_count": null,
   "metadata": {},
   "outputs": [],
   "source": []
  }
 ],
 "metadata": {
  "celltoolbar": "Slideshow",
  "kernelspec": {
   "display_name": "Python 3",
   "language": "python",
   "name": "python3"
  },
  "language_info": {
   "codemirror_mode": {
    "name": "ipython",
    "version": 3
   },
   "file_extension": ".py",
   "mimetype": "text/x-python",
   "name": "python",
   "nbconvert_exporter": "python",
   "pygments_lexer": "ipython3",
   "version": "3.7.5"
  }
 },
 "nbformat": 4,
 "nbformat_minor": 2
}
