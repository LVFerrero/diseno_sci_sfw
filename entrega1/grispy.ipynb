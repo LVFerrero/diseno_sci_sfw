{
 "cells": [
  {
   "cell_type": "markdown",
   "metadata": {},
   "source": [
    "# Devoluciónn GriSPy\n",
    "\n",
    "- **Repository:** https://github.com/mchalela/GriSPy\n",
    "- **Fecha:** 2019/10/02"
   ]
  },
  {
   "cell_type": "markdown",
   "metadata": {},
   "source": [
    "## Requerimientos\n",
    "\n",
    "### Código completo y funcional (python 3.7).\n",
    "\n",
    "- El [README.md](https://github.com/mchalela/GriSPy/blob/master/README.md) no establece cuál es la versión de python a correr. \n",
    "- [tox.ini](https://github.com/mchalela/GriSPy/blob/master/tox.ini) Establece un ambiente de trabajo con py3.7\n",
    "\n",
    "## Testing completo.\n",
    "\n",
    "- `tox -e py37` funciona (44 passed, 1 warnings).\n",
    "- `tox -e py37 -- -v` funciona.\n",
    "- Hay un \"warning\" a corregir en `gripy.py:612` (44 passed, 1 warnings).\n",
    "    \n",
    "```pytest\n",
    "================== warnings summary ==================\n",
    "tests/test_data_consistency.py::Test_data_consistency::test_nearest_neighbors_multiple_query\n",
    "  /home/juan/proyectos/grispy/src/grispy.py:612: RuntimeWarning: divide by zero encountered in true_divide\n",
    "    mean_distance = 0.5 * (n / (neighbors_number / cell_volume)) ** (\n",
    "-- Docs: https://docs.pytest.org/en/latest/warnings.html\n",
    "================== 44 passed, 1 warnings ==================\n",
    "```\n",
    "    \n",
    "### Archivos LICENSE, README, tox.ini, setup.py y ez_setup.py\n",
    "\n",
    "- [LICENSE](https://github.com/mchalela/GriSPy/blob/master/LICENSE): MIT\n",
    "- [README.md](https://github.com/mchalela/GriSPy/blob/master/README.md): \n",
    "    - Agregar instrucciones de instalación. \n",
    "    - Establecer versión de python mínima.\n",
    "    - Agregar autores y algo de instalación.\n",
    "    - Ver [pycf3 README](https://github.com/quatrope/pycf3/blob/master/README.rst)\n",
    "- [setup.py](https://github.com/mchalela/GriSPy/blob/master/setup.py):\n",
    "- [ez_setup.py](https://github.com/mchalela/GriSPy/blob/master/ez_setup.py): OK\n",
    "\n",
    "\n",
    "### Tox tiene que tener:\n",
    "\n",
    "- Si o si py 3.7: Pasa\n",
    "- Coverage >= 80%: 97%\n",
    "- Flake 8 completo: Funciona **pero** hay un error ignorado *f841*. Al deshabilitarlo sucede esto\n",
    "\n",
    "```\n",
    "tox -e style\n",
    "style installed: entrypoints==0.3,flake8==3.7.8,grispy==2019.9,mccabe==0.6.1,pycodestyle==2.5.0,pyflakes==2.1.1\n",
    "style run-test-pre: PYTHONHASHSEED='715230996'\n",
    "style run-test: commands[0] | flake8 setup.py grispy.py utils.py ./tests --ignore=E402\n",
    "./tests/test_data_consistency.py:179:9: F841 local variable 'gsp' is assigned to but never used\n",
    "./tests/test_data_consistency.py:193:9: F841 local variable 'gsp' is assigned to but never used\n",
    "./tests/test_data_consistency.py:207:9: F841 local variable 'gsp' is assigned to but never used\n",
    "./tests/test_data_consistency.py:221:9: F841 local variable 'gsp' is assigned to but never used\n",
    "./tests/test_data_consistency.py:357:13: F841 local variable 'gsp' is assigned to but never used\n",
    "./tests/test_data_consistency.py:413:13: F841 local variable 'gsp' is assigned to but never used\n",
    "./tests/test_data_consistency.py:436:13: F841 local variable 'gsp' is assigned to but never used\n",
    "./tests/test_data_consistency.py:459:13: F841 local variable 'gsp' is assigned to but never used\n",
    "./tests/test_data_consistency.py:471:13: F841 local variable 'gsp' is assigned to but never used\n",
    "./tests/test_io.py:68:13: F841 local variable 'gsp_tmp' is assigned to but never used\n",
    "./tests/test_io.py:113:13: F841 local variable 'gsp' is assigned to but never used\n",
    "```\n",
    "\n",
    "Arreglar todo eso\n",
    "\n",
    "\n",
    "## Notas.\n",
    "\n",
    "- Si van a usar `setup.py` eliminen el `requirements.txt`\n",
    "- O integran `utils.py` dentro de su clase, **O** crean un paquete. Por que actualmente cuando ustedes hacen `pip install .` No sólo instalan el paquete grispy sino también utils (y probablemente pisen otro utils)\n",
    "- Corregir todos los tests de `test_io.py` para que nunca escriban archivos reales. Utilicen `stringio` o `mock`"
   ]
  },
  {
   "cell_type": "code",
   "execution_count": null,
   "metadata": {},
   "outputs": [],
   "source": []
  }
 ],
 "metadata": {
  "kernelspec": {
   "display_name": "Python 3",
   "language": "python",
   "name": "python3"
  },
  "language_info": {
   "codemirror_mode": {
    "name": "ipython",
    "version": 3
   },
   "file_extension": ".py",
   "mimetype": "text/x-python",
   "name": "python",
   "nbconvert_exporter": "python",
   "pygments_lexer": "ipython3",
   "version": "3.7.3"
  }
 },
 "nbformat": 4,
 "nbformat_minor": 2
}
