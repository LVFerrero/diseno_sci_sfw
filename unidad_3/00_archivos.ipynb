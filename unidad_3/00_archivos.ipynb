{
 "cells": [
  {
   "cell_type": "markdown",
   "metadata": {
    "slideshow": {
     "slide_type": "slide"
    }
   },
   "source": [
    "\n",
    "# Diseño de software para cómputo científico\n",
    "\n",
    "----\n",
    "\n",
    "## Unidad 3: Persistencia de datos.\n"
   ]
  },
  {
   "cell_type": "markdown",
   "metadata": {
    "slideshow": {
     "slide_type": "slide"
    }
   },
   "source": [
    "### Agenda de la Unidad 3\n",
    "---\n",
    "\n",
    "#### Clase 1\n",
    "- Lectura y escritura de archivos.\n",
    "- Persistencia de binarios en Python (pickle).\n",
    "- Archivos INI/CFG, CSV, JSON, XML y YAML\n",
    "\n",
    "#### Clase 2\n",
    "- Bases de datos relacionales y SQL.\n",
    "\n",
    "### Clase 3\n",
    "\n",
    "- Formato HDF5.\n",
    "- Breve repaso de bases de datos No relacionales."
   ]
  },
  {
   "cell_type": "markdown",
   "metadata": {
    "slideshow": {
     "slide_type": "slide"
    }
   },
   "source": [
    "## Lectura y escritura de archivos\n",
    "\n",
    "- Python ofrece los objetos para la interacción con archivos de texto dentro del módulo `io`.\n",
    "- Para crear abrir un archivo se utiliza la función `open()`."
   ]
  },
  {
   "cell_type": "code",
   "execution_count": 13,
   "metadata": {},
   "outputs": [],
   "source": [
    "try:\n",
    "    fp = open(\"code/archivo.txt\")\n",
    "    fp.read()\n",
    "finally:\n",
    "    if not fp.closed:\n",
    "        fp.close()    "
   ]
  },
  {
   "cell_type": "code",
   "execution_count": 14,
   "metadata": {},
   "outputs": [],
   "source": [
    "with open(\"code/archivo.txt\") as fp:\n",
    "    fp.read()"
   ]
  },
  {
   "cell_type": "markdown",
   "metadata": {
    "slideshow": {
     "slide_type": "slide"
    }
   },
   "source": [
    "## Lectura y escritura de archivos\n",
    "\n",
    "- Por defecto `open()`abre los archivos en modo lectura (`r`), y con encoding `utf-8`"
   ]
  },
  {
   "cell_type": "code",
   "execution_count": 15,
   "metadata": {},
   "outputs": [
    {
     "data": {
      "text/plain": [
       "<_io.TextIOWrapper name='code/archivo.txt' mode='r' encoding='UTF-8'>"
      ]
     },
     "execution_count": 15,
     "metadata": {},
     "output_type": "execute_result"
    }
   ],
   "source": [
    "open(\"code/archivo.txt\")"
   ]
  },
  {
   "cell_type": "markdown",
   "metadata": {},
   "source": [
    "<small>\n",
    "<code>\n",
    "========= ===============================================================\n",
    "Character Meaning\n",
    "--------- ---------------------------------------------------------------\n",
    "'r'       open for reading (default)\n",
    "'w'       open for writing, truncating the file first\n",
    "'x'       create a new file and open it for writing\n",
    "'a'       open for writing, appending to the end of the file if it exists\n",
    "'b'       binary mode\n",
    "'t'       text mode (default)\n",
    "'+'       open a disk file for updating (reading and writing)\n",
    "'U'       universal newline mode (deprecated)\n",
    "========= ===============================================================\n",
    "</code>\n",
    "</small>"
   ]
  },
  {
   "cell_type": "markdown",
   "metadata": {
    "slideshow": {
     "slide_type": "slide"
    }
   },
   "source": [
    "### Pickle\n",
    "\n",
    "- El módulo pickle implementa protocolos binarios para serializar y deserializar una estructura de objeto Python.\n",
    "- Esencialmente lo que hace es guardar estado.\n",
    "- No puede serializar clases generadas dinámicamente"
   ]
  },
  {
   "cell_type": "code",
   "execution_count": 16,
   "metadata": {},
   "outputs": [],
   "source": [
    "class Persona(): pass\n",
    "\n",
    "p = Persona()\n",
    "obj = {\"Hola\": \"Mundo\", \"Un-Objecto\": p}"
   ]
  },
  {
   "cell_type": "code",
   "execution_count": 20,
   "metadata": {},
   "outputs": [
    {
     "data": {
      "text/plain": [
       "b'\\x80\\x03}q\\x00(X\\x04\\x00\\x00\\x00Holaq\\x01X\\x05\\x00\\x00\\x00Mundoq\\x02X\\n\\x00\\x00\\x00Un-Objectoq\\x03c__main__\\nPersona\\nq\\x04)\\x81q\\x05u.'"
      ]
     },
     "execution_count": 20,
     "metadata": {},
     "output_type": "execute_result"
    }
   ],
   "source": [
    "import pickle\n",
    "\n",
    "pickle.dumps(obj)"
   ]
  },
  {
   "cell_type": "markdown",
   "metadata": {
    "slideshow": {
     "slide_type": "slide"
    }
   },
   "source": [
    "### Pickle\n",
    "\n",
    "Hay 4 APIS importantes \n",
    "\n",
    "1. `load`: Lee de un archivo\n",
    "2. `loads`: Lee de un string\n",
    "3. `dump`: Escribe a un archivo \n",
    "4. `dumps`: Retorna un string\n",
    "\n",
    "Los archivos se abren en formato binario (`open(\"...\", mode=\"b\")`)"
   ]
  },
  {
   "cell_type": "markdown",
   "metadata": {
    "slideshow": {
     "slide_type": "slide"
    }
   },
   "source": [
    "### CSV\n",
    "\n",
    "- Los archivos CSV (del inglés comma-separated values) son un tipo de documento en formato abierto sencillo para representar datos en forma de tabla, en las que las columnas se separan por comas (o cualquier otro caracter)\n",
    "- El formato CSV es muy sencillo y no indica un juego de caracteres concreto.\n",
    "- **NO ES UN ESTANDAR Y DEBE SER EVITADO***\n",
    "\n",
    "Librerías utiles para tratar estos formatos son:\n",
    "\n",
    "- Numpy (`np.readtable`)\n",
    "- Pandas (`pd.from_csv`)\n",
    "- unicodecsv\n",
    "\n",
    "En la librería estandar ya viene el módulo `csv` pero no es muy util frente a texto unicode"
   ]
  },
  {
   "cell_type": "markdown",
   "metadata": {
    "slideshow": {
     "slide_type": "subslide"
    }
   },
   "source": [
    "### CSV - unicodecsv"
   ]
  },
  {
   "cell_type": "markdown",
   "metadata": {
    "slideshow": {
     "slide_type": "subslide"
    }
   },
   "source": [
    "### CSV - NumPy"
   ]
  },
  {
   "cell_type": "markdown",
   "metadata": {
    "slideshow": {
     "slide_type": "subslide"
    }
   },
   "source": [
    "### CSV - Pandas"
   ]
  },
  {
   "cell_type": "code",
   "execution_count": null,
   "metadata": {},
   "outputs": [],
   "source": []
  }
 ],
 "metadata": {
  "celltoolbar": "Slideshow",
  "kernelspec": {
   "display_name": "Python 3",
   "language": "python",
   "name": "python3"
  },
  "language_info": {
   "codemirror_mode": {
    "name": "ipython",
    "version": 3
   },
   "file_extension": ".py",
   "mimetype": "text/x-python",
   "name": "python",
   "nbconvert_exporter": "python",
   "pygments_lexer": "ipython3",
   "version": "3.7.3"
  }
 },
 "nbformat": 4,
 "nbformat_minor": 2
}
